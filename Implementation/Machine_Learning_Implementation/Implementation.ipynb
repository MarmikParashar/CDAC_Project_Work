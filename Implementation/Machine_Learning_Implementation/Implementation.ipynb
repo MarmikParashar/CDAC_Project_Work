{
  "cells": [
    {
      "cell_type": "code",
      "execution_count": null,
      "id": "621009ac",
      "metadata": {
        "_cell_guid": "b1076dfc-b9ad-4769-8c92-a6c4dae69d19",
        "_uuid": "8f2839f25d086af736a60e9eeb907d3b93b6e0e5",
        "colab": {
          "base_uri": "https://localhost:8080/"
        },
        "execution": {
          "iopub.execute_input": "2024-10-30T17:40:33.341514Z",
          "iopub.status.busy": "2024-10-30T17:40:33.341088Z",
          "iopub.status.idle": "2024-10-30T17:40:34.294221Z",
          "shell.execute_reply": "2024-10-30T17:40:34.292920Z"
        },
        "id": "621009ac",
        "outputId": "a1b737f4-c97f-4ebf-cc2f-132f8e6e9e50",
        "papermill": {
          "duration": 0.977638,
          "end_time": "2024-10-30T17:40:34.296734",
          "exception": false,
          "start_time": "2024-10-30T17:40:33.319096",
          "status": "completed"
        },
        "tags": []
      },
      "outputs": [],
      "source": [
        "!pip install tbats\n"
      ]
    },
    {
      "cell_type": "code",
      "execution_count": null,
      "id": "shiildSrlZAy",
      "metadata": {
        "colab": {
          "base_uri": "https://localhost:8080/"
        },
        "id": "shiildSrlZAy",
        "outputId": "70db2c48-9ef7-4fd2-f8fe-3d757685dc91"
      },
      "outputs": [],
      "source": [
        "!pip install pmdarima\n"
      ]
    },
    {
      "cell_type": "code",
      "execution_count": null,
      "id": "Lrd9YfzbGa1N",
      "metadata": {
        "id": "Lrd9YfzbGa1N"
      },
      "outputs": [],
      "source": []
    },
    {
      "cell_type": "code",
      "execution_count": null,
      "id": "lAfdeVhTGbjw",
      "metadata": {
        "colab": {
          "base_uri": "https://localhost:8080/"
        },
        "id": "lAfdeVhTGbjw",
        "outputId": "68215406-f386-4a48-88a5-5ca371aeda50"
      },
      "outputs": [],
      "source": [
        "# from google.colab import drive\n",
        "# drive.mount('/content/drive')\n"
      ]
    },
    {
      "cell_type": "markdown",
      "id": "c43d24c6",
      "metadata": {
        "id": "c43d24c6",
        "papermill": {
          "duration": 0.017928,
          "end_time": "2024-10-30T17:40:59.564206",
          "exception": false,
          "start_time": "2024-10-30T17:40:59.546278",
          "status": "completed"
        },
        "tags": []
      },
      "source": [
        "## Importing Libraries"
      ]
    },
    {
      "cell_type": "code",
      "execution_count": null,
      "id": "02680025",
      "metadata": {
        "execution": {
          "iopub.execute_input": "2024-10-30T17:40:59.602473Z",
          "iopub.status.busy": "2024-10-30T17:40:59.602041Z",
          "iopub.status.idle": "2024-10-30T17:41:03.572156Z",
          "shell.execute_reply": "2024-10-30T17:41:03.571095Z"
        },
        "id": "02680025",
        "papermill": {
          "duration": 3.992436,
          "end_time": "2024-10-30T17:41:03.574821",
          "exception": false,
          "start_time": "2024-10-30T17:40:59.582385",
          "status": "completed"
        },
        "tags": []
      },
      "outputs": [],
      "source": [
        "# Standard library imports\n",
        "import os\n",
        "import pickle\n",
        "\n",
        "# Third-party library imports\n",
        "import numpy as np  # Numerical operations\n",
        "import pandas as pd  # Data manipulation and analysis\n",
        "import matplotlib.pyplot as plt  # Plotting\n",
        "import seaborn as sns  # Statistical data visualization\n",
        "\n",
        "# Scikit-learn imports for preprocessing and model evaluation\n",
        "from sklearn.preprocessing import RobustScaler, StandardScaler, MinMaxScaler  # Data scaling\n",
        "from sklearn.model_selection import train_test_split  # Splitting data into train and test sets\n",
        "from sklearn.metrics import mean_squared_error  # Model evaluation metric\n",
        "\n",
        "# Statsmodels imports for time series analysis\n",
        "from statsmodels.tsa.stattools import adfuller, kpss  # Statistical tests for stationarity\n",
        "from statsmodels.tsa.arima.model import ARIMA  # ARIMA model\n",
        "from statsmodels.tsa.statespace.sarimax import SARIMAX  # SARIMAX model\n",
        "import statsmodels.api as sm  # General statsmodels API\n",
        "\n",
        "# Pmdarima imports for automated ARIMA modeling\n",
        "from pmdarima import auto_arima\n",
        "import pmdarima as pm\n",
        "\n",
        "# TBATS model for time series forecasting\n",
        "from tbats import TBATS\n",
        "import plotly.graph_objects as go\n",
        "import plotly.express as px\n",
        "import plotly.graph_objects as go\n",
        "from plotly.subplots import make_subplots\n",
        "import plotly.express as px\n",
        "from sklearn.metrics import mean_squared_error, mean_absolute_error, r2_score\n"
      ]
    },
    {
      "cell_type": "code",
      "execution_count": null,
      "id": "e644279a",
      "metadata": {
        "id": "e644279a"
      },
      "outputs": [],
      "source": [
        "import warnings\n",
        "warnings.filterwarnings(\"ignore\")\n"
      ]
    },
    {
      "cell_type": "markdown",
      "id": "b186bd5f",
      "metadata": {
        "id": "b186bd5f",
        "papermill": {
          "duration": 0.017953,
          "end_time": "2024-10-30T17:41:03.611107",
          "exception": false,
          "start_time": "2024-10-30T17:41:03.593154",
          "status": "completed"
        },
        "tags": []
      },
      "source": [
        "## Load your dataset"
      ]
    },
    {
      "cell_type": "code",
      "execution_count": null,
      "id": "c193a1e6",
      "metadata": {
        "execution": {
          "iopub.execute_input": "2024-10-30T17:41:03.649952Z",
          "iopub.status.busy": "2024-10-30T17:41:03.648633Z",
          "iopub.status.idle": "2024-10-30T17:41:03.835679Z",
          "shell.execute_reply": "2024-10-30T17:41:03.834470Z"
        },
        "id": "c193a1e6",
        "papermill": {
          "duration": 0.209272,
          "end_time": "2024-10-30T17:41:03.838458",
          "exception": false,
          "start_time": "2024-10-30T17:41:03.629186",
          "status": "completed"
        },
        "tags": []
      },
      "outputs": [],
      "source": [
        "data = pd.read_csv('../../DataSet/expanded_dataset.csv')\n"
      ]
    },
    {
      "cell_type": "markdown",
      "id": "d1f98f49",
      "metadata": {
        "id": "d1f98f49",
        "papermill": {
          "duration": 0.018162,
          "end_time": "2024-10-30T17:41:03.874917",
          "exception": false,
          "start_time": "2024-10-30T17:41:03.856755",
          "status": "completed"
        },
        "tags": []
      },
      "source": [
        "### Look at Dataset"
      ]
    },
    {
      "cell_type": "code",
      "execution_count": null,
      "id": "c63e3f72",
      "metadata": {
        "colab": {
          "base_uri": "https://localhost:8080/",
          "height": 400
        },
        "execution": {
          "iopub.execute_input": "2024-10-30T17:41:03.913240Z",
          "iopub.status.busy": "2024-10-30T17:41:03.912828Z",
          "iopub.status.idle": "2024-10-30T17:41:03.949974Z",
          "shell.execute_reply": "2024-10-30T17:41:03.948766Z"
        },
        "id": "c63e3f72",
        "outputId": "aa6e0870-d001-4531-dc18-216a8815729a",
        "papermill": {
          "duration": 0.05941,
          "end_time": "2024-10-30T17:41:03.952440",
          "exception": false,
          "start_time": "2024-10-30T17:41:03.893030",
          "status": "completed"
        },
        "tags": []
      },
      "outputs": [],
      "source": [
        "data.sample(5)\n"
      ]
    },
    {
      "cell_type": "markdown",
      "id": "4f48bc86",
      "metadata": {
        "id": "4f48bc86",
        "papermill": {
          "duration": 0.018309,
          "end_time": "2024-10-30T17:41:03.989099",
          "exception": false,
          "start_time": "2024-10-30T17:41:03.970790",
          "status": "completed"
        },
        "tags": []
      },
      "source": [
        "#### Converting  'Datetime' column to datetime"
      ]
    },
    {
      "cell_type": "code",
      "execution_count": null,
      "id": "122a1885",
      "metadata": {
        "execution": {
          "iopub.execute_input": "2024-10-30T17:41:04.028012Z",
          "iopub.status.busy": "2024-10-30T17:41:04.027551Z",
          "iopub.status.idle": "2024-10-30T17:41:04.215143Z",
          "shell.execute_reply": "2024-10-30T17:41:04.213763Z"
        },
        "id": "122a1885",
        "papermill": {
          "duration": 0.210064,
          "end_time": "2024-10-30T17:41:04.217864",
          "exception": false,
          "start_time": "2024-10-30T17:41:04.007800",
          "status": "completed"
        },
        "tags": []
      },
      "outputs": [],
      "source": [
        "# data['Datetime'] = pd.to_datetime(data['Datetime'], format='%m/%d/%Y %H:%M', dayfirst=True)\n",
        "data['Datetime'] = pd.to_datetime(data['Datetime'],  errors='coerce')\n",
        "# format='%Y-%m-%d %H:%M:%S',\n"
      ]
    },
    {
      "cell_type": "markdown",
      "id": "662eb280",
      "metadata": {
        "id": "662eb280",
        "papermill": {
          "duration": 0.017945,
          "end_time": "2024-10-30T17:41:04.254948",
          "exception": false,
          "start_time": "2024-10-30T17:41:04.237003",
          "status": "completed"
        },
        "tags": []
      },
      "source": [
        "Set the 'Dates' column as the index"
      ]
    },
    {
      "cell_type": "code",
      "execution_count": null,
      "id": "8ef7215f",
      "metadata": {
        "execution": {
          "iopub.execute_input": "2024-10-30T17:41:04.293334Z",
          "iopub.status.busy": "2024-10-30T17:41:04.292870Z",
          "iopub.status.idle": "2024-10-30T17:41:04.300726Z",
          "shell.execute_reply": "2024-10-30T17:41:04.299547Z"
        },
        "id": "8ef7215f",
        "papermill": {
          "duration": 0.030234,
          "end_time": "2024-10-30T17:41:04.303362",
          "exception": false,
          "start_time": "2024-10-30T17:41:04.273128",
          "status": "completed"
        },
        "tags": []
      },
      "outputs": [],
      "source": [
        "data.set_index('Datetime', inplace=True)\n"
      ]
    },
    {
      "cell_type": "code",
      "execution_count": null,
      "id": "ca0c0a79",
      "metadata": {
        "execution": {
          "iopub.execute_input": "2024-10-30T17:41:04.342322Z",
          "iopub.status.busy": "2024-10-30T17:41:04.341885Z",
          "iopub.status.idle": "2024-10-30T17:41:04.349873Z",
          "shell.execute_reply": "2024-10-30T17:41:04.348868Z"
        },
        "id": "ca0c0a79",
        "papermill": {
          "duration": 0.02986,
          "end_time": "2024-10-30T17:41:04.352257",
          "exception": false,
          "start_time": "2024-10-30T17:41:04.322397",
          "status": "completed"
        },
        "tags": []
      },
      "outputs": [],
      "source": [
        "data['TotalPowerConsumption']= data['PowerConsumption_Zone1'] + data['PowerConsumption_Zone2'] + data['PowerConsumption_Zone3']\n"
      ]
    },
    {
      "cell_type": "code",
      "execution_count": null,
      "id": "b8bb23c0",
      "metadata": {
        "execution": {
          "iopub.execute_input": "2024-10-30T17:41:04.391030Z",
          "iopub.status.busy": "2024-10-30T17:41:04.390626Z",
          "iopub.status.idle": "2024-10-30T17:41:04.398412Z",
          "shell.execute_reply": "2024-10-30T17:41:04.397283Z"
        },
        "id": "b8bb23c0",
        "papermill": {
          "duration": 0.030072,
          "end_time": "2024-10-30T17:41:04.400868",
          "exception": false,
          "start_time": "2024-10-30T17:41:04.370796",
          "status": "completed"
        },
        "tags": []
      },
      "outputs": [],
      "source": [
        "data= data.drop(['PowerConsumption_Zone1','PowerConsumption_Zone2','PowerConsumption_Zone3'],axis=1)\n"
      ]
    },
    {
      "cell_type": "markdown",
      "id": "686cbc16",
      "metadata": {
        "id": "686cbc16",
        "papermill": {
          "duration": 0.017885,
          "end_time": "2024-10-30T17:41:04.436899",
          "exception": false,
          "start_time": "2024-10-30T17:41:04.419014",
          "status": "completed"
        },
        "tags": []
      },
      "source": [
        "## Checking for Missing values"
      ]
    },
    {
      "cell_type": "code",
      "execution_count": null,
      "id": "2a16f946",
      "metadata": {
        "colab": {
          "base_uri": "https://localhost:8080/",
          "height": 272
        },
        "execution": {
          "iopub.execute_input": "2024-10-30T17:41:04.475069Z",
          "iopub.status.busy": "2024-10-30T17:41:04.474645Z",
          "iopub.status.idle": "2024-10-30T17:41:04.484852Z",
          "shell.execute_reply": "2024-10-30T17:41:04.483547Z"
        },
        "id": "2a16f946",
        "outputId": "57392615-21fc-4a67-c8ab-9471040b1734",
        "papermill": {
          "duration": 0.032338,
          "end_time": "2024-10-30T17:41:04.487454",
          "exception": false,
          "start_time": "2024-10-30T17:41:04.455116",
          "status": "completed"
        },
        "tags": []
      },
      "outputs": [],
      "source": [
        "data.isnull().sum()\n"
      ]
    },
    {
      "cell_type": "code",
      "execution_count": null,
      "id": "Zg81CO2HDBEC",
      "metadata": {
        "colab": {
          "base_uri": "https://localhost:8080/",
          "height": 238
        },
        "id": "Zg81CO2HDBEC",
        "outputId": "3fa045b8-7630-413c-b6c8-d695a3f9e645"
      },
      "outputs": [],
      "source": [
        "data.tail()\n"
      ]
    },
    {
      "cell_type": "code",
      "execution_count": null,
      "id": "c9a515ef",
      "metadata": {
        "colab": {
          "base_uri": "https://localhost:8080/"
        },
        "id": "c9a515ef",
        "outputId": "ea955609-c116-495a-c475-b05f6799db7e"
      },
      "outputs": [],
      "source": [
        "print('Index frequency:', pd.infer_freq(data.index)) #https://pandas.pydata.org/pandas-docs/stable/user_guide/timeseries.html#offset-aliases\n",
        "print('Number of missing values:', data.isnull().sum())\n"
      ]
    },
    {
      "cell_type": "code",
      "execution_count": null,
      "id": "fc3157ca",
      "metadata": {
        "id": "fc3157ca"
      },
      "outputs": [],
      "source": []
    },
    {
      "cell_type": "code",
      "execution_count": null,
      "id": "257f7d1c",
      "metadata": {
        "id": "257f7d1c"
      },
      "outputs": [],
      "source": [
        "from plotly.subplots import make_subplots\n",
        "import plotly.graph_objects as go\n",
        "\n",
        "def plot_numeric_boxplots(df, cols_per_row=3):\n",
        "    \"\"\"\n",
        "    Create box plots for numeric columns in a DataFrame, arranged in multiple rows.\n",
        "\n",
        "    Parameters:\n",
        "        df (DataFrame): The input DataFrame.\n",
        "        cols_per_row (int): Number of plots per row.\n",
        "\n",
        "    Returns:\n",
        "        None\n",
        "    \"\"\"\n",
        "    # Select numeric columns\n",
        "    numeric_cols = df.select_dtypes(include='number')\n",
        "    num_cols = len(numeric_cols.columns)\n",
        "    rows = (num_cols // cols_per_row) + (num_cols % cols_per_row > 0)\n",
        "\n",
        "    # Create subplots\n",
        "    fig = make_subplots(\n",
        "        rows=rows, cols=cols_per_row,\n",
        "        subplot_titles=numeric_cols.columns\n",
        "    )\n",
        "\n",
        "    # Add box plot traces\n",
        "    for i, col in enumerate(numeric_cols.columns):\n",
        "        row = (i // cols_per_row) + 1\n",
        "        col_position = (i % cols_per_row) + 1\n",
        "        fig.add_trace(\n",
        "            go.Box(y=numeric_cols[col], name=col, boxmean=True),\n",
        "            row=row, col=col_position\n",
        "        )\n",
        "\n",
        "    # Update layout\n",
        "    fig.update_layout(\n",
        "        height=rows * 400,  # Adjust height dynamically based on the number of rows\n",
        "        width=cols_per_row * 200,\n",
        "        title_text=\"Box Plots for Numeric Columns\",\n",
        "        showlegend=False,\n",
        "        template=\"plotly_dark\"\n",
        "    )\n",
        "\n",
        "    # Show the figure\n",
        "    fig.show()\n"
      ]
    },
    {
      "cell_type": "code",
      "execution_count": null,
      "id": "303c21d8",
      "metadata": {
        "colab": {
          "base_uri": "https://localhost:8080/",
          "height": 437
        },
        "id": "303c21d8",
        "outputId": "3ce5b0fb-8bc2-473c-946e-878439aa7d9a"
      },
      "outputs": [],
      "source": [
        "plot_numeric_boxplots(data, cols_per_row=6)\n"
      ]
    },
    {
      "cell_type": "markdown",
      "id": "7091cccc",
      "metadata": {
        "id": "7091cccc",
        "papermill": {
          "duration": 0.018202,
          "end_time": "2024-10-30T17:41:04.524068",
          "exception": false,
          "start_time": "2024-10-30T17:41:04.505866",
          "status": "completed"
        },
        "tags": []
      },
      "source": [
        "## Checking for Outliers"
      ]
    },
    {
      "cell_type": "code",
      "execution_count": null,
      "id": "9b1c478a",
      "metadata": {
        "execution": {
          "iopub.execute_input": "2024-10-30T17:41:04.564331Z",
          "iopub.status.busy": "2024-10-30T17:41:04.563865Z",
          "iopub.status.idle": "2024-10-30T17:41:05.055002Z",
          "shell.execute_reply": "2024-10-30T17:41:05.053830Z"
        },
        "id": "9b1c478a",
        "papermill": {
          "duration": 0.513925,
          "end_time": "2024-10-30T17:41:05.057494",
          "exception": false,
          "start_time": "2024-10-30T17:41:04.543569",
          "status": "completed"
        },
        "tags": []
      },
      "outputs": [],
      "source": []
    },
    {
      "cell_type": "code",
      "execution_count": null,
      "id": "0beabfc2",
      "metadata": {
        "id": "0beabfc2"
      },
      "outputs": [],
      "source": []
    },
    {
      "cell_type": "markdown",
      "id": "cfe0b341",
      "metadata": {
        "id": "cfe0b341",
        "papermill": {
          "duration": 0.018723,
          "end_time": "2024-10-30T17:41:05.095139",
          "exception": false,
          "start_time": "2024-10-30T17:41:05.076416",
          "status": "completed"
        },
        "tags": []
      },
      "source": [
        "Some Outliers found. Lets remove them"
      ]
    },
    {
      "cell_type": "code",
      "execution_count": null,
      "id": "fd6915df",
      "metadata": {
        "execution": {
          "iopub.execute_input": "2024-10-30T17:41:05.135653Z",
          "iopub.status.busy": "2024-10-30T17:41:05.134640Z",
          "iopub.status.idle": "2024-10-30T17:41:05.139728Z",
          "shell.execute_reply": "2024-10-30T17:41:05.138633Z"
        },
        "id": "fd6915df",
        "papermill": {
          "duration": 0.027882,
          "end_time": "2024-10-30T17:41:05.142093",
          "exception": false,
          "start_time": "2024-10-30T17:41:05.114211",
          "status": "completed"
        },
        "tags": []
      },
      "outputs": [],
      "source": [
        "RS = RobustScaler()\n"
      ]
    },
    {
      "cell_type": "code",
      "execution_count": null,
      "id": "bcbd184e",
      "metadata": {
        "execution": {
          "iopub.execute_input": "2024-10-30T17:41:05.182149Z",
          "iopub.status.busy": "2024-10-30T17:41:05.181712Z",
          "iopub.status.idle": "2024-10-30T17:41:05.188375Z",
          "shell.execute_reply": "2024-10-30T17:41:05.187184Z"
        },
        "id": "bcbd184e",
        "papermill": {
          "duration": 0.029577,
          "end_time": "2024-10-30T17:41:05.190750",
          "exception": false,
          "start_time": "2024-10-30T17:41:05.161173",
          "status": "completed"
        },
        "tags": []
      },
      "outputs": [],
      "source": [
        "x = data.drop(['TotalPowerConsumption'],axis=1)\n",
        "y = data['TotalPowerConsumption']\n"
      ]
    },
    {
      "cell_type": "code",
      "execution_count": null,
      "id": "dee12382",
      "metadata": {
        "colab": {
          "base_uri": "https://localhost:8080/",
          "height": 417
        },
        "execution": {
          "iopub.execute_input": "2024-10-30T17:41:05.231918Z",
          "iopub.status.busy": "2024-10-30T17:41:05.231060Z",
          "iopub.status.idle": "2024-10-30T17:41:05.475798Z",
          "shell.execute_reply": "2024-10-30T17:41:05.474653Z"
        },
        "id": "dee12382",
        "outputId": "f13cf015-f324-4e58-8b8c-a148ee35aa7c",
        "papermill": {
          "duration": 0.268424,
          "end_time": "2024-10-30T17:41:05.478464",
          "exception": false,
          "start_time": "2024-10-30T17:41:05.210040",
          "status": "completed"
        },
        "tags": []
      },
      "outputs": [],
      "source": [
        "plot_numeric_boxplots(x, cols_per_row=5)\n",
        "\n"
      ]
    },
    {
      "cell_type": "code",
      "execution_count": null,
      "id": "569b97a7",
      "metadata": {
        "execution": {
          "iopub.execute_input": "2024-10-30T17:41:05.519551Z",
          "iopub.status.busy": "2024-10-30T17:41:05.519123Z",
          "iopub.status.idle": "2024-10-30T17:41:05.537216Z",
          "shell.execute_reply": "2024-10-30T17:41:05.535932Z"
        },
        "id": "569b97a7",
        "papermill": {
          "duration": 0.041764,
          "end_time": "2024-10-30T17:41:05.539831",
          "exception": false,
          "start_time": "2024-10-30T17:41:05.498067",
          "status": "completed"
        },
        "tags": []
      },
      "outputs": [],
      "source": [
        "scaled_x = RS.fit_transform(x)\n"
      ]
    },
    {
      "cell_type": "code",
      "execution_count": null,
      "id": "50365bc2",
      "metadata": {
        "execution": {
          "iopub.execute_input": "2024-10-30T17:41:05.580497Z",
          "iopub.status.busy": "2024-10-30T17:41:05.580103Z",
          "iopub.status.idle": "2024-10-30T17:41:05.585294Z",
          "shell.execute_reply": "2024-10-30T17:41:05.584173Z"
        },
        "id": "50365bc2",
        "papermill": {
          "duration": 0.028091,
          "end_time": "2024-10-30T17:41:05.587568",
          "exception": false,
          "start_time": "2024-10-30T17:41:05.559477",
          "status": "completed"
        },
        "tags": []
      },
      "outputs": [],
      "source": [
        "x= pd.DataFrame(scaled_x, columns=x.columns)\n"
      ]
    },
    {
      "cell_type": "code",
      "execution_count": null,
      "id": "6eeeeb49",
      "metadata": {
        "colab": {
          "base_uri": "https://localhost:8080/",
          "height": 417
        },
        "execution": {
          "iopub.execute_input": "2024-10-30T17:41:05.629037Z",
          "iopub.status.busy": "2024-10-30T17:41:05.628567Z",
          "iopub.status.idle": "2024-10-30T17:41:05.873821Z",
          "shell.execute_reply": "2024-10-30T17:41:05.872566Z"
        },
        "id": "6eeeeb49",
        "outputId": "b23df686-9bb0-4a76-8462-91a8178708f6",
        "papermill": {
          "duration": 0.269455,
          "end_time": "2024-10-30T17:41:05.876423",
          "exception": false,
          "start_time": "2024-10-30T17:41:05.606968",
          "status": "completed"
        },
        "tags": []
      },
      "outputs": [],
      "source": [
        "plot_numeric_boxplots(x, cols_per_row=5)\n"
      ]
    },
    {
      "cell_type": "code",
      "execution_count": null,
      "id": "70651b55",
      "metadata": {
        "colab": {
          "base_uri": "https://localhost:8080/",
          "height": 472
        },
        "execution": {
          "iopub.execute_input": "2024-10-30T17:41:05.922749Z",
          "iopub.status.busy": "2024-10-30T17:41:05.922289Z",
          "iopub.status.idle": "2024-10-30T17:41:06.071078Z",
          "shell.execute_reply": "2024-10-30T17:41:06.069814Z"
        },
        "id": "70651b55",
        "outputId": "a14917f9-089c-4f70-bc5f-c71127dd0260",
        "papermill": {
          "duration": 0.175476,
          "end_time": "2024-10-30T17:41:06.073416",
          "exception": false,
          "start_time": "2024-10-30T17:41:05.897940",
          "status": "completed"
        },
        "tags": []
      },
      "outputs": [],
      "source": [
        "sns.boxplot(x='TotalPowerConsumption',data=data)\n",
        "plt.title('Outlier Detection in TotalPwerConsumption')\n",
        "plt.show()\n"
      ]
    },
    {
      "cell_type": "code",
      "execution_count": null,
      "id": "ab2af8a7",
      "metadata": {
        "execution": {
          "iopub.execute_input": "2024-10-30T17:41:06.116723Z",
          "iopub.status.busy": "2024-10-30T17:41:06.116257Z",
          "iopub.status.idle": "2024-10-30T17:41:06.129098Z",
          "shell.execute_reply": "2024-10-30T17:41:06.127872Z"
        },
        "id": "ab2af8a7",
        "papermill": {
          "duration": 0.037532,
          "end_time": "2024-10-30T17:41:06.131889",
          "exception": false,
          "start_time": "2024-10-30T17:41:06.094357",
          "status": "completed"
        },
        "tags": []
      },
      "outputs": [],
      "source": [
        "Q1 = data['TotalPowerConsumption'].quantile(0.25)\n",
        "Q3 = data['TotalPowerConsumption'].quantile(0.75)\n",
        "\n",
        "IQR = Q3 - Q1\n",
        "\n",
        "lowerbound = Q1 - (1.5 * IQR)\n",
        "upperbound = Q3 + (1.5 * IQR)\n",
        "\n",
        "data = data[(data.TotalPowerConsumption >= lowerbound) & (data.TotalPowerConsumption <= upperbound)]\n"
      ]
    },
    {
      "cell_type": "code",
      "execution_count": null,
      "id": "ac34b291",
      "metadata": {
        "colab": {
          "base_uri": "https://localhost:8080/",
          "height": 472
        },
        "execution": {
          "iopub.execute_input": "2024-10-30T17:41:06.175287Z",
          "iopub.status.busy": "2024-10-30T17:41:06.174814Z",
          "iopub.status.idle": "2024-10-30T17:41:06.363422Z",
          "shell.execute_reply": "2024-10-30T17:41:06.362074Z"
        },
        "id": "ac34b291",
        "outputId": "e719db7e-1b2b-42a3-9583-a51e328ba700",
        "papermill": {
          "duration": 0.213823,
          "end_time": "2024-10-30T17:41:06.366358",
          "exception": false,
          "start_time": "2024-10-30T17:41:06.152535",
          "status": "completed"
        },
        "tags": []
      },
      "outputs": [],
      "source": [
        "sns.boxplot(x='TotalPowerConsumption',data=data)\n",
        "plt.title('Outlier Detection in TotalPwerConsumption')\n",
        "plt.show()\n"
      ]
    },
    {
      "cell_type": "code",
      "execution_count": null,
      "id": "0fded21c",
      "metadata": {
        "id": "0fded21c",
        "papermill": {
          "duration": 0.020353,
          "end_time": "2024-10-30T17:41:06.408258",
          "exception": false,
          "start_time": "2024-10-30T17:41:06.387905",
          "status": "completed"
        },
        "tags": []
      },
      "outputs": [],
      "source": []
    },
    {
      "cell_type": "markdown",
      "id": "d203e82b",
      "metadata": {
        "id": "d203e82b",
        "papermill": {
          "duration": 0.020264,
          "end_time": "2024-10-30T17:41:06.450006",
          "exception": false,
          "start_time": "2024-10-30T17:41:06.429742",
          "status": "completed"
        },
        "tags": []
      },
      "source": [
        "## Checking and Fixing Data Distribution"
      ]
    },
    {
      "cell_type": "code",
      "execution_count": null,
      "id": "d1d1fef2",
      "metadata": {},
      "outputs": [],
      "source": [
        "\n"
      ]
    },
    {
      "cell_type": "code",
      "execution_count": null,
      "id": "476f50e9",
      "metadata": {},
      "outputs": [],
      "source": [
        "\n",
        "\n",
        "def plot_distribution(data, column):\n",
        "    \"\"\"\n",
        "    Plot the distribution of a specified column using Plotly.\n",
        "\n",
        "    Parameters:\n",
        "    data (DataFrame): The data containing the column.\n",
        "    column (str): The column name to plot.\n",
        "    \"\"\"\n",
        "    # Create distribution plot\n",
        "    # fig = ff.create_distplot(\n",
        "    #     [data[column]], [column], show_hist=True, show_rug=True,\n",
        "    #     colors=['#636EFA']  # Add color to the plot\n",
        "    # )\n",
        "\n",
        "    # Update layout\n",
        "    # fig.update_layout(\n",
        "    #     title=f'Distribution Plot of {column}',\n",
        "    #     xaxis_title=column,\n",
        "    #     yaxis_title='Density',\n",
        "    #     width=1000,\n",
        "    #     height=600,\n",
        "    #     plot_bgcolor='white',  # Set background color to white\n",
        "    #     paper_bgcolor='white',  # Set paper background color to white\n",
        "    #     font=dict(color='black')  # Set font color to black\n",
        "    # )\n",
        "\n",
        "    # # Update x and y axis\n",
        "    # fig.update_xaxes(showgrid=True, gridwidth=1, gridcolor='lightgray')\n",
        "    # fig.update_yaxes(showgrid=True, gridwidth=1, gridcolor='lightgray')\n",
        "\n",
        "    # fig.show()\n",
        "\n",
        "# Example usage\n",
        "# plot_distribution(data, 'TotalPowerConsumption')\n"
      ]
    },
    {
      "cell_type": "code",
      "execution_count": null,
      "id": "fa6e2252",
      "metadata": {
        "colab": {
          "base_uri": "https://localhost:8080/",
          "height": 529
        },
        "execution": {
          "iopub.execute_input": "2024-10-30T17:41:06.493421Z",
          "iopub.status.busy": "2024-10-30T17:41:06.493003Z",
          "iopub.status.idle": "2024-10-30T17:41:07.286170Z",
          "shell.execute_reply": "2024-10-30T17:41:07.285055Z"
        },
        "id": "fa6e2252",
        "outputId": "fdbce052-1222-4b0b-e142-1526e48b51c0",
        "papermill": {
          "duration": 0.818026,
          "end_time": "2024-10-30T17:41:07.288669",
          "exception": false,
          "start_time": "2024-10-30T17:41:06.470643",
          "status": "completed"
        },
        "tags": []
      },
      "outputs": [],
      "source": [
        "sns.displot(data['Temperature'], kde=True)\n",
        "plt.title('Distribution Plot of Temperature')\n",
        "plt.show()\n"
      ]
    },
    {
      "cell_type": "code",
      "execution_count": null,
      "id": "57e5d610",
      "metadata": {},
      "outputs": [],
      "source": [
        "plot_distribution(data, 'Temperature')\n"
      ]
    },
    {
      "cell_type": "code",
      "execution_count": null,
      "id": "d48ef3f4",
      "metadata": {
        "colab": {
          "base_uri": "https://localhost:8080/"
        },
        "execution": {
          "iopub.execute_input": "2024-10-30T17:41:07.334189Z",
          "iopub.status.busy": "2024-10-30T17:41:07.333426Z",
          "iopub.status.idle": "2024-10-30T17:41:07.343119Z",
          "shell.execute_reply": "2024-10-30T17:41:07.341800Z"
        },
        "id": "d48ef3f4",
        "outputId": "5e6817ba-3ff2-4302-88d3-9a148c0ac4c9",
        "papermill": {
          "duration": 0.035145,
          "end_time": "2024-10-30T17:41:07.345608",
          "exception": false,
          "start_time": "2024-10-30T17:41:07.310463",
          "status": "completed"
        },
        "tags": []
      },
      "outputs": [],
      "source": [
        "data['Temperature'].skew()\n"
      ]
    },
    {
      "cell_type": "code",
      "execution_count": null,
      "id": "b26bd2b2",
      "metadata": {
        "execution": {
          "iopub.execute_input": "2024-10-30T17:41:07.390832Z",
          "iopub.status.busy": "2024-10-30T17:41:07.390400Z",
          "iopub.status.idle": "2024-10-30T17:41:07.614413Z",
          "shell.execute_reply": "2024-10-30T17:41:07.613335Z"
        },
        "id": "b26bd2b2",
        "papermill": {
          "duration": 0.24922,
          "end_time": "2024-10-30T17:41:07.616914",
          "exception": false,
          "start_time": "2024-10-30T17:41:07.367694",
          "status": "completed"
        },
        "tags": []
      },
      "outputs": [],
      "source": [
        "from scipy.stats import boxcox\n",
        "data['Temperature'], lambda_boxcox = boxcox(data['Temperature'])\n"
      ]
    },
    {
      "cell_type": "code",
      "execution_count": null,
      "id": "2bfaa2d5",
      "metadata": {
        "colab": {
          "base_uri": "https://localhost:8080/"
        },
        "execution": {
          "iopub.execute_input": "2024-10-30T17:41:07.661441Z",
          "iopub.status.busy": "2024-10-30T17:41:07.661010Z",
          "iopub.status.idle": "2024-10-30T17:41:07.670084Z",
          "shell.execute_reply": "2024-10-30T17:41:07.668991Z"
        },
        "id": "2bfaa2d5",
        "outputId": "404fcdde-5483-4733-818d-203ab9d46f31",
        "papermill": {
          "duration": 0.034043,
          "end_time": "2024-10-30T17:41:07.672471",
          "exception": false,
          "start_time": "2024-10-30T17:41:07.638428",
          "status": "completed"
        },
        "tags": []
      },
      "outputs": [],
      "source": [
        "data['Temperature'].skew()\n"
      ]
    },
    {
      "cell_type": "code",
      "execution_count": null,
      "id": "3fdaacaf",
      "metadata": {
        "colab": {
          "base_uri": "https://localhost:8080/",
          "height": 529
        },
        "execution": {
          "iopub.execute_input": "2024-10-30T17:41:07.717154Z",
          "iopub.status.busy": "2024-10-30T17:41:07.716672Z",
          "iopub.status.idle": "2024-10-30T17:41:08.495179Z",
          "shell.execute_reply": "2024-10-30T17:41:08.493931Z"
        },
        "id": "3fdaacaf",
        "outputId": "8b5a22ab-93cb-4683-ffa0-45b11ce9ea9d",
        "papermill": {
          "duration": 0.803864,
          "end_time": "2024-10-30T17:41:08.497721",
          "exception": false,
          "start_time": "2024-10-30T17:41:07.693857",
          "status": "completed"
        },
        "tags": []
      },
      "outputs": [],
      "source": [
        "plot_distribution(data, 'Temperature')\n"
      ]
    },
    {
      "cell_type": "code",
      "execution_count": null,
      "id": "d2fa1e35",
      "metadata": {
        "colab": {
          "base_uri": "https://localhost:8080/",
          "height": 529
        },
        "execution": {
          "iopub.execute_input": "2024-10-30T17:41:08.544812Z",
          "iopub.status.busy": "2024-10-30T17:41:08.544374Z",
          "iopub.status.idle": "2024-10-30T17:41:09.287497Z",
          "shell.execute_reply": "2024-10-30T17:41:09.286263Z"
        },
        "id": "d2fa1e35",
        "outputId": "d43fd957-e26a-4561-e80a-833defa22571",
        "papermill": {
          "duration": 0.769505,
          "end_time": "2024-10-30T17:41:09.290043",
          "exception": false,
          "start_time": "2024-10-30T17:41:08.520538",
          "status": "completed"
        },
        "tags": []
      },
      "outputs": [],
      "source": [
        "# sns.displot(data['Humidity'], kde=True)\n",
        "# plt.title('Distribution Plot of Humidity')\n",
        "# plt.show()\n",
        "plot_distribution(data, 'Humidity')\n"
      ]
    },
    {
      "cell_type": "code",
      "execution_count": null,
      "id": "b6356ba4",
      "metadata": {
        "colab": {
          "base_uri": "https://localhost:8080/"
        },
        "execution": {
          "iopub.execute_input": "2024-10-30T17:41:09.337545Z",
          "iopub.status.busy": "2024-10-30T17:41:09.337126Z",
          "iopub.status.idle": "2024-10-30T17:41:09.346146Z",
          "shell.execute_reply": "2024-10-30T17:41:09.344946Z"
        },
        "id": "b6356ba4",
        "outputId": "011503fe-a803-4957-f466-c96278e823ac",
        "papermill": {
          "duration": 0.035389,
          "end_time": "2024-10-30T17:41:09.348511",
          "exception": false,
          "start_time": "2024-10-30T17:41:09.313122",
          "status": "completed"
        },
        "tags": []
      },
      "outputs": [],
      "source": [
        "data['Humidity'].skew()\n"
      ]
    },
    {
      "cell_type": "code",
      "execution_count": null,
      "id": "c1ba7a59",
      "metadata": {
        "execution": {
          "iopub.execute_input": "2024-10-30T17:41:09.396424Z",
          "iopub.status.busy": "2024-10-30T17:41:09.395992Z",
          "iopub.status.idle": "2024-10-30T17:41:09.461585Z",
          "shell.execute_reply": "2024-10-30T17:41:09.460420Z"
        },
        "id": "c1ba7a59",
        "papermill": {
          "duration": 0.092294,
          "end_time": "2024-10-30T17:41:09.464159",
          "exception": false,
          "start_time": "2024-10-30T17:41:09.371865",
          "status": "completed"
        },
        "tags": []
      },
      "outputs": [],
      "source": [
        "from sklearn.preprocessing import PowerTransformer\n",
        "pt = PowerTransformer(method='yeo-johnson')\n",
        "data['Humidity'] = pt.fit_transform(data[['Humidity']])\n"
      ]
    },
    {
      "cell_type": "code",
      "execution_count": null,
      "id": "266a1169",
      "metadata": {
        "colab": {
          "base_uri": "https://localhost:8080/"
        },
        "execution": {
          "iopub.execute_input": "2024-10-30T17:41:09.567675Z",
          "iopub.status.busy": "2024-10-30T17:41:09.567221Z",
          "iopub.status.idle": "2024-10-30T17:41:09.576096Z",
          "shell.execute_reply": "2024-10-30T17:41:09.574947Z"
        },
        "id": "266a1169",
        "outputId": "7361cd27-1b93-4bc4-f9b4-afb794c8b09d",
        "papermill": {
          "duration": 0.091336,
          "end_time": "2024-10-30T17:41:09.578559",
          "exception": false,
          "start_time": "2024-10-30T17:41:09.487223",
          "status": "completed"
        },
        "tags": []
      },
      "outputs": [],
      "source": [
        "data['Humidity'].skew()\n"
      ]
    },
    {
      "cell_type": "code",
      "execution_count": null,
      "id": "46044e86",
      "metadata": {
        "colab": {
          "base_uri": "https://localhost:8080/",
          "height": 529
        },
        "execution": {
          "iopub.execute_input": "2024-10-30T17:41:09.628982Z",
          "iopub.status.busy": "2024-10-30T17:41:09.627423Z",
          "iopub.status.idle": "2024-10-30T17:41:10.312168Z",
          "shell.execute_reply": "2024-10-30T17:41:10.311062Z"
        },
        "id": "46044e86",
        "outputId": "8ba608a0-04b9-4a92-b9f7-df419752238f",
        "papermill": {
          "duration": 0.711763,
          "end_time": "2024-10-30T17:41:10.314536",
          "exception": false,
          "start_time": "2024-10-30T17:41:09.602773",
          "status": "completed"
        },
        "tags": []
      },
      "outputs": [],
      "source": [
        "# sns.displot(data['Humidity'], kde=True)\n",
        "# plt.title('Distribution Plot of Humidity')\n",
        "# plt.show()\n",
        "plot_distribution(data, 'Humidity')\n"
      ]
    },
    {
      "cell_type": "code",
      "execution_count": null,
      "id": "1d7d08c8",
      "metadata": {
        "colab": {
          "base_uri": "https://localhost:8080/",
          "height": 529
        },
        "execution": {
          "iopub.execute_input": "2024-10-30T17:41:10.364400Z",
          "iopub.status.busy": "2024-10-30T17:41:10.363964Z",
          "iopub.status.idle": "2024-10-30T17:41:10.940366Z",
          "shell.execute_reply": "2024-10-30T17:41:10.938876Z"
        },
        "id": "1d7d08c8",
        "outputId": "3340da8c-08f5-4431-aeb0-359e426bece7",
        "papermill": {
          "duration": 0.604516,
          "end_time": "2024-10-30T17:41:10.943164",
          "exception": false,
          "start_time": "2024-10-30T17:41:10.338648",
          "status": "completed"
        },
        "tags": []
      },
      "outputs": [],
      "source": [
        "# sns.displot(data['WindSpeed'], kde=True)\n",
        "# plt.title('Distribution Plot of Windspeed')\n",
        "# plt.show()\n",
        "plot_distribution(data, 'WindSpeed')\n"
      ]
    },
    {
      "cell_type": "code",
      "execution_count": null,
      "id": "8f2835e4",
      "metadata": {
        "colab": {
          "base_uri": "https://localhost:8080/"
        },
        "execution": {
          "iopub.execute_input": "2024-10-30T17:41:10.995444Z",
          "iopub.status.busy": "2024-10-30T17:41:10.994984Z",
          "iopub.status.idle": "2024-10-30T17:41:11.005647Z",
          "shell.execute_reply": "2024-10-30T17:41:11.004324Z"
        },
        "id": "8f2835e4",
        "outputId": "816b6cc1-9fb0-4477-955e-bfced459cb4c",
        "papermill": {
          "duration": 0.040437,
          "end_time": "2024-10-30T17:41:11.008247",
          "exception": false,
          "start_time": "2024-10-30T17:41:10.967810",
          "status": "completed"
        },
        "tags": []
      },
      "outputs": [],
      "source": [
        "data['WindSpeed'].skew()\n"
      ]
    },
    {
      "cell_type": "code",
      "execution_count": null,
      "id": "0602a11b",
      "metadata": {
        "execution": {
          "iopub.execute_input": "2024-10-30T17:41:11.060290Z",
          "iopub.status.busy": "2024-10-30T17:41:11.059827Z",
          "iopub.status.idle": "2024-10-30T17:41:11.343627Z",
          "shell.execute_reply": "2024-10-30T17:41:11.342320Z"
        },
        "id": "0602a11b",
        "papermill": {
          "duration": 0.313047,
          "end_time": "2024-10-30T17:41:11.346282",
          "exception": false,
          "start_time": "2024-10-30T17:41:11.033235",
          "status": "completed"
        },
        "tags": []
      },
      "outputs": [],
      "source": [
        "from scipy.stats import boxcox\n",
        "data['WindSpeed'], lambda_boxcox = boxcox(data['WindSpeed'])\n"
      ]
    },
    {
      "cell_type": "code",
      "execution_count": null,
      "id": "5cf01487",
      "metadata": {
        "colab": {
          "base_uri": "https://localhost:8080/"
        },
        "execution": {
          "iopub.execute_input": "2024-10-30T17:41:11.398866Z",
          "iopub.status.busy": "2024-10-30T17:41:11.398416Z",
          "iopub.status.idle": "2024-10-30T17:41:11.407934Z",
          "shell.execute_reply": "2024-10-30T17:41:11.406634Z"
        },
        "id": "5cf01487",
        "outputId": "60943518-1f32-4e62-99ce-b48a722c00fc",
        "papermill": {
          "duration": 0.038161,
          "end_time": "2024-10-30T17:41:11.410377",
          "exception": false,
          "start_time": "2024-10-30T17:41:11.372216",
          "status": "completed"
        },
        "tags": []
      },
      "outputs": [],
      "source": [
        "data['WindSpeed'].skew()\n"
      ]
    },
    {
      "cell_type": "code",
      "execution_count": null,
      "id": "64ed08bb",
      "metadata": {
        "colab": {
          "base_uri": "https://localhost:8080/",
          "height": 529
        },
        "execution": {
          "iopub.execute_input": "2024-10-30T17:41:11.462795Z",
          "iopub.status.busy": "2024-10-30T17:41:11.462361Z",
          "iopub.status.idle": "2024-10-30T17:41:12.137723Z",
          "shell.execute_reply": "2024-10-30T17:41:12.136643Z"
        },
        "id": "64ed08bb",
        "outputId": "dc22f113-21a8-4d95-d83a-8e0b848ba024",
        "papermill": {
          "duration": 0.704459,
          "end_time": "2024-10-30T17:41:12.140119",
          "exception": false,
          "start_time": "2024-10-30T17:41:11.435660",
          "status": "completed"
        },
        "tags": []
      },
      "outputs": [],
      "source": [
        "# sns.displot(data['WindSpeed'], kde=True)\n",
        "# plt.title('Distribution Plot of Windspeed')\n",
        "# plt.show()\n",
        "plot_distribution(data, 'WindSpeed')\n"
      ]
    },
    {
      "cell_type": "code",
      "execution_count": null,
      "id": "3374542e",
      "metadata": {
        "colab": {
          "base_uri": "https://localhost:8080/",
          "height": 529
        },
        "execution": {
          "iopub.execute_input": "2024-10-30T17:41:12.194565Z",
          "iopub.status.busy": "2024-10-30T17:41:12.194145Z",
          "iopub.status.idle": "2024-10-30T17:41:13.047422Z",
          "shell.execute_reply": "2024-10-30T17:41:13.046164Z"
        },
        "id": "3374542e",
        "outputId": "f3d8d5df-b8ca-4ccf-a6d5-179fd58f33f0",
        "papermill": {
          "duration": 0.883887,
          "end_time": "2024-10-30T17:41:13.049795",
          "exception": false,
          "start_time": "2024-10-30T17:41:12.165908",
          "status": "completed"
        },
        "tags": []
      },
      "outputs": [],
      "source": [
        "# sns.displot(data['GeneralDiffuseFlows'], kde=True)\n",
        "# plt.title('Distribution Plot of General Diffuse Flow')\n",
        "# plt.show()\n",
        "plot_distribution(data, 'GeneralDiffuseFlows')\n"
      ]
    },
    {
      "cell_type": "code",
      "execution_count": null,
      "id": "cfea426f",
      "metadata": {
        "colab": {
          "base_uri": "https://localhost:8080/"
        },
        "execution": {
          "iopub.execute_input": "2024-10-30T17:41:13.105955Z",
          "iopub.status.busy": "2024-10-30T17:41:13.105480Z",
          "iopub.status.idle": "2024-10-30T17:41:13.114291Z",
          "shell.execute_reply": "2024-10-30T17:41:13.113135Z"
        },
        "id": "cfea426f",
        "outputId": "97aa7b73-37e0-4864-b601-e8d179edab2e",
        "papermill": {
          "duration": 0.039515,
          "end_time": "2024-10-30T17:41:13.116456",
          "exception": false,
          "start_time": "2024-10-30T17:41:13.076941",
          "status": "completed"
        },
        "tags": []
      },
      "outputs": [],
      "source": [
        "data['GeneralDiffuseFlows'].skew()\n"
      ]
    },
    {
      "cell_type": "code",
      "execution_count": null,
      "id": "5c27a226",
      "metadata": {
        "execution": {
          "iopub.execute_input": "2024-10-30T17:41:13.172498Z",
          "iopub.status.busy": "2024-10-30T17:41:13.172015Z",
          "iopub.status.idle": "2024-10-30T17:41:13.458247Z",
          "shell.execute_reply": "2024-10-30T17:41:13.457160Z"
        },
        "id": "5c27a226",
        "papermill": {
          "duration": 0.317379,
          "end_time": "2024-10-30T17:41:13.460932",
          "exception": false,
          "start_time": "2024-10-30T17:41:13.143553",
          "status": "completed"
        },
        "tags": []
      },
      "outputs": [],
      "source": [
        "data['GeneralDiffuseFlows'], lambda_boxcox = boxcox(data['GeneralDiffuseFlows'])\n"
      ]
    },
    {
      "cell_type": "code",
      "execution_count": null,
      "id": "cae795ae",
      "metadata": {
        "colab": {
          "base_uri": "https://localhost:8080/"
        },
        "execution": {
          "iopub.execute_input": "2024-10-30T17:41:13.516440Z",
          "iopub.status.busy": "2024-10-30T17:41:13.515410Z",
          "iopub.status.idle": "2024-10-30T17:41:13.523990Z",
          "shell.execute_reply": "2024-10-30T17:41:13.522887Z"
        },
        "id": "cae795ae",
        "outputId": "ebd4a20a-2ade-4b5a-a320-d1ec4ee3914a",
        "papermill": {
          "duration": 0.038694,
          "end_time": "2024-10-30T17:41:13.526069",
          "exception": false,
          "start_time": "2024-10-30T17:41:13.487375",
          "status": "completed"
        },
        "tags": []
      },
      "outputs": [],
      "source": [
        "data['GeneralDiffuseFlows'].skew()\n"
      ]
    },
    {
      "cell_type": "code",
      "execution_count": null,
      "id": "c8bbb3c7",
      "metadata": {
        "colab": {
          "base_uri": "https://localhost:8080/",
          "height": 529
        },
        "execution": {
          "iopub.execute_input": "2024-10-30T17:41:13.581228Z",
          "iopub.status.busy": "2024-10-30T17:41:13.580792Z",
          "iopub.status.idle": "2024-10-30T17:41:14.257376Z",
          "shell.execute_reply": "2024-10-30T17:41:14.256104Z"
        },
        "id": "c8bbb3c7",
        "outputId": "4572f004-8cf5-47a9-c0b7-a66d5147ea79",
        "papermill": {
          "duration": 0.707126,
          "end_time": "2024-10-30T17:41:14.259982",
          "exception": false,
          "start_time": "2024-10-30T17:41:13.552856",
          "status": "completed"
        },
        "tags": []
      },
      "outputs": [],
      "source": [
        "# sns.displot(data['GeneralDiffuseFlows'], kde=True)\n",
        "# plt.title('Distribution Plot of General Diffuse Flow')\n",
        "# plt.show()\n",
        "plot_distribution(data, 'GeneralDiffuseFlows')\n"
      ]
    },
    {
      "cell_type": "code",
      "execution_count": null,
      "id": "6bf6b70f",
      "metadata": {
        "colab": {
          "base_uri": "https://localhost:8080/",
          "height": 529
        },
        "execution": {
          "iopub.execute_input": "2024-10-30T17:41:14.316768Z",
          "iopub.status.busy": "2024-10-30T17:41:14.316263Z",
          "iopub.status.idle": "2024-10-30T17:41:15.179451Z",
          "shell.execute_reply": "2024-10-30T17:41:15.178279Z"
        },
        "id": "6bf6b70f",
        "outputId": "d4c1c8d8-6a3f-4e8c-cd3b-67fb1028195d",
        "papermill": {
          "duration": 0.894438,
          "end_time": "2024-10-30T17:41:15.181822",
          "exception": false,
          "start_time": "2024-10-30T17:41:14.287384",
          "status": "completed"
        },
        "tags": []
      },
      "outputs": [],
      "source": [
        "# sns.displot(data['DiffuseFlows'], kde=True)\n",
        "# plt.title('Distribution Plot of Diffuse Flow')\n",
        "# plt.show()\n",
        "plot_distribution(data, 'DiffuseFlows')\n"
      ]
    },
    {
      "cell_type": "code",
      "execution_count": null,
      "id": "d98917c5",
      "metadata": {
        "colab": {
          "base_uri": "https://localhost:8080/"
        },
        "execution": {
          "iopub.execute_input": "2024-10-30T17:41:15.240427Z",
          "iopub.status.busy": "2024-10-30T17:41:15.240010Z",
          "iopub.status.idle": "2024-10-30T17:41:15.248516Z",
          "shell.execute_reply": "2024-10-30T17:41:15.247231Z"
        },
        "id": "d98917c5",
        "outputId": "d9d08e50-60c5-4aa5-c559-47117f6759d8",
        "papermill": {
          "duration": 0.040828,
          "end_time": "2024-10-30T17:41:15.250860",
          "exception": false,
          "start_time": "2024-10-30T17:41:15.210032",
          "status": "completed"
        },
        "tags": []
      },
      "outputs": [],
      "source": [
        "data['DiffuseFlows'].skew()\n"
      ]
    },
    {
      "cell_type": "code",
      "execution_count": null,
      "id": "c730bb94",
      "metadata": {
        "execution": {
          "iopub.execute_input": "2024-10-30T17:41:15.307897Z",
          "iopub.status.busy": "2024-10-30T17:41:15.307442Z",
          "iopub.status.idle": "2024-10-30T17:41:15.561564Z",
          "shell.execute_reply": "2024-10-30T17:41:15.560519Z"
        },
        "id": "c730bb94",
        "papermill": {
          "duration": 0.285594,
          "end_time": "2024-10-30T17:41:15.564149",
          "exception": false,
          "start_time": "2024-10-30T17:41:15.278555",
          "status": "completed"
        },
        "tags": []
      },
      "outputs": [],
      "source": [
        "data['DiffuseFlows'], lambda_boxcox = boxcox(data['DiffuseFlows'])\n"
      ]
    },
    {
      "cell_type": "code",
      "execution_count": null,
      "id": "5f25cc8a",
      "metadata": {
        "colab": {
          "base_uri": "https://localhost:8080/"
        },
        "execution": {
          "iopub.execute_input": "2024-10-30T17:41:15.623429Z",
          "iopub.status.busy": "2024-10-30T17:41:15.622720Z",
          "iopub.status.idle": "2024-10-30T17:41:15.630772Z",
          "shell.execute_reply": "2024-10-30T17:41:15.629745Z"
        },
        "id": "5f25cc8a",
        "outputId": "29e4f91b-d482-4e25-adfa-d0b00f8b4579",
        "papermill": {
          "duration": 0.039775,
          "end_time": "2024-10-30T17:41:15.632974",
          "exception": false,
          "start_time": "2024-10-30T17:41:15.593199",
          "status": "completed"
        },
        "tags": []
      },
      "outputs": [],
      "source": [
        "data['DiffuseFlows'].skew()\n"
      ]
    },
    {
      "cell_type": "code",
      "execution_count": null,
      "id": "8febf9c3",
      "metadata": {
        "colab": {
          "base_uri": "https://localhost:8080/",
          "height": 529
        },
        "execution": {
          "iopub.execute_input": "2024-10-30T17:41:15.690830Z",
          "iopub.status.busy": "2024-10-30T17:41:15.690001Z",
          "iopub.status.idle": "2024-10-30T17:41:16.281385Z",
          "shell.execute_reply": "2024-10-30T17:41:16.280072Z"
        },
        "id": "8febf9c3",
        "outputId": "23fdc2d6-c2b3-44e3-eaf8-a514fa48b1d8",
        "papermill": {
          "duration": 0.623567,
          "end_time": "2024-10-30T17:41:16.284340",
          "exception": false,
          "start_time": "2024-10-30T17:41:15.660773",
          "status": "completed"
        },
        "tags": []
      },
      "outputs": [],
      "source": [
        "# sns.displot(data['DiffuseFlows'], kde=True)\n",
        "# plt.title('Distribution Plot of Diffuse Flow')\n",
        "# plt.show()\n",
        "plot_distribution(data, 'DiffuseFlows')\n"
      ]
    },
    {
      "cell_type": "code",
      "execution_count": null,
      "id": "3b9d10f3",
      "metadata": {
        "colab": {
          "base_uri": "https://localhost:8080/",
          "height": 529
        },
        "execution": {
          "iopub.execute_input": "2024-10-30T17:41:16.345496Z",
          "iopub.status.busy": "2024-10-30T17:41:16.344684Z",
          "iopub.status.idle": "2024-10-30T17:41:17.043856Z",
          "shell.execute_reply": "2024-10-30T17:41:17.042726Z"
        },
        "id": "3b9d10f3",
        "outputId": "bb7ad1b2-b869-46b1-be46-25f3cc0f6f89",
        "papermill": {
          "duration": 0.732681,
          "end_time": "2024-10-30T17:41:17.046632",
          "exception": false,
          "start_time": "2024-10-30T17:41:16.313951",
          "status": "completed"
        },
        "tags": []
      },
      "outputs": [],
      "source": [
        "sns.displot(data['TotalPowerConsumption'], kde=True)\n",
        "plt.title('Distribution Plot of TotalPowerConsumption')\n",
        "plt.show()\n"
      ]
    },
    {
      "cell_type": "code",
      "execution_count": null,
      "id": "e3955654",
      "metadata": {
        "colab": {
          "base_uri": "https://localhost:8080/"
        },
        "execution": {
          "iopub.execute_input": "2024-10-30T17:41:17.108313Z",
          "iopub.status.busy": "2024-10-30T17:41:17.107881Z",
          "iopub.status.idle": "2024-10-30T17:41:17.116240Z",
          "shell.execute_reply": "2024-10-30T17:41:17.115175Z"
        },
        "id": "e3955654",
        "outputId": "17a3d277-caba-4166-984b-36d26a26fca3",
        "papermill": {
          "duration": 0.042301,
          "end_time": "2024-10-30T17:41:17.118421",
          "exception": false,
          "start_time": "2024-10-30T17:41:17.076120",
          "status": "completed"
        },
        "tags": []
      },
      "outputs": [],
      "source": [
        "data['TotalPowerConsumption'].skew()\n"
      ]
    },
    {
      "cell_type": "code",
      "execution_count": null,
      "id": "b8cde7a3",
      "metadata": {
        "execution": {
          "iopub.execute_input": "2024-10-30T17:41:17.178463Z",
          "iopub.status.busy": "2024-10-30T17:41:17.178028Z",
          "iopub.status.idle": "2024-10-30T17:41:17.343317Z",
          "shell.execute_reply": "2024-10-30T17:41:17.342211Z"
        },
        "id": "b8cde7a3",
        "papermill": {
          "duration": 0.198547,
          "end_time": "2024-10-30T17:41:17.346027",
          "exception": false,
          "start_time": "2024-10-30T17:41:17.147480",
          "status": "completed"
        },
        "tags": []
      },
      "outputs": [],
      "source": [
        "data['TotalPowerConsumption'], lambda_boxcox = boxcox(data['TotalPowerConsumption'])\n"
      ]
    },
    {
      "cell_type": "code",
      "execution_count": null,
      "id": "43d3c59a",
      "metadata": {
        "colab": {
          "base_uri": "https://localhost:8080/"
        },
        "execution": {
          "iopub.execute_input": "2024-10-30T17:41:17.407297Z",
          "iopub.status.busy": "2024-10-30T17:41:17.406661Z",
          "iopub.status.idle": "2024-10-30T17:41:17.415269Z",
          "shell.execute_reply": "2024-10-30T17:41:17.414175Z"
        },
        "id": "43d3c59a",
        "outputId": "78fdcecc-06c6-4fe0-f592-224291fc6d63",
        "papermill": {
          "duration": 0.0416,
          "end_time": "2024-10-30T17:41:17.417369",
          "exception": false,
          "start_time": "2024-10-30T17:41:17.375769",
          "status": "completed"
        },
        "tags": []
      },
      "outputs": [],
      "source": [
        "data['TotalPowerConsumption'].skew()\n"
      ]
    },
    {
      "cell_type": "code",
      "execution_count": null,
      "id": "33287754",
      "metadata": {
        "colab": {
          "base_uri": "https://localhost:8080/",
          "height": 529
        },
        "execution": {
          "iopub.execute_input": "2024-10-30T17:41:17.478534Z",
          "iopub.status.busy": "2024-10-30T17:41:17.477691Z",
          "iopub.status.idle": "2024-10-30T17:41:18.183435Z",
          "shell.execute_reply": "2024-10-30T17:41:18.182223Z"
        },
        "id": "33287754",
        "outputId": "f4509717-447c-4998-c7a0-4b951b7dcaa8",
        "papermill": {
          "duration": 0.738762,
          "end_time": "2024-10-30T17:41:18.185695",
          "exception": false,
          "start_time": "2024-10-30T17:41:17.446933",
          "status": "completed"
        },
        "tags": []
      },
      "outputs": [],
      "source": []
    },
    {
      "cell_type": "code",
      "execution_count": null,
      "id": "befef878",
      "metadata": {
        "colab": {
          "base_uri": "https://localhost:8080/",
          "height": 817
        },
        "execution": {
          "iopub.execute_input": "2024-10-30T17:41:18.250503Z",
          "iopub.status.busy": "2024-10-30T17:41:18.250048Z",
          "iopub.status.idle": "2024-10-30T17:41:18.452232Z",
          "shell.execute_reply": "2024-10-30T17:41:18.450917Z"
        },
        "id": "befef878",
        "outputId": "66de01df-a383-4fd3-b758-9c5367f19bde",
        "papermill": {
          "duration": 0.23739,
          "end_time": "2024-10-30T17:41:18.455314",
          "exception": false,
          "start_time": "2024-10-30T17:41:18.217924",
          "status": "completed"
        },
        "tags": []
      },
      "outputs": [],
      "source": [
        "plot_numeric_boxplots(data, cols_per_row=3)\n"
      ]
    },
    {
      "cell_type": "code",
      "execution_count": null,
      "id": "8a7dcbf4",
      "metadata": {
        "execution": {
          "iopub.execute_input": "2024-10-30T17:41:18.522788Z",
          "iopub.status.busy": "2024-10-30T17:41:18.522340Z",
          "iopub.status.idle": "2024-10-30T17:41:18.530224Z",
          "shell.execute_reply": "2024-10-30T17:41:18.529050Z"
        },
        "id": "8a7dcbf4",
        "papermill": {
          "duration": 0.04232,
          "end_time": "2024-10-30T17:41:18.532600",
          "exception": false,
          "start_time": "2024-10-30T17:41:18.490280",
          "status": "completed"
        },
        "tags": []
      },
      "outputs": [],
      "source": [
        "x= data.drop(['TotalPowerConsumption'],axis=1)\n",
        "y=data['TotalPowerConsumption']\n"
      ]
    },
    {
      "cell_type": "code",
      "execution_count": null,
      "id": "fd88db9c",
      "metadata": {
        "colab": {
          "base_uri": "https://localhost:8080/",
          "height": 737
        },
        "id": "fd88db9c",
        "outputId": "7da9cfbb-8390-450e-fff4-9180ae276a9f"
      },
      "outputs": [],
      "source": [
        "import plotly.graph_objects as go\n",
        "\n",
        "# Filter the data for the specified date range\n",
        "def plot_consumption_over_period():\n",
        "    filtered_data = y['2018-12-01 00:00:00':]\n",
        "\n",
        "    # Create the figure\n",
        "    fig = go.Figure()\n",
        "\n",
        "    # Add the trace\n",
        "    fig.add_trace(go.Scatter(x=filtered_data.index, y=filtered_data, mode='lines', line=dict(color='red')))\n",
        "\n",
        "    # Update the layout\n",
        "    fig.update_layout(\n",
        "        title='Total power consumption time series',\n",
        "        xaxis_title='Datetime',\n",
        "        yaxis_title='Power Consumption',\n",
        "        width=1800,\n",
        "        height=700\n",
        "    )\n",
        "\n",
        "    # Show the figure\n",
        "    fig.show()\n"
      ]
    },
    {
      "cell_type": "code",
      "execution_count": null,
      "id": "eb63dd91",
      "metadata": {},
      "outputs": [],
      "source": [
        "plot_consumption_over_period()\n"
      ]
    },
    {
      "cell_type": "code",
      "execution_count": null,
      "id": "a229ceac",
      "metadata": {
        "id": "a229ceac"
      },
      "outputs": [],
      "source": [
        "def adf_test(timeseries):\n",
        "    print(\"Results of Dickey-Fuller Test:\")\n",
        "    dftest = adfuller(timeseries, autolag=\"AIC\")\n",
        "    dfoutput = pd.Series(dftest[0:4], index=[\"Test Statistic\", \"p-value\",\n",
        "                                             \"Lags Used\", \"Number of Observations Used\"])\n",
        "    for key, value in dftest[4].items():\n",
        "        dfoutput[\"Critical Value (%s)\" % key] = value\n",
        "    print(dfoutput)\n",
        "\n",
        "def kpss_test(timeseries):\n",
        "    print(\"Results of KPSS Test:\")\n",
        "    kpsstest = kpss(timeseries, regression=\"c\", nlags=\"auto\")\n",
        "    kpss_output = pd.Series(\n",
        "        kpsstest[0:3], index=[\"Test Statistic\", \"p-value\", \"Lags Used\"])\n",
        "    for key, value in kpsstest[3].items():\n",
        "        kpss_output[\"Critical Value (%s)\" % key] = value\n",
        "    print(kpss_output)\n"
      ]
    },
    {
      "cell_type": "code",
      "execution_count": null,
      "id": "f9188251",
      "metadata": {
        "id": "f9188251"
      },
      "outputs": [],
      "source": [
        "\n"
      ]
    },
    {
      "cell_type": "markdown",
      "id": "84fea093",
      "metadata": {
        "id": "84fea093",
        "papermill": {
          "duration": 0.030373,
          "end_time": "2024-10-30T17:41:18.593808",
          "exception": false,
          "start_time": "2024-10-30T17:41:18.563435",
          "status": "completed"
        },
        "tags": []
      },
      "source": [
        "## Scaling"
      ]
    },
    {
      "cell_type": "code",
      "execution_count": null,
      "id": "2baa0051",
      "metadata": {
        "execution": {
          "iopub.execute_input": "2024-10-30T17:41:18.660468Z",
          "iopub.status.busy": "2024-10-30T17:41:18.660059Z",
          "iopub.status.idle": "2024-10-30T17:41:18.665218Z",
          "shell.execute_reply": "2024-10-30T17:41:18.664106Z"
        },
        "id": "2baa0051",
        "papermill": {
          "duration": 0.040351,
          "end_time": "2024-10-30T17:41:18.667544",
          "exception": false,
          "start_time": "2024-10-30T17:41:18.627193",
          "status": "completed"
        },
        "tags": []
      },
      "outputs": [],
      "source": [
        "Scaler = StandardScaler()\n"
      ]
    },
    {
      "cell_type": "code",
      "execution_count": null,
      "id": "9f266cc8",
      "metadata": {
        "execution": {
          "iopub.execute_input": "2024-10-30T17:41:18.732473Z",
          "iopub.status.busy": "2024-10-30T17:41:18.732008Z",
          "iopub.status.idle": "2024-10-30T17:41:18.746383Z",
          "shell.execute_reply": "2024-10-30T17:41:18.745161Z"
        },
        "id": "9f266cc8",
        "papermill": {
          "duration": 0.050218,
          "end_time": "2024-10-30T17:41:18.749001",
          "exception": false,
          "start_time": "2024-10-30T17:41:18.698783",
          "status": "completed"
        },
        "tags": []
      },
      "outputs": [],
      "source": [
        "x_scaled = Scaler.fit_transform(x)\n"
      ]
    },
    {
      "cell_type": "code",
      "execution_count": null,
      "id": "033cecaa",
      "metadata": {
        "colab": {
          "base_uri": "https://localhost:8080/"
        },
        "execution": {
          "iopub.execute_input": "2024-10-30T17:41:18.820138Z",
          "iopub.status.busy": "2024-10-30T17:41:18.818854Z",
          "iopub.status.idle": "2024-10-30T17:41:18.834239Z",
          "shell.execute_reply": "2024-10-30T17:41:18.832417Z"
        },
        "id": "033cecaa",
        "outputId": "f1b11769-49be-4e68-aba8-d622da44c87a",
        "papermill": {
          "duration": 0.057276,
          "end_time": "2024-10-30T17:41:18.837472",
          "exception": false,
          "start_time": "2024-10-30T17:41:18.780196",
          "status": "completed"
        },
        "tags": []
      },
      "outputs": [],
      "source": [
        "x_scaled\n"
      ]
    },
    {
      "cell_type": "code",
      "execution_count": null,
      "id": "72b90442",
      "metadata": {
        "colab": {
          "base_uri": "https://localhost:8080/"
        },
        "execution": {
          "iopub.execute_input": "2024-10-30T17:41:18.912761Z",
          "iopub.status.busy": "2024-10-30T17:41:18.911704Z",
          "iopub.status.idle": "2024-10-30T17:41:18.918627Z",
          "shell.execute_reply": "2024-10-30T17:41:18.917618Z"
        },
        "id": "72b90442",
        "outputId": "3c7208c8-a2cc-422f-d85c-0e80a09a91f9",
        "papermill": {
          "duration": 0.043357,
          "end_time": "2024-10-30T17:41:18.920975",
          "exception": false,
          "start_time": "2024-10-30T17:41:18.877618",
          "status": "completed"
        },
        "tags": []
      },
      "outputs": [],
      "source": [
        "x_scaled.shape\n"
      ]
    },
    {
      "cell_type": "code",
      "execution_count": null,
      "id": "eeec4437",
      "metadata": {
        "colab": {
          "base_uri": "https://localhost:8080/"
        },
        "execution": {
          "iopub.execute_input": "2024-10-30T17:41:18.985682Z",
          "iopub.status.busy": "2024-10-30T17:41:18.984479Z",
          "iopub.status.idle": "2024-10-30T17:41:18.991920Z",
          "shell.execute_reply": "2024-10-30T17:41:18.990734Z"
        },
        "id": "eeec4437",
        "outputId": "5832b646-6527-4a4b-9662-7136e05befba",
        "papermill": {
          "duration": 0.04208,
          "end_time": "2024-10-30T17:41:18.994189",
          "exception": false,
          "start_time": "2024-10-30T17:41:18.952109",
          "status": "completed"
        },
        "tags": []
      },
      "outputs": [],
      "source": [
        "y.shape\n"
      ]
    },
    {
      "cell_type": "code",
      "execution_count": null,
      "id": "6cb8d4ac",
      "metadata": {
        "execution": {
          "iopub.execute_input": "2024-10-30T17:41:19.058424Z",
          "iopub.status.busy": "2024-10-30T17:41:19.057962Z",
          "iopub.status.idle": "2024-10-30T17:41:19.071095Z",
          "shell.execute_reply": "2024-10-30T17:41:19.069948Z"
        },
        "id": "6cb8d4ac",
        "papermill": {
          "duration": 0.048276,
          "end_time": "2024-10-30T17:41:19.073712",
          "exception": false,
          "start_time": "2024-10-30T17:41:19.025436",
          "status": "completed"
        },
        "tags": []
      },
      "outputs": [],
      "source": [
        "x_train,x_test,y_train,y_test= train_test_split(x,y,test_size=0.2,shuffle=False)\n"
      ]
    },
    {
      "cell_type": "markdown",
      "id": "2c7769c0",
      "metadata": {
        "id": "2c7769c0",
        "papermill": {
          "duration": 0.031029,
          "end_time": "2024-10-30T17:41:19.137621",
          "exception": false,
          "start_time": "2024-10-30T17:41:19.106592",
          "status": "completed"
        },
        "tags": []
      },
      "source": [
        "#### AdFuller Report"
      ]
    },
    {
      "cell_type": "code",
      "execution_count": null,
      "id": "1cf4d95f",
      "metadata": {
        "colab": {
          "base_uri": "https://localhost:8080/"
        },
        "execution": {
          "iopub.execute_input": "2024-10-30T17:41:19.201486Z",
          "iopub.status.busy": "2024-10-30T17:41:19.201063Z",
          "iopub.status.idle": "2024-10-30T17:41:25.466772Z",
          "shell.execute_reply": "2024-10-30T17:41:25.465551Z"
        },
        "id": "1cf4d95f",
        "outputId": "c6c89561-a52b-442e-f6fb-9f9d378711c0",
        "papermill": {
          "duration": 6.301325,
          "end_time": "2024-10-30T17:41:25.470045",
          "exception": false,
          "start_time": "2024-10-30T17:41:19.168720",
          "status": "completed"
        },
        "tags": []
      },
      "outputs": [],
      "source": [
        "adf_test(y_train)\n",
        "print('\\nDifferentiations needed according to ADF:', pm.arima.utils.ndiffs(y_train, test='adf'))\n",
        "print('\\n')\n",
        "kpss_test(y_train)\n",
        "print('\\nDifferentiations needed according to KPSS:', pm.arima.utils.ndiffs(y_train, test='kpss'))\n"
      ]
    },
    {
      "cell_type": "code",
      "execution_count": null,
      "id": "ee06bdc7",
      "metadata": {
        "colab": {
          "base_uri": "https://localhost:8080/",
          "height": 497
        },
        "id": "ee06bdc7",
        "outputId": "43fb670c-1d5d-40d2-eaa2-334bf8b626d8"
      },
      "outputs": [],
      "source": [
        "fas_d = sm.tsa.acf(y, nlags=200)\n",
        "fas_s = sm.tsa.acf(y.resample('D').mean(), nlags=30)\n",
        "\n",
        "fig, axs = plt.subplots(1, 2, figsize=(15,7))\n",
        "fig.suptitle('Time series correlogram', y=1)\n",
        "axs[0].stem(fas_d)\n",
        "axs[0].set_title('ACF')\n",
        "axs[0].set_xlabel('n_lags')\n",
        "axs[0].grid(True)\n",
        "axs[1].stem(fas_s)\n",
        "axs[1].set_title('ACF (diary average)')\n",
        "axs[1].set_xlabel('n_lags / n_days')\n",
        "axs[1].grid(True)\n",
        "plt.tight_layout()\n",
        "plt.show()\n"
      ]
    },
    {
      "cell_type": "markdown",
      "id": "9072ea16",
      "metadata": {
        "id": "9072ea16",
        "papermill": {
          "duration": 0.052995,
          "end_time": "2024-10-30T17:41:25.576274",
          "exception": false,
          "start_time": "2024-10-30T17:41:25.523279",
          "status": "completed"
        },
        "tags": []
      },
      "source": [
        "## ARIMA"
      ]
    },
    {
      "cell_type": "code",
      "execution_count": null,
      "id": "23378d88",
      "metadata": {
        "colab": {
          "base_uri": "https://localhost:8080/"
        },
        "execution": {
          "iopub.execute_input": "2024-10-30T17:41:25.645423Z",
          "iopub.status.busy": "2024-10-30T17:41:25.644392Z",
          "iopub.status.idle": "2024-10-30T17:51:16.844992Z",
          "shell.execute_reply": "2024-10-30T17:51:16.841133Z"
        },
        "id": "23378d88",
        "outputId": "e4fccec2-919a-4934-fc8a-b35a4c74dc1b",
        "papermill": {
          "duration": 591.237266,
          "end_time": "2024-10-30T17:51:16.848691",
          "exception": false,
          "start_time": "2024-10-30T17:41:25.611425",
          "status": "completed"
        },
        "tags": []
      },
      "outputs": [],
      "source": [
        "if os.path.exists('../Models/search_arima_model_auto.pkl'):\n",
        "    print(\"Model already trained and saved at\", '../Models/search_arima_model_auto.pkl')\n",
        "    with open('../Models/search_arima_model_auto.pkl', 'rb') as pkl_file:\n",
        "        a_auto_model = pickle.load(pkl_file)\n",
        "else:\n",
        "    a_auto_model = pm.auto_arima(y_train, start_p=1, start_q=1, d=1,D=1,\n",
        "                                    max_p=10, max_q=10, max_d=10,\n",
        "                                    max_order=None,\n",
        "                                    m=7,\n",
        "                                    seasonal=False,\n",
        "                                    test='adf',\n",
        "                                    n_jobs=-1,\n",
        "                                    trace=True,\n",
        "                                    error_action='ignore')\n",
        "\n",
        "    with open('../Models/search_arima_model_auto.pkl', 'wb') as pkl_file:\n",
        "        pickle.dump(a_auto_model, pkl_file)\n",
        "\n"
      ]
    },
    {
      "cell_type": "code",
      "execution_count": null,
      "id": "f6c74941",
      "metadata": {
        "colab": {
          "base_uri": "https://localhost:8080/",
          "height": 80
        },
        "id": "f6c74941",
        "outputId": "ef2d8af4-920e-49b3-cf84-dd4c451d8c2d"
      },
      "outputs": [],
      "source": [
        "a_auto_model.fit(y_train)\n"
      ]
    },
    {
      "cell_type": "code",
      "execution_count": null,
      "id": "e40b21ff",
      "metadata": {
        "execution": {
          "iopub.execute_input": "2024-10-30T17:51:23.458900Z",
          "iopub.status.busy": "2024-10-30T17:51:23.457650Z",
          "iopub.status.idle": "2024-10-30T17:51:23.751628Z",
          "shell.execute_reply": "2024-10-30T17:51:23.750517Z"
        },
        "id": "e40b21ff",
        "papermill": {
          "duration": 0.348458,
          "end_time": "2024-10-30T17:51:23.754190",
          "exception": false,
          "start_time": "2024-10-30T17:51:23.405732",
          "status": "completed"
        },
        "tags": []
      },
      "outputs": [],
      "source": [
        "arima_pred = a_auto_model.predict(n_periods=len(y_test))\n"
      ]
    },
    {
      "cell_type": "code",
      "execution_count": null,
      "id": "d8c3ba5f",
      "metadata": {
        "colab": {
          "base_uri": "https://localhost:8080/"
        },
        "execution": {
          "iopub.execute_input": "2024-10-30T17:51:23.822807Z",
          "iopub.status.busy": "2024-10-30T17:51:23.821792Z",
          "iopub.status.idle": "2024-10-30T17:51:24.243362Z",
          "shell.execute_reply": "2024-10-30T17:51:24.242157Z"
        },
        "id": "d8c3ba5f",
        "outputId": "4d5f9c9d-41cd-4890-cf3f-155524c93109",
        "papermill": {
          "duration": 0.459631,
          "end_time": "2024-10-30T17:51:24.246918",
          "exception": false,
          "start_time": "2024-10-30T17:51:23.787287",
          "status": "completed"
        },
        "tags": []
      },
      "outputs": [],
      "source": [
        "print(a_auto_model.summary())\n"
      ]
    },
    {
      "cell_type": "code",
      "execution_count": null,
      "id": "7abd0c38",
      "metadata": {
        "colab": {
          "base_uri": "https://localhost:8080/"
        },
        "execution": {
          "iopub.execute_input": "2024-10-30T17:51:24.349122Z",
          "iopub.status.busy": "2024-10-30T17:51:24.348700Z",
          "iopub.status.idle": "2024-10-30T17:51:24.356222Z",
          "shell.execute_reply": "2024-10-30T17:51:24.354907Z"
        },
        "id": "7abd0c38",
        "outputId": "25fe8839-0044-4cf8-a160-6ad008255acf",
        "papermill": {
          "duration": 0.053608,
          "end_time": "2024-10-30T17:51:24.358608",
          "exception": false,
          "start_time": "2024-10-30T17:51:24.305000",
          "status": "completed"
        },
        "tags": []
      },
      "outputs": [],
      "source": [
        "mse = mean_squared_error(y_test, arima_pred)\n",
        "print(f'Mean Squared Error: {mse}')\n"
      ]
    },
    {
      "cell_type": "code",
      "execution_count": null,
      "id": "b683574e",
      "metadata": {},
      "outputs": [],
      "source": [
        "def calculate_all_metrics(y_true, y_pred):\n",
        "    mse = mean_squared_error(y_true, y_pred)\n",
        "    mae = mean_absolute_error(y_true, y_pred)\n",
        "    rmse = np.sqrt(mse)\n",
        "    r2 = r2_score(y_true, y_pred)\n",
        "    \n",
        "    print(f'Mean Squared Error: {mse}')\n",
        "    print(f'Mean Absolute Error: {mae}')\n",
        "    print(f'Root Mean Squared Error: {rmse}')\n",
        "    print(f'R-squared: {r2}')\n",
        "    \n",
        "    return mse, mae, rmse, r2\n"
      ]
    },
    {
      "cell_type": "code",
      "execution_count": null,
      "id": "310f62d4",
      "metadata": {},
      "outputs": [],
      "source": [
        "calculate_all_metrics(y_test, arima_pred)\n"
      ]
    },
    {
      "cell_type": "markdown",
      "id": "22136279",
      "metadata": {
        "id": "22136279",
        "papermill": {
          "duration": 0.033379,
          "end_time": "2024-10-30T17:51:24.425555",
          "exception": false,
          "start_time": "2024-10-30T17:51:24.392176",
          "status": "completed"
        },
        "tags": []
      },
      "source": [
        "## SRIMAX"
      ]
    },
    {
      "cell_type": "code",
      "execution_count": null,
      "id": "9e133d29",
      "metadata": {
        "execution": {
          "iopub.execute_input": "2024-10-30T17:51:24.494682Z",
          "iopub.status.busy": "2024-10-30T17:51:24.494223Z",
          "iopub.status.idle": "2024-10-30T18:01:18.760226Z",
          "shell.execute_reply": "2024-10-30T18:01:18.758849Z"
        },
        "id": "9e133d29",
        "papermill": {
          "duration": 594.303774,
          "end_time": "2024-10-30T18:01:18.763044",
          "exception": false,
          "start_time": "2024-10-30T17:51:24.459270",
          "status": "completed"
        },
        "tags": []
      },
      "outputs": [],
      "source": [
        "def SARIMAX(tru):\n",
        "  if os.path.exists('../Models/search_sarima_model_auto.pkl') and tru:\n",
        "      print(\"Model already trained and saved at\", '../Models/search_sarima_model_auto.pkl')\n",
        "      with open('../Models/search_sarima_model_auto.pkl', 'rb') as pkl_file:\n",
        "          auto_model = pickle.load(pkl_file)\n",
        "  else:\n",
        "    auto_model = pm.auto_arima(\n",
        "        y_train,\n",
        "        seasonal=True,\n",
        "        d=1,\n",
        "        m=24,\n",
        "        trace=True,\n",
        "        error_action='ignore',\n",
        "        suppress_warnings=True,\n",
        "        stepwise=True,\n",
        "        stationary=False,\n",
        "        start_p=1,\n",
        "        start_q=1,\n",
        "        start_P=0,\n",
        "        seasonal_test='ocsb'\n",
        "    )\n",
        "    with open('../Models/search_sarima_model_auto.pkl', 'wb') as pkl_file:\n",
        "      pickle.dump(auto_model, pkl_file)\n",
        "  return auto_model\n"
      ]
    },
    {
      "cell_type": "code",
      "execution_count": null,
      "id": "fAXEzrfqNbs9",
      "metadata": {
        "colab": {
          "base_uri": "https://localhost:8080/"
        },
        "id": "fAXEzrfqNbs9",
        "outputId": "8c00d0c3-970a-4570-e5ba-4eb83ec39fcf"
      },
      "outputs": [],
      "source": [
        "auto_model=SARIMAX(True)\n"
      ]
    },
    {
      "cell_type": "code",
      "execution_count": null,
      "id": "63574f1d",
      "metadata": {
        "colab": {
          "base_uri": "https://localhost:8080/",
          "height": 80
        },
        "execution": {
          "iopub.execute_input": "2024-10-30T18:01:18.847989Z",
          "iopub.status.busy": "2024-10-30T18:01:18.846849Z",
          "iopub.status.idle": "2024-10-30T18:01:25.288994Z",
          "shell.execute_reply": "2024-10-30T18:01:25.287206Z"
        },
        "id": "63574f1d",
        "outputId": "5b7d2f79-27fe-4fae-bc3a-3e2ba33e4ae5",
        "papermill": {
          "duration": 6.493088,
          "end_time": "2024-10-30T18:01:25.293549",
          "exception": false,
          "start_time": "2024-10-30T18:01:18.800461",
          "status": "completed"
        },
        "tags": []
      },
      "outputs": [],
      "source": [
        "auto_model.fit(y_train)\n"
      ]
    },
    {
      "cell_type": "code",
      "execution_count": null,
      "id": "72bb12ac",
      "metadata": {},
      "outputs": [],
      "source": [
        "print(auto_model.summary())\n"
      ]
    },
    {
      "cell_type": "code",
      "execution_count": null,
      "id": "68dd60d9",
      "metadata": {
        "colab": {
          "base_uri": "https://localhost:8080/",
          "height": 430
        },
        "id": "68dd60d9",
        "outputId": "63bcc183-d52a-4510-b254-fd0f140bb776"
      },
      "outputs": [],
      "source": [
        "\n",
        "def plot_residuals(auto_model):\n",
        "    \"\"\"\n",
        "    Plot the residuals of the Auto ARIMA model using Plotly.\n",
        "\n",
        "    Parameters:\n",
        "    auto_model (object): The fitted Auto ARIMA model.\n",
        "    \"\"\"\n",
        "    # Calculate residuals\n",
        "    residuals = auto_model.resid()\n",
        "\n",
        "    # Create figure\n",
        "    fig = go.Figure()\n",
        "\n",
        "    # Plot residuals\n",
        "    fig.add_trace(go.Scatter(\n",
        "        x=residuals.index,\n",
        "        y=residuals,\n",
        "        mode='lines',\n",
        "        name='Residuals',\n",
        "        line=dict(color='blue')\n",
        "    ))\n",
        "\n",
        "    # Update layout\n",
        "    fig.update_layout(\n",
        "        title='Residuals of the Auto ARIMA Model',\n",
        "        xaxis_title='Index',\n",
        "        yaxis_title='Residuals',\n",
        "        height=600,\n",
        "        width=1000\n",
        "    )\n",
        "\n",
        "    fig.show()\n",
        "\n",
        "# Example usage\n",
        "# plot_residuals(auto_model)\n"
      ]
    },
    {
      "cell_type": "code",
      "execution_count": null,
      "id": "db62a328",
      "metadata": {},
      "outputs": [],
      "source": [
        "# plot_residuals(auto_model)\n"
      ]
    },
    {
      "cell_type": "code",
      "execution_count": null,
      "id": "MJ1B3fgEyJIf",
      "metadata": {
        "id": "MJ1B3fgEyJIf"
      },
      "outputs": [],
      "source": []
    },
    {
      "cell_type": "code",
      "execution_count": null,
      "id": "378de34d",
      "metadata": {
        "id": "378de34d"
      },
      "outputs": [],
      "source": [
        "# with open('search_sarima_model_auto.pkl', 'rb') as pkl_file:\n",
        "#     auto_model = pickle.load(pkl_file)\n"
      ]
    },
    {
      "cell_type": "code",
      "execution_count": null,
      "id": "7e716ea6",
      "metadata": {
        "execution": {
          "iopub.execute_input": "2024-10-30T18:01:25.409798Z",
          "iopub.status.busy": "2024-10-30T18:01:25.408666Z",
          "iopub.status.idle": "2024-10-30T18:01:25.723068Z",
          "shell.execute_reply": "2024-10-30T18:01:25.721648Z"
        },
        "id": "7e716ea6",
        "papermill": {
          "duration": 0.365255,
          "end_time": "2024-10-30T18:01:25.725812",
          "exception": false,
          "start_time": "2024-10-30T18:01:25.360557",
          "status": "completed"
        },
        "tags": []
      },
      "outputs": [],
      "source": [
        "sarimax_pred = auto_model.predict(n_periods=len(y_test))\n"
      ]
    },
    {
      "cell_type": "code",
      "execution_count": null,
      "id": "040fc90c",
      "metadata": {},
      "outputs": [],
      "source": [
        "calculate_all_metrics(y_test, sarimax_pred)\n"
      ]
    },
    {
      "cell_type": "code",
      "execution_count": null,
      "id": "80272406",
      "metadata": {
        "colab": {
          "base_uri": "https://localhost:8080/"
        },
        "execution": {
          "iopub.execute_input": "2024-10-30T18:01:25.799710Z",
          "iopub.status.busy": "2024-10-30T18:01:25.799199Z",
          "iopub.status.idle": "2024-10-30T18:01:26.300168Z",
          "shell.execute_reply": "2024-10-30T18:01:26.298940Z"
        },
        "id": "80272406",
        "outputId": "d727a6be-b5db-44e8-f024-43c974170797",
        "papermill": {
          "duration": 0.541571,
          "end_time": "2024-10-30T18:01:26.304088",
          "exception": false,
          "start_time": "2024-10-30T18:01:25.762517",
          "status": "completed"
        },
        "tags": []
      },
      "outputs": [],
      "source": []
    },
    {
      "cell_type": "code",
      "execution_count": null,
      "id": "0b170b0f",
      "metadata": {
        "colab": {
          "base_uri": "https://localhost:8080/"
        },
        "execution": {
          "iopub.execute_input": "2024-10-30T18:01:26.410812Z",
          "iopub.status.busy": "2024-10-30T18:01:26.409683Z",
          "iopub.status.idle": "2024-10-30T18:01:26.417851Z",
          "shell.execute_reply": "2024-10-30T18:01:26.416639Z"
        },
        "id": "0b170b0f",
        "outputId": "6ed0f95c-88a1-4dd7-99cb-d2e27a5a72d9",
        "papermill": {
          "duration": 0.057151,
          "end_time": "2024-10-30T18:01:26.419971",
          "exception": false,
          "start_time": "2024-10-30T18:01:26.362820",
          "status": "completed"
        },
        "tags": []
      },
      "outputs": [],
      "source": [
        "mse = mean_squared_error(y_test, sarimax_pred)\n",
        "print(f'Mean Squared Error (SARIMAX): {mse}')\n"
      ]
    },
    {
      "cell_type": "code",
      "execution_count": null,
      "id": "1617ae6d",
      "metadata": {
        "colab": {
          "base_uri": "https://localhost:8080/"
        },
        "id": "1617ae6d",
        "outputId": "7a955f35-521b-4adb-8676-016544144b15"
      },
      "outputs": [],
      "source": [
        "distinct_counts = len(np.unique(sarimax_pred))\n",
        "print(distinct_counts)\n"
      ]
    },
    {
      "cell_type": "code",
      "execution_count": null,
      "id": "c2052f18",
      "metadata": {
        "id": "c2052f18"
      },
      "outputs": [],
      "source": [
        "import plotly.graph_objects as go\n",
        "\n",
        "def evaluate_regression_models(x_test, y_test, arima_pred, sarimax_pred, step=5000):\n",
        "    \"\"\"\n",
        "    Evaluate regression models and plot the results using Plotly.\n",
        "\n",
        "    Parameters:\n",
        "    x_test (pd.Index): Index of the test set.\n",
        "    y_test (pd.Series): Actual values of the test set.\n",
        "    arima_pred (pd.Series): Predicted values from the ARIMA model.\n",
        "    sarimax_pred (pd.Series): Predicted values from the SARIMAX model.\n",
        "    step (int): Step size for downsampling the data for plotting.\n",
        "    \"\"\"\n",
        "    # Downsample data\n",
        "    x_subset = x_test[::step]\n",
        "    y_subset = y_test[::step]\n",
        "    arima_subset = arima_pred[::step]\n",
        "    sarimax_subset = sarimax_pred[::step]\n",
        "\n",
        "    # Create figure\n",
        "    fig = go.Figure()\n",
        "\n",
        "    # Plot actual values\n",
        "    fig.add_trace(go.Scatter(\n",
        "        x=x_subset,\n",
        "        y=y_subset,\n",
        "        mode='lines+markers',\n",
        "        name='Actual',\n",
        "        line=dict(color='black'),\n",
        "        marker=dict(symbol='circle', size=6, opacity=0.6)\n",
        "    ))\n",
        "\n",
        "    # Plot ARIMA forecast\n",
        "    fig.add_trace(go.Scatter(\n",
        "        x=x_subset,\n",
        "        y=arima_subset,\n",
        "        mode='lines+markers',\n",
        "        name='ARIMA Forecast',\n",
        "        line=dict(color='blue', dash='dash'),\n",
        "        marker=dict(symbol='square', size=6, opacity=0.8)\n",
        "    ))\n",
        "\n",
        "    # Plot SARIMAX forecast\n",
        "    fig.add_trace(go.Scatter(\n",
        "        x=x_subset,\n",
        "        y=sarimax_subset,\n",
        "        mode='lines+markers',\n",
        "        name='SARIMAX Forecast',\n",
        "        line=dict(color='orange', dash='dot'),\n",
        "        marker=dict(symbol='diamond', size=6, opacity=0.8)\n",
        "    ))\n",
        "\n",
        "    # Update layout\n",
        "    fig.update_layout(\n",
        "        title='Forecast vs Actuals',\n",
        "        xaxis_title='Time Periods',\n",
        "        yaxis_title='Power Consumption',\n",
        "        xaxis=dict(tickangle=30),\n",
        "        legend=dict(x=0, y=1),\n",
        "        height=600,\n",
        "        width=1000,\n",
        "        xaxis_showgrid=True,\n",
        "        yaxis_showgrid=True,\n",
        "        xaxis_gridcolor='rgba(0,0,0,0.1)',\n",
        "        yaxis_gridcolor='rgba(0,0,0,0.1)',\n",
        "        xaxis_griddash='dash',\n",
        "        yaxis_griddash='dash'\n",
        "    )\n",
        "\n",
        "    fig.show()\n",
        "\n",
        "# Example usage\n",
        "# evaluate_regression_models(x_test, y_test, arima_pred, sarimax_pred)\n"
      ]
    },
    {
      "cell_type": "code",
      "execution_count": null,
      "id": "c04eef03",
      "metadata": {
        "id": "c04eef03"
      },
      "outputs": [],
      "source": [
        "evaluate_regression_models(y_test.index, y_test, arima_pred, sarimax_pred, step=5000)\n"
      ]
    },
    {
      "cell_type": "code",
      "execution_count": null,
      "id": "ebc6414d",
      "metadata": {
        "colab": {
          "base_uri": "https://localhost:8080/",
          "height": 564
        },
        "execution": {
          "iopub.execute_input": "2024-10-30T18:01:26.490829Z",
          "iopub.status.busy": "2024-10-30T18:01:26.490390Z",
          "iopub.status.idle": "2024-10-30T18:01:27.891774Z",
          "shell.execute_reply": "2024-10-30T18:01:27.890404Z"
        },
        "id": "ebc6414d",
        "outputId": "47b61fb9-5cc4-4f43-88f2-7c2996c48ccf",
        "papermill": {
          "duration": 1.440321,
          "end_time": "2024-10-30T18:01:27.894850",
          "exception": false,
          "start_time": "2024-10-30T18:01:26.454529",
          "status": "completed"
        },
        "tags": []
      },
      "outputs": [],
      "source": [
        "# # Plotting results\n",
        "# step = 5000\n",
        "\n",
        "# plt.figure(figsize=(14, 7))\n",
        "# plt.plot(x_test.index[::step], y_test[::step], label='Actual', color='black')  # Actual values\n",
        "# plt.plot(x_test.index[::step], arima_pred[::step], label='ARIMA Forecast', color='blue')  # ARIMA forecast\n",
        "# plt.plot(x_test.index[::step], sarimax_pred[::step], label='SARIMAX Forecast', color='orange')  # SARIMAX forecast\n",
        "# plt.title('Forecast vs Actuals')\n",
        "# plt.xlabel('Date')\n",
        "# plt.ylabel('Power Consumption')\n",
        "# plt.legend()\n",
        "# plt.show()\n"
      ]
    },
    {
      "cell_type": "code",
      "execution_count": null,
      "id": "ead6d6b4",
      "metadata": {
        "id": "ead6d6b4"
      },
      "outputs": [],
      "source": []
    },
    {
      "cell_type": "code",
      "execution_count": null,
      "id": "8b5a277e",
      "metadata": {
        "colab": {
          "base_uri": "https://localhost:8080/",
          "height": 520
        },
        "id": "8b5a277e",
        "outputId": "3899bade-da5f-49f7-bbe0-84d67763d011"
      },
      "outputs": [],
      "source": [
        "# import matplotlib.pyplot as plt\n",
        "# import pandas as pd\n",
        "\n",
        "# # Downsample every 10th point (adjust as needed)\n",
        "# step = 5000\n",
        "# x_subset = x_test.index[::step]\n",
        "# y_subset = y_test[::step]\n",
        "# arima_subset = arima_pred[::step]\n",
        "# sarimax_subset = sarimax_pred[::step]\n",
        "\n",
        "# # Set figure size\n",
        "# plt.figure(figsize=(12, 6))\n",
        "\n",
        "# # Plot actual values\n",
        "# plt.plot(x_subset, y_subset, label='Actual', color='black', linestyle='-', marker='o', markersize=3, alpha=0.6)\n",
        "\n",
        "# # Plot ARIMA forecast\n",
        "# plt.plot(x_subset, arima_subset, label='ARIMA Forecast', color='blue', linestyle='--', marker='s', markersize=3, alpha=0.8)\n",
        "\n",
        "# # Plot SARIMAX forecast\n",
        "# plt.plot(x_subset, sarimax_subset, label='SARIMAX Forecast', color='orange', linestyle='-.', marker='d', markersize=3, alpha=0.8)\n",
        "\n",
        "# # Adding titles and labels\n",
        "# plt.title('Forecast vs Actuals')\n",
        "# plt.xlabel('Time Periods')\n",
        "# plt.ylabel('Power Consumption')\n",
        "\n",
        "# # Improve x-tick readability\n",
        "# plt.xticks(rotation=30, ha='right')\n",
        "\n",
        "# plt.legend()\n",
        "# plt.grid(True, linestyle='--', alpha=0.5)  # Add grid for better readability\n",
        "# plt.tight_layout()\n",
        "# plt.show()\n"
      ]
    },
    {
      "cell_type": "code",
      "execution_count": null,
      "id": "647f5c96",
      "metadata": {},
      "outputs": [],
      "source": [
        "\n",
        "# # Downsample every 10th point (adjust as needed)\n",
        "# step = 5000\n",
        "# x_subset = x_test.index[::step]\n",
        "# y_subset = y_test[::step]\n",
        "# arima_subset = arima_pred[::step]\n",
        "# sarimax_subset = sarimax_pred[::step]\n",
        "\n",
        "# # Create figure\n",
        "# fig = go.Figure()\n",
        "\n",
        "# # Plot actual values\n",
        "# fig.add_trace(go.Scatter(\n",
        "#     x=x_subset,\n",
        "#     y=y_subset,\n",
        "#     mode='lines+markers',\n",
        "#     name='Actual',\n",
        "#     line=dict(color='black'),\n",
        "#     marker=dict(symbol='circle', size=6, opacity=0.6)\n",
        "# ))\n",
        "\n",
        "# # Plot ARIMA forecast\n",
        "# fig.add_trace(go.Scatter(\n",
        "#     x=x_subset,\n",
        "#     y=arima_subset,\n",
        "#     mode='lines+markers',\n",
        "#     name='ARIMA Forecast',\n",
        "#     line=dict(color='blue', dash='dash'),\n",
        "#     marker=dict(symbol='square', size=6, opacity=0.8)\n",
        "# ))\n",
        "\n",
        "# # Plot SARIMAX forecast\n",
        "# fig.add_trace(go.Scatter(\n",
        "#     x=x_subset,\n",
        "#     y=sarimax_subset,\n",
        "#     mode='lines+markers',\n",
        "#     name='SARIMAX Forecast',\n",
        "#     line=dict(color='orange', dash='dot'),\n",
        "#     marker=dict(symbol='diamond', size=6, opacity=0.8)\n",
        "# ))\n",
        "\n",
        "# # Update layout\n",
        "# fig.update_layout(\n",
        "#     title='Forecast vs Actuals',\n",
        "#     xaxis_title='Time Periods',\n",
        "#     yaxis_title='Power Consumption',\n",
        "#     xaxis=dict(tickangle=30),\n",
        "#     legend=dict(x=0, y=1),\n",
        "#     height=600,\n",
        "#     width=1000,\n",
        "#     xaxis_showgrid=True,\n",
        "#     yaxis_showgrid=True,\n",
        "#     xaxis_gridcolor='rgba(0,0,0,0.1)',\n",
        "#     yaxis_gridcolor='rgba(0,0,0,0.1)',\n",
        "#     xaxis_griddash='dash',\n",
        "#     yaxis_griddash='dash'\n",
        "# )\n",
        "\n",
        "# fig.show()\n"
      ]
    },
    {
      "cell_type": "code",
      "execution_count": null,
      "id": "r1Vx2B2CkXX2",
      "metadata": {
        "colab": {
          "base_uri": "https://localhost:8080/",
          "height": 520
        },
        "id": "r1Vx2B2CkXX2",
        "outputId": "43694fa2-76a1-4f8d-b953-4f2fd9185840"
      },
      "outputs": [],
      "source": [
        "# # Prepare the x-axis positions\n",
        "# x_positions = np.arange(len(x_test))\n",
        "\n",
        "# # Create the bar width\n",
        "# bar_width = 0.25\n",
        "\n",
        "# # Plotting results using bar charts\n",
        "# plt.figure(figsize=(14, 7))\n",
        "\n",
        "# # Actual values\n",
        "# plt.bar(x_positions, y_test, width=bar_width, label='Actual', color='black', alpha=0.6)\n",
        "\n",
        "# # ARIMA forecast\n",
        "# plt.bar(x_positions + bar_width, arima_pred, width=bar_width, label='ARIMA Forecast', color='blue', alpha=0.6)\n",
        "\n",
        "# # SARIMAX forecast\n",
        "# plt.bar(x_positions + 2 * bar_width, sarimax_pred, width=bar_width, label='SARIMAX Forecast', color='orange', alpha=0.6)\n",
        "\n",
        "# # Adding titles and labels\n",
        "# plt.title('Forecast vs Actuals')\n",
        "# plt.xlabel('Time Periods')\n",
        "# plt.ylabel('Power Consumption')\n",
        "# plt.xticks(x_positions + bar_width, x_test.index.date, rotation=45)  # Rotate date labels for better readability\n",
        "# plt.legend()\n",
        "# plt.tight_layout()  # Adjust layout to prevent clipping of tick-labels\n",
        "# plt.show()\n"
      ]
    },
    {
      "cell_type": "code",
      "execution_count": null,
      "id": "28b1bd81",
      "metadata": {
        "colab": {
          "base_uri": "https://localhost:8080/",
          "height": 520
        },
        "execution": {
          "iopub.execute_input": "2024-10-30T18:01:27.978503Z",
          "iopub.status.busy": "2024-10-30T18:01:27.977418Z",
          "iopub.status.idle": "2024-10-30T18:03:34.906227Z",
          "shell.execute_reply": "2024-10-30T18:03:34.904902Z"
        },
        "id": "28b1bd81",
        "outputId": "05472947-9977-4256-935c-9571ebc4efdd",
        "papermill": {
          "duration": 127.007895,
          "end_time": "2024-10-30T18:03:34.945804",
          "exception": false,
          "start_time": "2024-10-30T18:01:27.937909",
          "status": "completed"
        },
        "tags": []
      },
      "outputs": [],
      "source": [
        "# # Select the last 'num_obs' observations\n",
        "# num_obs = 10  # Adjust as needed\n",
        "# x_test_subset = x_test.iloc[-num_obs:]  # Keep the original index\n",
        "# y_test_subset = y_test.iloc[-num_obs:]\n",
        "# arima_pred_subset = arima_pred[-num_obs:]\n",
        "# sarimax_pred_subset = sarimax_pred[-num_obs:]\n",
        "\n",
        "# # Adjust x_positions\n",
        "# bar_width = 0.2\n",
        "# spacing = 0.1\n",
        "# x_positions = np.arange(num_obs) * (bar_width * 3 + spacing)\n",
        "\n",
        "# plt.figure(figsize=(14, 7))\n",
        "\n",
        "# # Actual values\n",
        "# plt.bar(x_positions, y_test_subset, width=bar_width, label='Actual', color='black', alpha=0.6)\n",
        "\n",
        "# # ARIMA forecast\n",
        "# plt.bar(x_positions + bar_width + spacing, arima_pred_subset, width=bar_width, label='ARIMA Forecast', color='blue', alpha=0.6)\n",
        "\n",
        "# # SARIMAX forecast\n",
        "# plt.bar(x_positions + 2 * (bar_width + spacing), sarimax_pred_subset, width=bar_width, label='SARIMAX Forecast', color='orange', alpha=0.6)\n",
        "\n",
        "# # Labels and display adjustments\n",
        "# plt.title('Forecast vs Actuals')\n",
        "# plt.xlabel('Time Periods')\n",
        "# plt.ylabel('Power Consumption')\n",
        "# plt.xticks(x_positions + (bar_width + spacing), x_test_subset.index.date, rotation=45)  # Use index directly\n",
        "# plt.legend()\n",
        "# plt.tight_layout()\n",
        "# plt.show()\n"
      ]
    },
    {
      "cell_type": "code",
      "execution_count": null,
      "id": "8Chen3a83J6i",
      "metadata": {
        "colab": {
          "base_uri": "https://localhost:8080/",
          "height": 542
        },
        "id": "8Chen3a83J6i",
        "outputId": "cd81d3a7-9ec3-43f1-ddce-b1fb6dfdb56e"
      },
      "outputs": [],
      "source": [
        "import numpy as np\n",
        "import plotly.graph_objects as go\n",
        "\n",
        "# Select the last 'num_obs' observations\n",
        "num_obs = 10  # Adjust as needed\n",
        "x_test_subset = x_test.iloc[-num_obs:]  # Keep the original index\n",
        "y_test_subset = y_test.iloc[-num_obs:]\n",
        "arima_pred_subset = arima_pred[-num_obs:]\n",
        "sarimax_pred_subset = sarimax_pred[-num_obs:]\n",
        "\n",
        "# Adjust x_positions\n",
        "bar_width = 0.2\n",
        "spacing = 0.1\n",
        "x_positions = np.arange(num_obs)\n",
        "\n",
        "# Create figure\n",
        "fig = go.Figure()\n",
        "\n",
        "# Actual values\n",
        "fig.add_trace(go.Bar(\n",
        "    x=x_positions,\n",
        "    y=y_test_subset,\n",
        "    name=\"Actual\",\n",
        "    marker_color=\"black\",\n",
        "    opacity=0.6\n",
        "))\n",
        "\n",
        "# ARIMA forecast\n",
        "fig.add_trace(go.Bar(\n",
        "    x=x_positions + (bar_width + spacing),\n",
        "    y=arima_pred_subset,\n",
        "    name=\"ARIMA Forecast\",\n",
        "    marker_color=\"blue\",\n",
        "    opacity=0.6\n",
        "))\n",
        "\n",
        "# SARIMAX forecast\n",
        "fig.add_trace(go.Bar(\n",
        "    x=x_positions + 2 * (bar_width + spacing),\n",
        "    y=sarimax_pred_subset,\n",
        "    name=\"SARIMAX Forecast\",\n",
        "    marker_color=\"orange\",\n",
        "    opacity=0.6\n",
        "))\n",
        "\n",
        "# Layout adjustments\n",
        "fig.update_layout(\n",
        "    title=\"Forecast vs Actuals\",\n",
        "    xaxis=dict(\n",
        "        tickmode=\"array\",\n",
        "        tickvals=x_positions + (bar_width + spacing),\n",
        "        ticktext=x_test_subset.index.date,\n",
        "    ),\n",
        "    yaxis_title=\"Power Consumption\",\n",
        "    barmode=\"group\",\n",
        "    bargap=spacing,\n",
        "    template=\"plotly_white\"\n",
        ")\n",
        "\n",
        "# Show plot\n",
        "fig.show()\n"
      ]
    },
    {
      "cell_type": "code",
      "execution_count": null,
      "id": "UWkL8K65nIFe",
      "metadata": {
        "id": "UWkL8K65nIFe"
      },
      "outputs": [],
      "source": [
        "train = y[:'2018-09-30 23:50:00']\n",
        "test = y['2018-10-01 00:00:00':]\n"
      ]
    },
    {
      "cell_type": "code",
      "execution_count": null,
      "id": "JriATehsCjjk",
      "metadata": {
        "colab": {
          "base_uri": "https://localhost:8080/",
          "height": 272
        },
        "id": "JriATehsCjjk",
        "outputId": "83c62316-2367-4a40-aee7-fc5c9a1614c3"
      },
      "outputs": [],
      "source": [
        "y.tail()\n"
      ]
    },
    {
      "cell_type": "code",
      "execution_count": null,
      "id": "7058db4e",
      "metadata": {
        "colab": {
          "base_uri": "https://localhost:8080/"
        },
        "id": "7058db4e",
        "outputId": "eb0f3e55-e429-4246-de43-518044c99a2a",
        "papermill": {
          "duration": 0.039262,
          "end_time": "2024-10-30T18:03:35.022447",
          "exception": false,
          "start_time": "2024-10-30T18:03:34.983185",
          "status": "completed"
        },
        "tags": []
      },
      "outputs": [],
      "source": [
        "#MODEL\n",
        "estimator = TBATS(seasonal_periods=[144, 1008], use_trend=False)\n",
        "\n",
        "if os.path.exists('../Models/search_tvats_model_auto.pkl'):\n",
        "    print(\"Model already trained and saved at\", '../Models/search_tvats_model_auto.pkl')\n",
        "    with open('../Models/search_tvats_model_auto.pkl', 'rb') as pkl_file:\n",
        "        fitted_model = pickle.load(pkl_file)\n",
        "else:\n",
        "  fitted_model = estimator.fit(train)\n",
        "  with open('../Models/search_tvats_model_auto.pkl', 'wb') as pkl_file:\n",
        "    pickle.dump(fitted_model, pkl_file)\n"
      ]
    },
    {
      "cell_type": "code",
      "execution_count": null,
      "id": "f4D-9I5kqGCr",
      "metadata": {
        "colab": {
          "base_uri": "https://localhost:8080/"
        },
        "id": "f4D-9I5kqGCr",
        "outputId": "51cb0c78-0091-40b1-955e-a1eb5fe1f7bb"
      },
      "outputs": [],
      "source": [
        "\n",
        "print('TBATS model summary:\\n', fitted_model.summary())\n",
        "\n",
        "pred_train = pd.Series(data=fitted_model.y_hat, index=train.index)\n",
        "\n",
        "pred_test, conf_test = fitted_model.forecast(steps=len(test), confidence_level=0.95)\n",
        "pred_test = pd.Series(data=pred_test, index=test.index)\n",
        "conf_test = pd.DataFrame(data={'lower_bound':conf_test['lower_bound'], 'upper_bound':conf_test['upper_bound']}, index=test.index)\n",
        "\n",
        "err_train = pd.Series(data=fitted_model.resid, index=train.index)\n",
        "err_test = test - pred_test\n",
        "err = pd.concat([err_train, err_test])\n"
      ]
    },
    {
      "cell_type": "code",
      "execution_count": null,
      "id": "685af82f",
      "metadata": {},
      "outputs": [],
      "source": []
    },
    {
      "cell_type": "code",
      "execution_count": null,
      "id": "INBKWIaeCQKz",
      "metadata": {
        "colab": {
          "base_uri": "https://localhost:8080/"
        },
        "id": "INBKWIaeCQKz",
        "outputId": "5f548004-e5f1-4f69-e8b2-236e2e4f759d"
      },
      "outputs": [],
      "source": [
        "print(len(test))  # Ensure it's a positive integer\n"
      ]
    },
    {
      "cell_type": "code",
      "execution_count": null,
      "id": "E98_xxStsEve",
      "metadata": {
        "id": "E98_xxStsEve"
      },
      "outputs": [],
      "source": [
        "calculate_all_metrics(test, pred_test)\n"
      ]
    },
    {
      "cell_type": "code",
      "execution_count": null,
      "id": "837005ae",
      "metadata": {
        "colab": {
          "base_uri": "https://localhost:8080/",
          "height": 1000
        },
        "id": "837005ae",
        "outputId": "2eaa0cff-c207-469c-8f7e-faa5c3029197",
        "papermill": {
          "duration": 0.038288,
          "end_time": "2024-10-30T18:03:35.099959",
          "exception": false,
          "start_time": "2024-10-30T18:03:35.061671",
          "status": "completed"
        },
        "tags": []
      },
      "outputs": [],
      "source": [
        "\n",
        "\n",
        "# # Whole visualization\n",
        "# fig = go.Figure()\n",
        "\n",
        "# fig.add_trace(go.Scatter(\n",
        "#     x=train.index,\n",
        "#     y=train,\n",
        "#     mode='lines',\n",
        "#     name='Train',\n",
        "#     line=dict(color='red')\n",
        "# ))\n",
        "\n",
        "# fig.add_trace(go.Scatter(\n",
        "#     x=test.index,\n",
        "#     y=test,\n",
        "#     mode='lines',\n",
        "#     name='Test',\n",
        "#     line=dict(color='indianred')\n",
        "# ))\n",
        "\n",
        "# fig.add_trace(go.Scatter(\n",
        "#     x=pred_train.index,\n",
        "#     y=pred_train,\n",
        "#     mode='lines',\n",
        "#     name='Train pred',\n",
        "#     line=dict(color='teal')\n",
        "# ))\n",
        "\n",
        "# fig.add_trace(go.Scatter(\n",
        "#     x=pred_test.index,\n",
        "#     y=pred_test,\n",
        "#     mode='lines',\n",
        "#     name='Test pred',\n",
        "#     line=dict(color='turquoise')\n",
        "# ))\n",
        "\n",
        "# fig.add_trace(go.Scatter(\n",
        "#     x=conf_test.index,\n",
        "#     y=conf_test['lower_bound'],\n",
        "#     mode='lines',\n",
        "#     name='Lower Bound',\n",
        "#     line=dict(width=0),\n",
        "#     showlegend=False\n",
        "# ))\n",
        "\n",
        "# fig.add_trace(go.Scatter(\n",
        "#     x=conf_test.index,\n",
        "#     y=conf_test['upper_bound'],\n",
        "#     mode='lines',\n",
        "#     name='Upper Bound',\n",
        "#     line=dict(width=0),\n",
        "#     fill='tonexty',\n",
        "#     fillcolor='rgba(0,0,0,0.1)',\n",
        "#     showlegend=True\n",
        "# ))\n",
        "\n",
        "# fig.update_layout(\n",
        "#     title='TBATS forecasting',\n",
        "#     xaxis_title='Datetime',\n",
        "#     yaxis_title='Power Consumption',\n",
        "#     legend=dict(x=0, y=1),\n",
        "#     height=600,\n",
        "#     width=1000\n",
        "# )\n",
        "\n",
        "# fig.show()\n",
        "\n",
        "# # TBATS errors\n",
        "# fig = make_subplots(rows=1, cols=2, subplot_titles=('TBATS errors', 'Error Distribution'))\n",
        "\n",
        "# # Error plot\n",
        "# fig.add_trace(go.Scatter(\n",
        "#     x=err.index,\n",
        "#     y=err,\n",
        "#     mode='markers',\n",
        "#     name='Errors',\n",
        "#     marker=dict(color='blue')\n",
        "# ), row=1, col=1)\n",
        "\n",
        "# fig.update_xaxes(title_text='Date', row=1, col=1)\n",
        "# fig.update_yaxes(title_text='Power Consumption', row=1, col=1)\n",
        "\n",
        "# # Error histogram\n",
        "# fig.add_trace(go.Histogram(\n",
        "#     x=err,\n",
        "#     nbinsx=13,\n",
        "#     name='Error Distribution',\n",
        "#     marker=dict(color='blue')\n",
        "# ), row=1, col=2)\n",
        "\n",
        "# fig.update_xaxes(title_text='Power Consumption', row=1, col=2)\n",
        "\n",
        "# fig.update_layout(\n",
        "#     height=600,\n",
        "#     width=1200,\n",
        "#     showlegend=False,\n",
        "#     title_text='TBATS errors'\n",
        "# )\n",
        "\n",
        "# fig.show()\n"
      ]
    },
    {
      "cell_type": "code",
      "execution_count": null,
      "id": "8a1f5ff1",
      "metadata": {
        "colab": {
          "base_uri": "https://localhost:8080/",
          "height": 1000
        },
        "id": "8a1f5ff1",
        "outputId": "c5ef52b1-c7a2-48f9-cabf-377387b95fda"
      },
      "outputs": [],
      "source": [
        "# # Train dataset and forecasting visualization\n",
        "# fig = go.Figure()\n",
        "\n",
        "# fig.add_trace(go.Scatter(\n",
        "#     x=train['2018-8-01 00:00:00':'2018-9-15 23:50:00'].index,\n",
        "#     y=train['2018-8-01 00:00:00':'2018-9-15 23:50:00'],\n",
        "#     mode='lines',\n",
        "#     name='Train',\n",
        "#     line=dict(color='red')\n",
        "# ))\n",
        "\n",
        "# fig.add_trace(go.Scatter(\n",
        "#     x=pred_train['2018-8-01 00:00:00':'2018-9-15 23:50:00'].index,\n",
        "#     y=pred_train['2018-8-01 00:00:00':'2018-9-15 23:50:00'],\n",
        "#     mode='lines',\n",
        "#     name='Train pred',\n",
        "#     line=dict(color='teal')\n",
        "# ))\n",
        "\n",
        "# fig.update_layout(\n",
        "#     title='TBATS forecasting (train)',\n",
        "#     xaxis_title='Datetime',\n",
        "#     yaxis_title='Power consumption',\n",
        "#     legend=dict(x=0, y=1),\n",
        "#     height=600,\n",
        "#     width=1000\n",
        "# )\n",
        "\n",
        "# fig.show()\n",
        "\n",
        "# # TBATS errors (train)\n",
        "# fig = make_subplots(rows=1, cols=2, subplot_titles=('TBATS errors (train)', 'Error Distribution'))\n",
        "\n",
        "# # Error plot\n",
        "# fig.add_trace(go.Scatter(\n",
        "#     x=err['2017-03-01 00:00:00':'2017-03-06 23:50:00'].index,\n",
        "#     y=err['2017-03-01 00:00:00':'2017-03-06 23:50:00'],\n",
        "#     mode='markers',\n",
        "#     name='Errors',\n",
        "#     marker=dict(color='blue')\n",
        "# ), row=1, col=1)\n",
        "\n",
        "# fig.update_xaxes(title_text='Datetime', row=1, col=1)\n",
        "# fig.update_yaxes(title_text='Power Consumption', row=1, col=1)\n",
        "\n",
        "# # Error histogram\n",
        "# fig.add_trace(go.Histogram(\n",
        "#     x=err['2017-03-01 00:00:00':'2017-03-06 23:50:00'],\n",
        "#     nbinsx=13,\n",
        "#     name='Error Distribution',\n",
        "#     marker=dict(color='blue')\n",
        "# ), row=1, col=2)\n",
        "\n",
        "# fig.update_xaxes(title_text='Power Consumption', row=1, col=2)\n",
        "\n",
        "# fig.update_layout(\n",
        "#     height=600,\n",
        "#     width=1200,\n",
        "#     showlegend=False,\n",
        "#     title_text='TBATS errors (train)'\n",
        "# )\n",
        "\n",
        "# fig.show()\n"
      ]
    }
  ],
  "metadata": {
    "colab": {
      "provenance": []
    },
    "kaggle": {
      "accelerator": "none",
      "dataSources": [
        {
          "datasetId": 2380926,
          "sourceId": 4017301,
          "sourceType": "datasetVersion"
        }
      ],
      "dockerImageVersionId": 30786,
      "isGpuEnabled": false,
      "isInternetEnabled": true,
      "language": "python",
      "sourceType": "notebook"
    },
    "kernelspec": {
      "display_name": "Python 3",
      "name": "python3"
    },
    "language_info": {
      "codemirror_mode": {
        "name": "ipython",
        "version": 3
      },
      "file_extension": ".py",
      "mimetype": "text/x-python",
      "name": "python",
      "nbconvert_exporter": "python",
      "pygments_lexer": "ipython3",
      "version": "3.12.8"
    },
    "papermill": {
      "default_parameters": {},
      "duration": 1387.572039,
      "end_time": "2024-10-30T18:03:37.860791",
      "environment_variables": {},
      "exception": null,
      "input_path": "__notebook__.ipynb",
      "output_path": "__notebook__.ipynb",
      "parameters": {},
      "start_time": "2024-10-30T17:40:30.288752",
      "version": "2.6.0"
    }
  },
  "nbformat": 4,
  "nbformat_minor": 5
}

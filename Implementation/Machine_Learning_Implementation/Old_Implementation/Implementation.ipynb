{
 "cells": [
  {
   "cell_type": "code",
   "execution_count": 1,
   "id": "621009ac",
   "metadata": {
    "_cell_guid": "b1076dfc-b9ad-4769-8c92-a6c4dae69d19",
    "_uuid": "8f2839f25d086af736a60e9eeb907d3b93b6e0e5",
    "execution": {
     "iopub.execute_input": "2024-10-30T17:40:33.341514Z",
     "iopub.status.busy": "2024-10-30T17:40:33.341088Z",
     "iopub.status.idle": "2024-10-30T17:40:34.294221Z",
     "shell.execute_reply": "2024-10-30T17:40:34.292920Z"
    },
    "papermill": {
     "duration": 0.977638,
     "end_time": "2024-10-30T17:40:34.296734",
     "exception": false,
     "start_time": "2024-10-30T17:40:33.319096",
     "status": "completed"
    },
    "tags": []
   },
   "outputs": [],
   "source": [
    "import numpy as np # linear algebra\n",
    "import pandas as pd\n"
   ]
  },
  {
   "cell_type": "markdown",
   "id": "c43d24c6",
   "metadata": {
    "papermill": {
     "duration": 0.017928,
     "end_time": "2024-10-30T17:40:59.564206",
     "exception": false,
     "start_time": "2024-10-30T17:40:59.546278",
     "status": "completed"
    },
    "tags": []
   },
   "source": [
    "## Importing Libraries"
   ]
  },
  {
   "cell_type": "code",
   "execution_count": 2,
   "id": "02680025",
   "metadata": {
    "execution": {
     "iopub.execute_input": "2024-10-30T17:40:59.602473Z",
     "iopub.status.busy": "2024-10-30T17:40:59.602041Z",
     "iopub.status.idle": "2024-10-30T17:41:03.572156Z",
     "shell.execute_reply": "2024-10-30T17:41:03.571095Z"
    },
    "papermill": {
     "duration": 3.992436,
     "end_time": "2024-10-30T17:41:03.574821",
     "exception": false,
     "start_time": "2024-10-30T17:40:59.582385",
     "status": "completed"
    },
    "tags": []
   },
   "outputs": [],
   "source": [
    "import pandas as pd\n",
    "import numpy as np\n",
    "import matplotlib.pyplot as plt\n",
    "import seaborn as sns\n",
    "from pmdarima import auto_arima\n",
    "from statsmodels.tsa.arima.model import ARIMA\n",
    "from statsmodels.tsa.statespace.sarimax import SARIMAX\n",
    "from sklearn.metrics import mean_squared_error\n",
    "from sklearn.preprocessing import RobustScaler , StandardScaler, MinMaxScaler\n",
    "from sklearn.model_selection import train_test_split\n"
   ]
  },
  {
   "cell_type": "code",
   "execution_count": 3,
   "id": "e644279a",
   "metadata": {},
   "outputs": [],
   "source": [
    "import warnings\n",
    "warnings.filterwarnings(\"ignore\")\n"
   ]
  },
  {
   "cell_type": "markdown",
   "id": "b186bd5f",
   "metadata": {
    "papermill": {
     "duration": 0.017953,
     "end_time": "2024-10-30T17:41:03.611107",
     "exception": false,
     "start_time": "2024-10-30T17:41:03.593154",
     "status": "completed"
    },
    "tags": []
   },
   "source": [
    "## Load your dataset"
   ]
  },
  {
   "cell_type": "code",
   "execution_count": 4,
   "id": "c193a1e6",
   "metadata": {
    "execution": {
     "iopub.execute_input": "2024-10-30T17:41:03.649952Z",
     "iopub.status.busy": "2024-10-30T17:41:03.648633Z",
     "iopub.status.idle": "2024-10-30T17:41:03.835679Z",
     "shell.execute_reply": "2024-10-30T17:41:03.834470Z"
    },
    "papermill": {
     "duration": 0.209272,
     "end_time": "2024-10-30T17:41:03.838458",
     "exception": false,
     "start_time": "2024-10-30T17:41:03.629186",
     "status": "completed"
    },
    "tags": []
   },
   "outputs": [
    {
     "ename": "FileNotFoundError",
     "evalue": "[Errno 2] No such file or directory: '../DataSet/powerconsumption.csv'",
     "output_type": "error",
     "traceback": [
      "\u001b[1;31m---------------------------------------------------------------------------\u001b[0m",
      "\u001b[1;31mFileNotFoundError\u001b[0m                         Traceback (most recent call last)",
      "Cell \u001b[1;32mIn[4], line 1\u001b[0m\n\u001b[1;32m----> 1\u001b[0m data \u001b[38;5;241m=\u001b[39m \u001b[43mpd\u001b[49m\u001b[38;5;241;43m.\u001b[39;49m\u001b[43mread_csv\u001b[49m\u001b[43m(\u001b[49m\u001b[38;5;124;43m\"\u001b[39;49m\u001b[38;5;124;43m../DataSet/powerconsumption.csv\u001b[39;49m\u001b[38;5;124;43m\"\u001b[39;49m\u001b[43m)\u001b[49m\n",
      "File \u001b[1;32m~\\AppData\\Roaming\\Python\\Python312\\site-packages\\pandas\\io\\parsers\\readers.py:1026\u001b[0m, in \u001b[0;36mread_csv\u001b[1;34m(filepath_or_buffer, sep, delimiter, header, names, index_col, usecols, dtype, engine, converters, true_values, false_values, skipinitialspace, skiprows, skipfooter, nrows, na_values, keep_default_na, na_filter, verbose, skip_blank_lines, parse_dates, infer_datetime_format, keep_date_col, date_parser, date_format, dayfirst, cache_dates, iterator, chunksize, compression, thousands, decimal, lineterminator, quotechar, quoting, doublequote, escapechar, comment, encoding, encoding_errors, dialect, on_bad_lines, delim_whitespace, low_memory, memory_map, float_precision, storage_options, dtype_backend)\u001b[0m\n\u001b[0;32m   1013\u001b[0m kwds_defaults \u001b[38;5;241m=\u001b[39m _refine_defaults_read(\n\u001b[0;32m   1014\u001b[0m     dialect,\n\u001b[0;32m   1015\u001b[0m     delimiter,\n\u001b[1;32m   (...)\u001b[0m\n\u001b[0;32m   1022\u001b[0m     dtype_backend\u001b[38;5;241m=\u001b[39mdtype_backend,\n\u001b[0;32m   1023\u001b[0m )\n\u001b[0;32m   1024\u001b[0m kwds\u001b[38;5;241m.\u001b[39mupdate(kwds_defaults)\n\u001b[1;32m-> 1026\u001b[0m \u001b[38;5;28;01mreturn\u001b[39;00m \u001b[43m_read\u001b[49m\u001b[43m(\u001b[49m\u001b[43mfilepath_or_buffer\u001b[49m\u001b[43m,\u001b[49m\u001b[43m \u001b[49m\u001b[43mkwds\u001b[49m\u001b[43m)\u001b[49m\n",
      "File \u001b[1;32m~\\AppData\\Roaming\\Python\\Python312\\site-packages\\pandas\\io\\parsers\\readers.py:620\u001b[0m, in \u001b[0;36m_read\u001b[1;34m(filepath_or_buffer, kwds)\u001b[0m\n\u001b[0;32m    617\u001b[0m _validate_names(kwds\u001b[38;5;241m.\u001b[39mget(\u001b[38;5;124m\"\u001b[39m\u001b[38;5;124mnames\u001b[39m\u001b[38;5;124m\"\u001b[39m, \u001b[38;5;28;01mNone\u001b[39;00m))\n\u001b[0;32m    619\u001b[0m \u001b[38;5;66;03m# Create the parser.\u001b[39;00m\n\u001b[1;32m--> 620\u001b[0m parser \u001b[38;5;241m=\u001b[39m \u001b[43mTextFileReader\u001b[49m\u001b[43m(\u001b[49m\u001b[43mfilepath_or_buffer\u001b[49m\u001b[43m,\u001b[49m\u001b[43m \u001b[49m\u001b[38;5;241;43m*\u001b[39;49m\u001b[38;5;241;43m*\u001b[39;49m\u001b[43mkwds\u001b[49m\u001b[43m)\u001b[49m\n\u001b[0;32m    622\u001b[0m \u001b[38;5;28;01mif\u001b[39;00m chunksize \u001b[38;5;129;01mor\u001b[39;00m iterator:\n\u001b[0;32m    623\u001b[0m     \u001b[38;5;28;01mreturn\u001b[39;00m parser\n",
      "File \u001b[1;32m~\\AppData\\Roaming\\Python\\Python312\\site-packages\\pandas\\io\\parsers\\readers.py:1620\u001b[0m, in \u001b[0;36mTextFileReader.__init__\u001b[1;34m(self, f, engine, **kwds)\u001b[0m\n\u001b[0;32m   1617\u001b[0m     \u001b[38;5;28mself\u001b[39m\u001b[38;5;241m.\u001b[39moptions[\u001b[38;5;124m\"\u001b[39m\u001b[38;5;124mhas_index_names\u001b[39m\u001b[38;5;124m\"\u001b[39m] \u001b[38;5;241m=\u001b[39m kwds[\u001b[38;5;124m\"\u001b[39m\u001b[38;5;124mhas_index_names\u001b[39m\u001b[38;5;124m\"\u001b[39m]\n\u001b[0;32m   1619\u001b[0m \u001b[38;5;28mself\u001b[39m\u001b[38;5;241m.\u001b[39mhandles: IOHandles \u001b[38;5;241m|\u001b[39m \u001b[38;5;28;01mNone\u001b[39;00m \u001b[38;5;241m=\u001b[39m \u001b[38;5;28;01mNone\u001b[39;00m\n\u001b[1;32m-> 1620\u001b[0m \u001b[38;5;28mself\u001b[39m\u001b[38;5;241m.\u001b[39m_engine \u001b[38;5;241m=\u001b[39m \u001b[38;5;28;43mself\u001b[39;49m\u001b[38;5;241;43m.\u001b[39;49m\u001b[43m_make_engine\u001b[49m\u001b[43m(\u001b[49m\u001b[43mf\u001b[49m\u001b[43m,\u001b[49m\u001b[43m \u001b[49m\u001b[38;5;28;43mself\u001b[39;49m\u001b[38;5;241;43m.\u001b[39;49m\u001b[43mengine\u001b[49m\u001b[43m)\u001b[49m\n",
      "File \u001b[1;32m~\\AppData\\Roaming\\Python\\Python312\\site-packages\\pandas\\io\\parsers\\readers.py:1880\u001b[0m, in \u001b[0;36mTextFileReader._make_engine\u001b[1;34m(self, f, engine)\u001b[0m\n\u001b[0;32m   1878\u001b[0m     \u001b[38;5;28;01mif\u001b[39;00m \u001b[38;5;124m\"\u001b[39m\u001b[38;5;124mb\u001b[39m\u001b[38;5;124m\"\u001b[39m \u001b[38;5;129;01mnot\u001b[39;00m \u001b[38;5;129;01min\u001b[39;00m mode:\n\u001b[0;32m   1879\u001b[0m         mode \u001b[38;5;241m+\u001b[39m\u001b[38;5;241m=\u001b[39m \u001b[38;5;124m\"\u001b[39m\u001b[38;5;124mb\u001b[39m\u001b[38;5;124m\"\u001b[39m\n\u001b[1;32m-> 1880\u001b[0m \u001b[38;5;28mself\u001b[39m\u001b[38;5;241m.\u001b[39mhandles \u001b[38;5;241m=\u001b[39m \u001b[43mget_handle\u001b[49m\u001b[43m(\u001b[49m\n\u001b[0;32m   1881\u001b[0m \u001b[43m    \u001b[49m\u001b[43mf\u001b[49m\u001b[43m,\u001b[49m\n\u001b[0;32m   1882\u001b[0m \u001b[43m    \u001b[49m\u001b[43mmode\u001b[49m\u001b[43m,\u001b[49m\n\u001b[0;32m   1883\u001b[0m \u001b[43m    \u001b[49m\u001b[43mencoding\u001b[49m\u001b[38;5;241;43m=\u001b[39;49m\u001b[38;5;28;43mself\u001b[39;49m\u001b[38;5;241;43m.\u001b[39;49m\u001b[43moptions\u001b[49m\u001b[38;5;241;43m.\u001b[39;49m\u001b[43mget\u001b[49m\u001b[43m(\u001b[49m\u001b[38;5;124;43m\"\u001b[39;49m\u001b[38;5;124;43mencoding\u001b[39;49m\u001b[38;5;124;43m\"\u001b[39;49m\u001b[43m,\u001b[49m\u001b[43m \u001b[49m\u001b[38;5;28;43;01mNone\u001b[39;49;00m\u001b[43m)\u001b[49m\u001b[43m,\u001b[49m\n\u001b[0;32m   1884\u001b[0m \u001b[43m    \u001b[49m\u001b[43mcompression\u001b[49m\u001b[38;5;241;43m=\u001b[39;49m\u001b[38;5;28;43mself\u001b[39;49m\u001b[38;5;241;43m.\u001b[39;49m\u001b[43moptions\u001b[49m\u001b[38;5;241;43m.\u001b[39;49m\u001b[43mget\u001b[49m\u001b[43m(\u001b[49m\u001b[38;5;124;43m\"\u001b[39;49m\u001b[38;5;124;43mcompression\u001b[39;49m\u001b[38;5;124;43m\"\u001b[39;49m\u001b[43m,\u001b[49m\u001b[43m \u001b[49m\u001b[38;5;28;43;01mNone\u001b[39;49;00m\u001b[43m)\u001b[49m\u001b[43m,\u001b[49m\n\u001b[0;32m   1885\u001b[0m \u001b[43m    \u001b[49m\u001b[43mmemory_map\u001b[49m\u001b[38;5;241;43m=\u001b[39;49m\u001b[38;5;28;43mself\u001b[39;49m\u001b[38;5;241;43m.\u001b[39;49m\u001b[43moptions\u001b[49m\u001b[38;5;241;43m.\u001b[39;49m\u001b[43mget\u001b[49m\u001b[43m(\u001b[49m\u001b[38;5;124;43m\"\u001b[39;49m\u001b[38;5;124;43mmemory_map\u001b[39;49m\u001b[38;5;124;43m\"\u001b[39;49m\u001b[43m,\u001b[49m\u001b[43m \u001b[49m\u001b[38;5;28;43;01mFalse\u001b[39;49;00m\u001b[43m)\u001b[49m\u001b[43m,\u001b[49m\n\u001b[0;32m   1886\u001b[0m \u001b[43m    \u001b[49m\u001b[43mis_text\u001b[49m\u001b[38;5;241;43m=\u001b[39;49m\u001b[43mis_text\u001b[49m\u001b[43m,\u001b[49m\n\u001b[0;32m   1887\u001b[0m \u001b[43m    \u001b[49m\u001b[43merrors\u001b[49m\u001b[38;5;241;43m=\u001b[39;49m\u001b[38;5;28;43mself\u001b[39;49m\u001b[38;5;241;43m.\u001b[39;49m\u001b[43moptions\u001b[49m\u001b[38;5;241;43m.\u001b[39;49m\u001b[43mget\u001b[49m\u001b[43m(\u001b[49m\u001b[38;5;124;43m\"\u001b[39;49m\u001b[38;5;124;43mencoding_errors\u001b[39;49m\u001b[38;5;124;43m\"\u001b[39;49m\u001b[43m,\u001b[49m\u001b[43m \u001b[49m\u001b[38;5;124;43m\"\u001b[39;49m\u001b[38;5;124;43mstrict\u001b[39;49m\u001b[38;5;124;43m\"\u001b[39;49m\u001b[43m)\u001b[49m\u001b[43m,\u001b[49m\n\u001b[0;32m   1888\u001b[0m \u001b[43m    \u001b[49m\u001b[43mstorage_options\u001b[49m\u001b[38;5;241;43m=\u001b[39;49m\u001b[38;5;28;43mself\u001b[39;49m\u001b[38;5;241;43m.\u001b[39;49m\u001b[43moptions\u001b[49m\u001b[38;5;241;43m.\u001b[39;49m\u001b[43mget\u001b[49m\u001b[43m(\u001b[49m\u001b[38;5;124;43m\"\u001b[39;49m\u001b[38;5;124;43mstorage_options\u001b[39;49m\u001b[38;5;124;43m\"\u001b[39;49m\u001b[43m,\u001b[49m\u001b[43m \u001b[49m\u001b[38;5;28;43;01mNone\u001b[39;49;00m\u001b[43m)\u001b[49m\u001b[43m,\u001b[49m\n\u001b[0;32m   1889\u001b[0m \u001b[43m\u001b[49m\u001b[43m)\u001b[49m\n\u001b[0;32m   1890\u001b[0m \u001b[38;5;28;01massert\u001b[39;00m \u001b[38;5;28mself\u001b[39m\u001b[38;5;241m.\u001b[39mhandles \u001b[38;5;129;01mis\u001b[39;00m \u001b[38;5;129;01mnot\u001b[39;00m \u001b[38;5;28;01mNone\u001b[39;00m\n\u001b[0;32m   1891\u001b[0m f \u001b[38;5;241m=\u001b[39m \u001b[38;5;28mself\u001b[39m\u001b[38;5;241m.\u001b[39mhandles\u001b[38;5;241m.\u001b[39mhandle\n",
      "File \u001b[1;32m~\\AppData\\Roaming\\Python\\Python312\\site-packages\\pandas\\io\\common.py:873\u001b[0m, in \u001b[0;36mget_handle\u001b[1;34m(path_or_buf, mode, encoding, compression, memory_map, is_text, errors, storage_options)\u001b[0m\n\u001b[0;32m    868\u001b[0m \u001b[38;5;28;01melif\u001b[39;00m \u001b[38;5;28misinstance\u001b[39m(handle, \u001b[38;5;28mstr\u001b[39m):\n\u001b[0;32m    869\u001b[0m     \u001b[38;5;66;03m# Check whether the filename is to be opened in binary mode.\u001b[39;00m\n\u001b[0;32m    870\u001b[0m     \u001b[38;5;66;03m# Binary mode does not support 'encoding' and 'newline'.\u001b[39;00m\n\u001b[0;32m    871\u001b[0m     \u001b[38;5;28;01mif\u001b[39;00m ioargs\u001b[38;5;241m.\u001b[39mencoding \u001b[38;5;129;01mand\u001b[39;00m \u001b[38;5;124m\"\u001b[39m\u001b[38;5;124mb\u001b[39m\u001b[38;5;124m\"\u001b[39m \u001b[38;5;129;01mnot\u001b[39;00m \u001b[38;5;129;01min\u001b[39;00m ioargs\u001b[38;5;241m.\u001b[39mmode:\n\u001b[0;32m    872\u001b[0m         \u001b[38;5;66;03m# Encoding\u001b[39;00m\n\u001b[1;32m--> 873\u001b[0m         handle \u001b[38;5;241m=\u001b[39m \u001b[38;5;28;43mopen\u001b[39;49m\u001b[43m(\u001b[49m\n\u001b[0;32m    874\u001b[0m \u001b[43m            \u001b[49m\u001b[43mhandle\u001b[49m\u001b[43m,\u001b[49m\n\u001b[0;32m    875\u001b[0m \u001b[43m            \u001b[49m\u001b[43mioargs\u001b[49m\u001b[38;5;241;43m.\u001b[39;49m\u001b[43mmode\u001b[49m\u001b[43m,\u001b[49m\n\u001b[0;32m    876\u001b[0m \u001b[43m            \u001b[49m\u001b[43mencoding\u001b[49m\u001b[38;5;241;43m=\u001b[39;49m\u001b[43mioargs\u001b[49m\u001b[38;5;241;43m.\u001b[39;49m\u001b[43mencoding\u001b[49m\u001b[43m,\u001b[49m\n\u001b[0;32m    877\u001b[0m \u001b[43m            \u001b[49m\u001b[43merrors\u001b[49m\u001b[38;5;241;43m=\u001b[39;49m\u001b[43merrors\u001b[49m\u001b[43m,\u001b[49m\n\u001b[0;32m    878\u001b[0m \u001b[43m            \u001b[49m\u001b[43mnewline\u001b[49m\u001b[38;5;241;43m=\u001b[39;49m\u001b[38;5;124;43m\"\u001b[39;49m\u001b[38;5;124;43m\"\u001b[39;49m\u001b[43m,\u001b[49m\n\u001b[0;32m    879\u001b[0m \u001b[43m        \u001b[49m\u001b[43m)\u001b[49m\n\u001b[0;32m    880\u001b[0m     \u001b[38;5;28;01melse\u001b[39;00m:\n\u001b[0;32m    881\u001b[0m         \u001b[38;5;66;03m# Binary mode\u001b[39;00m\n\u001b[0;32m    882\u001b[0m         handle \u001b[38;5;241m=\u001b[39m \u001b[38;5;28mopen\u001b[39m(handle, ioargs\u001b[38;5;241m.\u001b[39mmode)\n",
      "\u001b[1;31mFileNotFoundError\u001b[0m: [Errno 2] No such file or directory: '../DataSet/powerconsumption.csv'"
     ]
    }
   ],
   "source": [
    "data = pd.read_csv(\"../DataSet/powerconsumption.csv\")\n"
   ]
  },
  {
   "cell_type": "markdown",
   "id": "d1f98f49",
   "metadata": {
    "papermill": {
     "duration": 0.018162,
     "end_time": "2024-10-30T17:41:03.874917",
     "exception": false,
     "start_time": "2024-10-30T17:41:03.856755",
     "status": "completed"
    },
    "tags": []
   },
   "source": [
    "### Look at Dataset"
   ]
  },
  {
   "cell_type": "code",
   "execution_count": null,
   "id": "c63e3f72",
   "metadata": {
    "execution": {
     "iopub.execute_input": "2024-10-30T17:41:03.913240Z",
     "iopub.status.busy": "2024-10-30T17:41:03.912828Z",
     "iopub.status.idle": "2024-10-30T17:41:03.949974Z",
     "shell.execute_reply": "2024-10-30T17:41:03.948766Z"
    },
    "papermill": {
     "duration": 0.05941,
     "end_time": "2024-10-30T17:41:03.952440",
     "exception": false,
     "start_time": "2024-10-30T17:41:03.893030",
     "status": "completed"
    },
    "tags": []
   },
   "outputs": [],
   "source": [
    "data.sample(5)\n"
   ]
  },
  {
   "cell_type": "markdown",
   "id": "4f48bc86",
   "metadata": {
    "papermill": {
     "duration": 0.018309,
     "end_time": "2024-10-30T17:41:03.989099",
     "exception": false,
     "start_time": "2024-10-30T17:41:03.970790",
     "status": "completed"
    },
    "tags": []
   },
   "source": [
    "#### Converting  'Datetime' column to datetime"
   ]
  },
  {
   "cell_type": "code",
   "execution_count": null,
   "id": "122a1885",
   "metadata": {
    "execution": {
     "iopub.execute_input": "2024-10-30T17:41:04.028012Z",
     "iopub.status.busy": "2024-10-30T17:41:04.027551Z",
     "iopub.status.idle": "2024-10-30T17:41:04.215143Z",
     "shell.execute_reply": "2024-10-30T17:41:04.213763Z"
    },
    "papermill": {
     "duration": 0.210064,
     "end_time": "2024-10-30T17:41:04.217864",
     "exception": false,
     "start_time": "2024-10-30T17:41:04.007800",
     "status": "completed"
    },
    "tags": []
   },
   "outputs": [],
   "source": [
    "data['Datetime'] = pd.to_datetime(data['Datetime'], format='%m/%d/%Y %H:%M', dayfirst=True)\n"
   ]
  },
  {
   "cell_type": "markdown",
   "id": "662eb280",
   "metadata": {
    "papermill": {
     "duration": 0.017945,
     "end_time": "2024-10-30T17:41:04.254948",
     "exception": false,
     "start_time": "2024-10-30T17:41:04.237003",
     "status": "completed"
    },
    "tags": []
   },
   "source": [
    "Set the 'Dates' column as the index"
   ]
  },
  {
   "cell_type": "code",
   "execution_count": null,
   "id": "8ef7215f",
   "metadata": {
    "execution": {
     "iopub.execute_input": "2024-10-30T17:41:04.293334Z",
     "iopub.status.busy": "2024-10-30T17:41:04.292870Z",
     "iopub.status.idle": "2024-10-30T17:41:04.300726Z",
     "shell.execute_reply": "2024-10-30T17:41:04.299547Z"
    },
    "papermill": {
     "duration": 0.030234,
     "end_time": "2024-10-30T17:41:04.303362",
     "exception": false,
     "start_time": "2024-10-30T17:41:04.273128",
     "status": "completed"
    },
    "tags": []
   },
   "outputs": [],
   "source": [
    "data.set_index('Datetime', inplace=True)\n"
   ]
  },
  {
   "cell_type": "code",
   "execution_count": null,
   "id": "ca0c0a79",
   "metadata": {
    "execution": {
     "iopub.execute_input": "2024-10-30T17:41:04.342322Z",
     "iopub.status.busy": "2024-10-30T17:41:04.341885Z",
     "iopub.status.idle": "2024-10-30T17:41:04.349873Z",
     "shell.execute_reply": "2024-10-30T17:41:04.348868Z"
    },
    "papermill": {
     "duration": 0.02986,
     "end_time": "2024-10-30T17:41:04.352257",
     "exception": false,
     "start_time": "2024-10-30T17:41:04.322397",
     "status": "completed"
    },
    "tags": []
   },
   "outputs": [],
   "source": [
    "data['TotalPowerConsumption']= data['PowerConsumption_Zone1'] + data['PowerConsumption_Zone2'] + data['PowerConsumption_Zone3']\n"
   ]
  },
  {
   "cell_type": "code",
   "execution_count": null,
   "id": "b8bb23c0",
   "metadata": {
    "execution": {
     "iopub.execute_input": "2024-10-30T17:41:04.391030Z",
     "iopub.status.busy": "2024-10-30T17:41:04.390626Z",
     "iopub.status.idle": "2024-10-30T17:41:04.398412Z",
     "shell.execute_reply": "2024-10-30T17:41:04.397283Z"
    },
    "papermill": {
     "duration": 0.030072,
     "end_time": "2024-10-30T17:41:04.400868",
     "exception": false,
     "start_time": "2024-10-30T17:41:04.370796",
     "status": "completed"
    },
    "tags": []
   },
   "outputs": [],
   "source": [
    "data= data.drop(['PowerConsumption_Zone1','PowerConsumption_Zone2','PowerConsumption_Zone3'],axis=1)\n"
   ]
  },
  {
   "cell_type": "markdown",
   "id": "686cbc16",
   "metadata": {
    "papermill": {
     "duration": 0.017885,
     "end_time": "2024-10-30T17:41:04.436899",
     "exception": false,
     "start_time": "2024-10-30T17:41:04.419014",
     "status": "completed"
    },
    "tags": []
   },
   "source": [
    "## Checking for Missing values"
   ]
  },
  {
   "cell_type": "code",
   "execution_count": null,
   "id": "2a16f946",
   "metadata": {
    "execution": {
     "iopub.execute_input": "2024-10-30T17:41:04.475069Z",
     "iopub.status.busy": "2024-10-30T17:41:04.474645Z",
     "iopub.status.idle": "2024-10-30T17:41:04.484852Z",
     "shell.execute_reply": "2024-10-30T17:41:04.483547Z"
    },
    "papermill": {
     "duration": 0.032338,
     "end_time": "2024-10-30T17:41:04.487454",
     "exception": false,
     "start_time": "2024-10-30T17:41:04.455116",
     "status": "completed"
    },
    "tags": []
   },
   "outputs": [],
   "source": [
    "data.isnull().sum()\n"
   ]
  },
  {
   "cell_type": "markdown",
   "id": "7091cccc",
   "metadata": {
    "papermill": {
     "duration": 0.018202,
     "end_time": "2024-10-30T17:41:04.524068",
     "exception": false,
     "start_time": "2024-10-30T17:41:04.505866",
     "status": "completed"
    },
    "tags": []
   },
   "source": [
    "## Checking for Outliers"
   ]
  },
  {
   "cell_type": "code",
   "execution_count": null,
   "id": "9b1c478a",
   "metadata": {
    "execution": {
     "iopub.execute_input": "2024-10-30T17:41:04.564331Z",
     "iopub.status.busy": "2024-10-30T17:41:04.563865Z",
     "iopub.status.idle": "2024-10-30T17:41:05.055002Z",
     "shell.execute_reply": "2024-10-30T17:41:05.053830Z"
    },
    "papermill": {
     "duration": 0.513925,
     "end_time": "2024-10-30T17:41:05.057494",
     "exception": false,
     "start_time": "2024-10-30T17:41:04.543569",
     "status": "completed"
    },
    "tags": []
   },
   "outputs": [],
   "source": [
    "plt.figure(figsize=(12,6))\n",
    "sns.boxplot(data)\n",
    "plt.title('Outliers Detection')\n",
    "plt.show()\n"
   ]
  },
  {
   "cell_type": "markdown",
   "id": "cfe0b341",
   "metadata": {
    "papermill": {
     "duration": 0.018723,
     "end_time": "2024-10-30T17:41:05.095139",
     "exception": false,
     "start_time": "2024-10-30T17:41:05.076416",
     "status": "completed"
    },
    "tags": []
   },
   "source": [
    "Some Outliers found. Lets remove them"
   ]
  },
  {
   "cell_type": "code",
   "execution_count": null,
   "id": "fd6915df",
   "metadata": {
    "execution": {
     "iopub.execute_input": "2024-10-30T17:41:05.135653Z",
     "iopub.status.busy": "2024-10-30T17:41:05.134640Z",
     "iopub.status.idle": "2024-10-30T17:41:05.139728Z",
     "shell.execute_reply": "2024-10-30T17:41:05.138633Z"
    },
    "papermill": {
     "duration": 0.027882,
     "end_time": "2024-10-30T17:41:05.142093",
     "exception": false,
     "start_time": "2024-10-30T17:41:05.114211",
     "status": "completed"
    },
    "tags": []
   },
   "outputs": [],
   "source": [
    "RS = RobustScaler()\n"
   ]
  },
  {
   "cell_type": "code",
   "execution_count": null,
   "id": "bcbd184e",
   "metadata": {
    "execution": {
     "iopub.execute_input": "2024-10-30T17:41:05.182149Z",
     "iopub.status.busy": "2024-10-30T17:41:05.181712Z",
     "iopub.status.idle": "2024-10-30T17:41:05.188375Z",
     "shell.execute_reply": "2024-10-30T17:41:05.187184Z"
    },
    "papermill": {
     "duration": 0.029577,
     "end_time": "2024-10-30T17:41:05.190750",
     "exception": false,
     "start_time": "2024-10-30T17:41:05.161173",
     "status": "completed"
    },
    "tags": []
   },
   "outputs": [],
   "source": [
    "x = data.drop(['TotalPowerConsumption'],axis=1)\n",
    "y = data['TotalPowerConsumption']\n"
   ]
  },
  {
   "cell_type": "code",
   "execution_count": null,
   "id": "dee12382",
   "metadata": {
    "execution": {
     "iopub.execute_input": "2024-10-30T17:41:05.231918Z",
     "iopub.status.busy": "2024-10-30T17:41:05.231060Z",
     "iopub.status.idle": "2024-10-30T17:41:05.475798Z",
     "shell.execute_reply": "2024-10-30T17:41:05.474653Z"
    },
    "papermill": {
     "duration": 0.268424,
     "end_time": "2024-10-30T17:41:05.478464",
     "exception": false,
     "start_time": "2024-10-30T17:41:05.210040",
     "status": "completed"
    },
    "tags": []
   },
   "outputs": [],
   "source": [
    "plt.figure(figsize=(12,6))\n",
    "sns.boxplot(x)\n",
    "plt.show()\n"
   ]
  },
  {
   "cell_type": "code",
   "execution_count": null,
   "id": "569b97a7",
   "metadata": {
    "execution": {
     "iopub.execute_input": "2024-10-30T17:41:05.519551Z",
     "iopub.status.busy": "2024-10-30T17:41:05.519123Z",
     "iopub.status.idle": "2024-10-30T17:41:05.537216Z",
     "shell.execute_reply": "2024-10-30T17:41:05.535932Z"
    },
    "papermill": {
     "duration": 0.041764,
     "end_time": "2024-10-30T17:41:05.539831",
     "exception": false,
     "start_time": "2024-10-30T17:41:05.498067",
     "status": "completed"
    },
    "tags": []
   },
   "outputs": [],
   "source": [
    "scaled_x = RS.fit_transform(x)\n"
   ]
  },
  {
   "cell_type": "code",
   "execution_count": null,
   "id": "50365bc2",
   "metadata": {
    "execution": {
     "iopub.execute_input": "2024-10-30T17:41:05.580497Z",
     "iopub.status.busy": "2024-10-30T17:41:05.580103Z",
     "iopub.status.idle": "2024-10-30T17:41:05.585294Z",
     "shell.execute_reply": "2024-10-30T17:41:05.584173Z"
    },
    "papermill": {
     "duration": 0.028091,
     "end_time": "2024-10-30T17:41:05.587568",
     "exception": false,
     "start_time": "2024-10-30T17:41:05.559477",
     "status": "completed"
    },
    "tags": []
   },
   "outputs": [],
   "source": [
    "x= pd.DataFrame(scaled_x, columns=x.columns)\n"
   ]
  },
  {
   "cell_type": "code",
   "execution_count": null,
   "id": "6eeeeb49",
   "metadata": {
    "execution": {
     "iopub.execute_input": "2024-10-30T17:41:05.629037Z",
     "iopub.status.busy": "2024-10-30T17:41:05.628567Z",
     "iopub.status.idle": "2024-10-30T17:41:05.873821Z",
     "shell.execute_reply": "2024-10-30T17:41:05.872566Z"
    },
    "papermill": {
     "duration": 0.269455,
     "end_time": "2024-10-30T17:41:05.876423",
     "exception": false,
     "start_time": "2024-10-30T17:41:05.606968",
     "status": "completed"
    },
    "tags": []
   },
   "outputs": [],
   "source": [
    "plt.figure(figsize=(12,6))\n",
    "sns.boxplot(x)\n",
    "plt.show()\n"
   ]
  },
  {
   "cell_type": "code",
   "execution_count": null,
   "id": "70651b55",
   "metadata": {
    "execution": {
     "iopub.execute_input": "2024-10-30T17:41:05.922749Z",
     "iopub.status.busy": "2024-10-30T17:41:05.922289Z",
     "iopub.status.idle": "2024-10-30T17:41:06.071078Z",
     "shell.execute_reply": "2024-10-30T17:41:06.069814Z"
    },
    "papermill": {
     "duration": 0.175476,
     "end_time": "2024-10-30T17:41:06.073416",
     "exception": false,
     "start_time": "2024-10-30T17:41:05.897940",
     "status": "completed"
    },
    "tags": []
   },
   "outputs": [],
   "source": [
    "sns.boxplot(x='TotalPowerConsumption',data=data)\n",
    "plt.title('Outlier Detection in TotalPwerConsumption')\n",
    "plt.show()\n"
   ]
  },
  {
   "cell_type": "code",
   "execution_count": null,
   "id": "ab2af8a7",
   "metadata": {
    "execution": {
     "iopub.execute_input": "2024-10-30T17:41:06.116723Z",
     "iopub.status.busy": "2024-10-30T17:41:06.116257Z",
     "iopub.status.idle": "2024-10-30T17:41:06.129098Z",
     "shell.execute_reply": "2024-10-30T17:41:06.127872Z"
    },
    "papermill": {
     "duration": 0.037532,
     "end_time": "2024-10-30T17:41:06.131889",
     "exception": false,
     "start_time": "2024-10-30T17:41:06.094357",
     "status": "completed"
    },
    "tags": []
   },
   "outputs": [],
   "source": [
    "Q1 = data['TotalPowerConsumption'].quantile(0.25)\n",
    "Q3 = data['TotalPowerConsumption'].quantile(0.75)\n",
    "\n",
    "IQR = Q3 - Q1\n",
    "\n",
    "lowerbound = Q1 - (1.5 * IQR)\n",
    "upperbound = Q3 + (1.5 * IQR)\n",
    "\n",
    "data = data[(data.TotalPowerConsumption >= lowerbound) & (data.TotalPowerConsumption <= upperbound)]\n"
   ]
  },
  {
   "cell_type": "code",
   "execution_count": null,
   "id": "ac34b291",
   "metadata": {
    "execution": {
     "iopub.execute_input": "2024-10-30T17:41:06.175287Z",
     "iopub.status.busy": "2024-10-30T17:41:06.174814Z",
     "iopub.status.idle": "2024-10-30T17:41:06.363422Z",
     "shell.execute_reply": "2024-10-30T17:41:06.362074Z"
    },
    "papermill": {
     "duration": 0.213823,
     "end_time": "2024-10-30T17:41:06.366358",
     "exception": false,
     "start_time": "2024-10-30T17:41:06.152535",
     "status": "completed"
    },
    "tags": []
   },
   "outputs": [],
   "source": [
    "sns.boxplot(x='TotalPowerConsumption',data=data)\n",
    "plt.title('Outlier Detection in TotalPowerConsumption')\n",
    "plt.show()\n"
   ]
  },
  {
   "cell_type": "code",
   "execution_count": null,
   "id": "0fded21c",
   "metadata": {
    "papermill": {
     "duration": 0.020353,
     "end_time": "2024-10-30T17:41:06.408258",
     "exception": false,
     "start_time": "2024-10-30T17:41:06.387905",
     "status": "completed"
    },
    "tags": []
   },
   "outputs": [],
   "source": []
  },
  {
   "cell_type": "markdown",
   "id": "d203e82b",
   "metadata": {
    "papermill": {
     "duration": 0.020264,
     "end_time": "2024-10-30T17:41:06.450006",
     "exception": false,
     "start_time": "2024-10-30T17:41:06.429742",
     "status": "completed"
    },
    "tags": []
   },
   "source": [
    "## Checking and Fixing Data Distribution"
   ]
  },
  {
   "cell_type": "code",
   "execution_count": null,
   "id": "fa6e2252",
   "metadata": {
    "execution": {
     "iopub.execute_input": "2024-10-30T17:41:06.493421Z",
     "iopub.status.busy": "2024-10-30T17:41:06.493003Z",
     "iopub.status.idle": "2024-10-30T17:41:07.286170Z",
     "shell.execute_reply": "2024-10-30T17:41:07.285055Z"
    },
    "papermill": {
     "duration": 0.818026,
     "end_time": "2024-10-30T17:41:07.288669",
     "exception": false,
     "start_time": "2024-10-30T17:41:06.470643",
     "status": "completed"
    },
    "tags": []
   },
   "outputs": [],
   "source": [
    "sns.displot(data['Temperature'], kde=True)\n",
    "plt.title('Distribution Plot of Temperature')\n",
    "plt.show()\n"
   ]
  },
  {
   "cell_type": "code",
   "execution_count": null,
   "id": "d48ef3f4",
   "metadata": {
    "execution": {
     "iopub.execute_input": "2024-10-30T17:41:07.334189Z",
     "iopub.status.busy": "2024-10-30T17:41:07.333426Z",
     "iopub.status.idle": "2024-10-30T17:41:07.343119Z",
     "shell.execute_reply": "2024-10-30T17:41:07.341800Z"
    },
    "papermill": {
     "duration": 0.035145,
     "end_time": "2024-10-30T17:41:07.345608",
     "exception": false,
     "start_time": "2024-10-30T17:41:07.310463",
     "status": "completed"
    },
    "tags": []
   },
   "outputs": [],
   "source": [
    "data['Temperature'].skew()\n"
   ]
  },
  {
   "cell_type": "code",
   "execution_count": null,
   "id": "b26bd2b2",
   "metadata": {
    "execution": {
     "iopub.execute_input": "2024-10-30T17:41:07.390832Z",
     "iopub.status.busy": "2024-10-30T17:41:07.390400Z",
     "iopub.status.idle": "2024-10-30T17:41:07.614413Z",
     "shell.execute_reply": "2024-10-30T17:41:07.613335Z"
    },
    "papermill": {
     "duration": 0.24922,
     "end_time": "2024-10-30T17:41:07.616914",
     "exception": false,
     "start_time": "2024-10-30T17:41:07.367694",
     "status": "completed"
    },
    "tags": []
   },
   "outputs": [],
   "source": [
    "from scipy.stats import boxcox\n",
    "data['Temperature'], lambda_boxcox = boxcox(data['Temperature'])\n"
   ]
  },
  {
   "cell_type": "code",
   "execution_count": null,
   "id": "2bfaa2d5",
   "metadata": {
    "execution": {
     "iopub.execute_input": "2024-10-30T17:41:07.661441Z",
     "iopub.status.busy": "2024-10-30T17:41:07.661010Z",
     "iopub.status.idle": "2024-10-30T17:41:07.670084Z",
     "shell.execute_reply": "2024-10-30T17:41:07.668991Z"
    },
    "papermill": {
     "duration": 0.034043,
     "end_time": "2024-10-30T17:41:07.672471",
     "exception": false,
     "start_time": "2024-10-30T17:41:07.638428",
     "status": "completed"
    },
    "tags": []
   },
   "outputs": [],
   "source": [
    "data['Temperature'].skew()\n"
   ]
  },
  {
   "cell_type": "code",
   "execution_count": null,
   "id": "3fdaacaf",
   "metadata": {
    "execution": {
     "iopub.execute_input": "2024-10-30T17:41:07.717154Z",
     "iopub.status.busy": "2024-10-30T17:41:07.716672Z",
     "iopub.status.idle": "2024-10-30T17:41:08.495179Z",
     "shell.execute_reply": "2024-10-30T17:41:08.493931Z"
    },
    "papermill": {
     "duration": 0.803864,
     "end_time": "2024-10-30T17:41:08.497721",
     "exception": false,
     "start_time": "2024-10-30T17:41:07.693857",
     "status": "completed"
    },
    "tags": []
   },
   "outputs": [],
   "source": [
    "sns.displot(data['Temperature'], kde=True)\n",
    "plt.title('Distribution Plot of Temperature')\n",
    "plt.show()\n"
   ]
  },
  {
   "cell_type": "code",
   "execution_count": null,
   "id": "d2fa1e35",
   "metadata": {
    "execution": {
     "iopub.execute_input": "2024-10-30T17:41:08.544812Z",
     "iopub.status.busy": "2024-10-30T17:41:08.544374Z",
     "iopub.status.idle": "2024-10-30T17:41:09.287497Z",
     "shell.execute_reply": "2024-10-30T17:41:09.286263Z"
    },
    "papermill": {
     "duration": 0.769505,
     "end_time": "2024-10-30T17:41:09.290043",
     "exception": false,
     "start_time": "2024-10-30T17:41:08.520538",
     "status": "completed"
    },
    "tags": []
   },
   "outputs": [],
   "source": [
    "sns.displot(data['Humidity'], kde=True) \n",
    "plt.title('Distribution Plot of Humidity')\n",
    "plt.show()\n"
   ]
  },
  {
   "cell_type": "code",
   "execution_count": null,
   "id": "b6356ba4",
   "metadata": {
    "execution": {
     "iopub.execute_input": "2024-10-30T17:41:09.337545Z",
     "iopub.status.busy": "2024-10-30T17:41:09.337126Z",
     "iopub.status.idle": "2024-10-30T17:41:09.346146Z",
     "shell.execute_reply": "2024-10-30T17:41:09.344946Z"
    },
    "papermill": {
     "duration": 0.035389,
     "end_time": "2024-10-30T17:41:09.348511",
     "exception": false,
     "start_time": "2024-10-30T17:41:09.313122",
     "status": "completed"
    },
    "tags": []
   },
   "outputs": [],
   "source": [
    "data['Humidity'].skew()\n"
   ]
  },
  {
   "cell_type": "code",
   "execution_count": null,
   "id": "c1ba7a59",
   "metadata": {
    "execution": {
     "iopub.execute_input": "2024-10-30T17:41:09.396424Z",
     "iopub.status.busy": "2024-10-30T17:41:09.395992Z",
     "iopub.status.idle": "2024-10-30T17:41:09.461585Z",
     "shell.execute_reply": "2024-10-30T17:41:09.460420Z"
    },
    "papermill": {
     "duration": 0.092294,
     "end_time": "2024-10-30T17:41:09.464159",
     "exception": false,
     "start_time": "2024-10-30T17:41:09.371865",
     "status": "completed"
    },
    "tags": []
   },
   "outputs": [],
   "source": [
    "from sklearn.preprocessing import PowerTransformer\n",
    "pt = PowerTransformer(method='yeo-johnson')\n",
    "data['Humidity'] = pt.fit_transform(data[['Humidity']])\n"
   ]
  },
  {
   "cell_type": "code",
   "execution_count": null,
   "id": "266a1169",
   "metadata": {
    "execution": {
     "iopub.execute_input": "2024-10-30T17:41:09.567675Z",
     "iopub.status.busy": "2024-10-30T17:41:09.567221Z",
     "iopub.status.idle": "2024-10-30T17:41:09.576096Z",
     "shell.execute_reply": "2024-10-30T17:41:09.574947Z"
    },
    "papermill": {
     "duration": 0.091336,
     "end_time": "2024-10-30T17:41:09.578559",
     "exception": false,
     "start_time": "2024-10-30T17:41:09.487223",
     "status": "completed"
    },
    "tags": []
   },
   "outputs": [],
   "source": [
    "data['Humidity'].skew()\n"
   ]
  },
  {
   "cell_type": "code",
   "execution_count": null,
   "id": "46044e86",
   "metadata": {
    "execution": {
     "iopub.execute_input": "2024-10-30T17:41:09.628982Z",
     "iopub.status.busy": "2024-10-30T17:41:09.627423Z",
     "iopub.status.idle": "2024-10-30T17:41:10.312168Z",
     "shell.execute_reply": "2024-10-30T17:41:10.311062Z"
    },
    "papermill": {
     "duration": 0.711763,
     "end_time": "2024-10-30T17:41:10.314536",
     "exception": false,
     "start_time": "2024-10-30T17:41:09.602773",
     "status": "completed"
    },
    "tags": []
   },
   "outputs": [],
   "source": [
    "sns.displot(data['Humidity'], kde=True) \n",
    "plt.title('Distribution Plot of Humidity')\n",
    "plt.show()\n"
   ]
  },
  {
   "cell_type": "code",
   "execution_count": null,
   "id": "1d7d08c8",
   "metadata": {
    "execution": {
     "iopub.execute_input": "2024-10-30T17:41:10.364400Z",
     "iopub.status.busy": "2024-10-30T17:41:10.363964Z",
     "iopub.status.idle": "2024-10-30T17:41:10.940366Z",
     "shell.execute_reply": "2024-10-30T17:41:10.938876Z"
    },
    "papermill": {
     "duration": 0.604516,
     "end_time": "2024-10-30T17:41:10.943164",
     "exception": false,
     "start_time": "2024-10-30T17:41:10.338648",
     "status": "completed"
    },
    "tags": []
   },
   "outputs": [],
   "source": [
    "sns.displot(data['WindSpeed'], kde=True) \n",
    "plt.title('Distribution Plot of Windspeed')\n",
    "plt.show()\n"
   ]
  },
  {
   "cell_type": "code",
   "execution_count": null,
   "id": "8f2835e4",
   "metadata": {
    "execution": {
     "iopub.execute_input": "2024-10-30T17:41:10.995444Z",
     "iopub.status.busy": "2024-10-30T17:41:10.994984Z",
     "iopub.status.idle": "2024-10-30T17:41:11.005647Z",
     "shell.execute_reply": "2024-10-30T17:41:11.004324Z"
    },
    "papermill": {
     "duration": 0.040437,
     "end_time": "2024-10-30T17:41:11.008247",
     "exception": false,
     "start_time": "2024-10-30T17:41:10.967810",
     "status": "completed"
    },
    "tags": []
   },
   "outputs": [],
   "source": [
    "data['WindSpeed'].skew()\n"
   ]
  },
  {
   "cell_type": "code",
   "execution_count": null,
   "id": "0602a11b",
   "metadata": {
    "execution": {
     "iopub.execute_input": "2024-10-30T17:41:11.060290Z",
     "iopub.status.busy": "2024-10-30T17:41:11.059827Z",
     "iopub.status.idle": "2024-10-30T17:41:11.343627Z",
     "shell.execute_reply": "2024-10-30T17:41:11.342320Z"
    },
    "papermill": {
     "duration": 0.313047,
     "end_time": "2024-10-30T17:41:11.346282",
     "exception": false,
     "start_time": "2024-10-30T17:41:11.033235",
     "status": "completed"
    },
    "tags": []
   },
   "outputs": [],
   "source": [
    "from scipy.stats import boxcox\n",
    "data['WindSpeed'], lambda_boxcox = boxcox(data['WindSpeed'])\n"
   ]
  },
  {
   "cell_type": "code",
   "execution_count": null,
   "id": "5cf01487",
   "metadata": {
    "execution": {
     "iopub.execute_input": "2024-10-30T17:41:11.398866Z",
     "iopub.status.busy": "2024-10-30T17:41:11.398416Z",
     "iopub.status.idle": "2024-10-30T17:41:11.407934Z",
     "shell.execute_reply": "2024-10-30T17:41:11.406634Z"
    },
    "papermill": {
     "duration": 0.038161,
     "end_time": "2024-10-30T17:41:11.410377",
     "exception": false,
     "start_time": "2024-10-30T17:41:11.372216",
     "status": "completed"
    },
    "tags": []
   },
   "outputs": [],
   "source": [
    "data['WindSpeed'].skew()\n"
   ]
  },
  {
   "cell_type": "code",
   "execution_count": null,
   "id": "64ed08bb",
   "metadata": {
    "execution": {
     "iopub.execute_input": "2024-10-30T17:41:11.462795Z",
     "iopub.status.busy": "2024-10-30T17:41:11.462361Z",
     "iopub.status.idle": "2024-10-30T17:41:12.137723Z",
     "shell.execute_reply": "2024-10-30T17:41:12.136643Z"
    },
    "papermill": {
     "duration": 0.704459,
     "end_time": "2024-10-30T17:41:12.140119",
     "exception": false,
     "start_time": "2024-10-30T17:41:11.435660",
     "status": "completed"
    },
    "tags": []
   },
   "outputs": [],
   "source": [
    "sns.displot(data['WindSpeed'], kde=True) \n",
    "plt.title('Distribution Plot of Windspeed')\n",
    "plt.show()\n"
   ]
  },
  {
   "cell_type": "code",
   "execution_count": null,
   "id": "3374542e",
   "metadata": {
    "execution": {
     "iopub.execute_input": "2024-10-30T17:41:12.194565Z",
     "iopub.status.busy": "2024-10-30T17:41:12.194145Z",
     "iopub.status.idle": "2024-10-30T17:41:13.047422Z",
     "shell.execute_reply": "2024-10-30T17:41:13.046164Z"
    },
    "papermill": {
     "duration": 0.883887,
     "end_time": "2024-10-30T17:41:13.049795",
     "exception": false,
     "start_time": "2024-10-30T17:41:12.165908",
     "status": "completed"
    },
    "tags": []
   },
   "outputs": [],
   "source": [
    "sns.displot(data['GeneralDiffuseFlows'], kde=True) \n",
    "plt.title('Distribution Plot of General Diffuse Flow')\n",
    "plt.show()\n"
   ]
  },
  {
   "cell_type": "code",
   "execution_count": null,
   "id": "cfea426f",
   "metadata": {
    "execution": {
     "iopub.execute_input": "2024-10-30T17:41:13.105955Z",
     "iopub.status.busy": "2024-10-30T17:41:13.105480Z",
     "iopub.status.idle": "2024-10-30T17:41:13.114291Z",
     "shell.execute_reply": "2024-10-30T17:41:13.113135Z"
    },
    "papermill": {
     "duration": 0.039515,
     "end_time": "2024-10-30T17:41:13.116456",
     "exception": false,
     "start_time": "2024-10-30T17:41:13.076941",
     "status": "completed"
    },
    "tags": []
   },
   "outputs": [],
   "source": [
    "data['GeneralDiffuseFlows'].skew()\n"
   ]
  },
  {
   "cell_type": "code",
   "execution_count": null,
   "id": "5c27a226",
   "metadata": {
    "execution": {
     "iopub.execute_input": "2024-10-30T17:41:13.172498Z",
     "iopub.status.busy": "2024-10-30T17:41:13.172015Z",
     "iopub.status.idle": "2024-10-30T17:41:13.458247Z",
     "shell.execute_reply": "2024-10-30T17:41:13.457160Z"
    },
    "papermill": {
     "duration": 0.317379,
     "end_time": "2024-10-30T17:41:13.460932",
     "exception": false,
     "start_time": "2024-10-30T17:41:13.143553",
     "status": "completed"
    },
    "tags": []
   },
   "outputs": [],
   "source": [
    "data['GeneralDiffuseFlows'], lambda_boxcox = boxcox(data['GeneralDiffuseFlows'])\n"
   ]
  },
  {
   "cell_type": "code",
   "execution_count": null,
   "id": "cae795ae",
   "metadata": {
    "execution": {
     "iopub.execute_input": "2024-10-30T17:41:13.516440Z",
     "iopub.status.busy": "2024-10-30T17:41:13.515410Z",
     "iopub.status.idle": "2024-10-30T17:41:13.523990Z",
     "shell.execute_reply": "2024-10-30T17:41:13.522887Z"
    },
    "papermill": {
     "duration": 0.038694,
     "end_time": "2024-10-30T17:41:13.526069",
     "exception": false,
     "start_time": "2024-10-30T17:41:13.487375",
     "status": "completed"
    },
    "tags": []
   },
   "outputs": [],
   "source": [
    "data['GeneralDiffuseFlows'].skew()\n"
   ]
  },
  {
   "cell_type": "code",
   "execution_count": null,
   "id": "c8bbb3c7",
   "metadata": {
    "execution": {
     "iopub.execute_input": "2024-10-30T17:41:13.581228Z",
     "iopub.status.busy": "2024-10-30T17:41:13.580792Z",
     "iopub.status.idle": "2024-10-30T17:41:14.257376Z",
     "shell.execute_reply": "2024-10-30T17:41:14.256104Z"
    },
    "papermill": {
     "duration": 0.707126,
     "end_time": "2024-10-30T17:41:14.259982",
     "exception": false,
     "start_time": "2024-10-30T17:41:13.552856",
     "status": "completed"
    },
    "tags": []
   },
   "outputs": [],
   "source": [
    "sns.displot(data['GeneralDiffuseFlows'], kde=True) \n",
    "plt.title('Distribution Plot of General Diffuse Flow')\n",
    "plt.show()\n"
   ]
  },
  {
   "cell_type": "code",
   "execution_count": null,
   "id": "6bf6b70f",
   "metadata": {
    "execution": {
     "iopub.execute_input": "2024-10-30T17:41:14.316768Z",
     "iopub.status.busy": "2024-10-30T17:41:14.316263Z",
     "iopub.status.idle": "2024-10-30T17:41:15.179451Z",
     "shell.execute_reply": "2024-10-30T17:41:15.178279Z"
    },
    "papermill": {
     "duration": 0.894438,
     "end_time": "2024-10-30T17:41:15.181822",
     "exception": false,
     "start_time": "2024-10-30T17:41:14.287384",
     "status": "completed"
    },
    "tags": []
   },
   "outputs": [],
   "source": [
    "sns.displot(data['DiffuseFlows'], kde=True) \n",
    "plt.title('Distribution Plot of Diffuse Flow')\n",
    "plt.show()\n"
   ]
  },
  {
   "cell_type": "code",
   "execution_count": null,
   "id": "d98917c5",
   "metadata": {
    "execution": {
     "iopub.execute_input": "2024-10-30T17:41:15.240427Z",
     "iopub.status.busy": "2024-10-30T17:41:15.240010Z",
     "iopub.status.idle": "2024-10-30T17:41:15.248516Z",
     "shell.execute_reply": "2024-10-30T17:41:15.247231Z"
    },
    "papermill": {
     "duration": 0.040828,
     "end_time": "2024-10-30T17:41:15.250860",
     "exception": false,
     "start_time": "2024-10-30T17:41:15.210032",
     "status": "completed"
    },
    "tags": []
   },
   "outputs": [],
   "source": [
    "data['DiffuseFlows'].skew()\n"
   ]
  },
  {
   "cell_type": "code",
   "execution_count": null,
   "id": "c730bb94",
   "metadata": {
    "execution": {
     "iopub.execute_input": "2024-10-30T17:41:15.307897Z",
     "iopub.status.busy": "2024-10-30T17:41:15.307442Z",
     "iopub.status.idle": "2024-10-30T17:41:15.561564Z",
     "shell.execute_reply": "2024-10-30T17:41:15.560519Z"
    },
    "papermill": {
     "duration": 0.285594,
     "end_time": "2024-10-30T17:41:15.564149",
     "exception": false,
     "start_time": "2024-10-30T17:41:15.278555",
     "status": "completed"
    },
    "tags": []
   },
   "outputs": [],
   "source": [
    "data['DiffuseFlows'], lambda_boxcox = boxcox(data['DiffuseFlows'])\n"
   ]
  },
  {
   "cell_type": "code",
   "execution_count": null,
   "id": "5f25cc8a",
   "metadata": {
    "execution": {
     "iopub.execute_input": "2024-10-30T17:41:15.623429Z",
     "iopub.status.busy": "2024-10-30T17:41:15.622720Z",
     "iopub.status.idle": "2024-10-30T17:41:15.630772Z",
     "shell.execute_reply": "2024-10-30T17:41:15.629745Z"
    },
    "papermill": {
     "duration": 0.039775,
     "end_time": "2024-10-30T17:41:15.632974",
     "exception": false,
     "start_time": "2024-10-30T17:41:15.593199",
     "status": "completed"
    },
    "tags": []
   },
   "outputs": [],
   "source": [
    "data['DiffuseFlows'].skew()\n"
   ]
  },
  {
   "cell_type": "code",
   "execution_count": null,
   "id": "8febf9c3",
   "metadata": {
    "execution": {
     "iopub.execute_input": "2024-10-30T17:41:15.690830Z",
     "iopub.status.busy": "2024-10-30T17:41:15.690001Z",
     "iopub.status.idle": "2024-10-30T17:41:16.281385Z",
     "shell.execute_reply": "2024-10-30T17:41:16.280072Z"
    },
    "papermill": {
     "duration": 0.623567,
     "end_time": "2024-10-30T17:41:16.284340",
     "exception": false,
     "start_time": "2024-10-30T17:41:15.660773",
     "status": "completed"
    },
    "tags": []
   },
   "outputs": [],
   "source": [
    "sns.displot(data['DiffuseFlows'], kde=True) \n",
    "plt.title('Distribution Plot of Diffuse Flow')\n",
    "plt.show()\n"
   ]
  },
  {
   "cell_type": "code",
   "execution_count": null,
   "id": "3b9d10f3",
   "metadata": {
    "execution": {
     "iopub.execute_input": "2024-10-30T17:41:16.345496Z",
     "iopub.status.busy": "2024-10-30T17:41:16.344684Z",
     "iopub.status.idle": "2024-10-30T17:41:17.043856Z",
     "shell.execute_reply": "2024-10-30T17:41:17.042726Z"
    },
    "papermill": {
     "duration": 0.732681,
     "end_time": "2024-10-30T17:41:17.046632",
     "exception": false,
     "start_time": "2024-10-30T17:41:16.313951",
     "status": "completed"
    },
    "tags": []
   },
   "outputs": [],
   "source": [
    "sns.displot(data['TotalPowerConsumption'], kde=True) \n",
    "plt.title('Distribution Plot of TotalPowerConsumption')\n",
    "plt.show()\n"
   ]
  },
  {
   "cell_type": "code",
   "execution_count": null,
   "id": "e3955654",
   "metadata": {
    "execution": {
     "iopub.execute_input": "2024-10-30T17:41:17.108313Z",
     "iopub.status.busy": "2024-10-30T17:41:17.107881Z",
     "iopub.status.idle": "2024-10-30T17:41:17.116240Z",
     "shell.execute_reply": "2024-10-30T17:41:17.115175Z"
    },
    "papermill": {
     "duration": 0.042301,
     "end_time": "2024-10-30T17:41:17.118421",
     "exception": false,
     "start_time": "2024-10-30T17:41:17.076120",
     "status": "completed"
    },
    "tags": []
   },
   "outputs": [],
   "source": [
    "data['TotalPowerConsumption'].skew()\n"
   ]
  },
  {
   "cell_type": "code",
   "execution_count": null,
   "id": "b8cde7a3",
   "metadata": {
    "execution": {
     "iopub.execute_input": "2024-10-30T17:41:17.178463Z",
     "iopub.status.busy": "2024-10-30T17:41:17.178028Z",
     "iopub.status.idle": "2024-10-30T17:41:17.343317Z",
     "shell.execute_reply": "2024-10-30T17:41:17.342211Z"
    },
    "papermill": {
     "duration": 0.198547,
     "end_time": "2024-10-30T17:41:17.346027",
     "exception": false,
     "start_time": "2024-10-30T17:41:17.147480",
     "status": "completed"
    },
    "tags": []
   },
   "outputs": [],
   "source": [
    "data['TotalPowerConsumption'], lambda_boxcox = boxcox(data['TotalPowerConsumption'])\n"
   ]
  },
  {
   "cell_type": "code",
   "execution_count": null,
   "id": "43d3c59a",
   "metadata": {
    "execution": {
     "iopub.execute_input": "2024-10-30T17:41:17.407297Z",
     "iopub.status.busy": "2024-10-30T17:41:17.406661Z",
     "iopub.status.idle": "2024-10-30T17:41:17.415269Z",
     "shell.execute_reply": "2024-10-30T17:41:17.414175Z"
    },
    "papermill": {
     "duration": 0.0416,
     "end_time": "2024-10-30T17:41:17.417369",
     "exception": false,
     "start_time": "2024-10-30T17:41:17.375769",
     "status": "completed"
    },
    "tags": []
   },
   "outputs": [],
   "source": [
    "data['TotalPowerConsumption'].skew()\n"
   ]
  },
  {
   "cell_type": "code",
   "execution_count": null,
   "id": "33287754",
   "metadata": {
    "execution": {
     "iopub.execute_input": "2024-10-30T17:41:17.478534Z",
     "iopub.status.busy": "2024-10-30T17:41:17.477691Z",
     "iopub.status.idle": "2024-10-30T17:41:18.183435Z",
     "shell.execute_reply": "2024-10-30T17:41:18.182223Z"
    },
    "papermill": {
     "duration": 0.738762,
     "end_time": "2024-10-30T17:41:18.185695",
     "exception": false,
     "start_time": "2024-10-30T17:41:17.446933",
     "status": "completed"
    },
    "tags": []
   },
   "outputs": [],
   "source": [
    "sns.displot(data['TotalPowerConsumption'], kde=True) \n",
    "plt.title('Distribution Plot of TotalPowerConsumption')\n",
    "plt.show()\n"
   ]
  },
  {
   "cell_type": "code",
   "execution_count": null,
   "id": "befef878",
   "metadata": {
    "execution": {
     "iopub.execute_input": "2024-10-30T17:41:18.250503Z",
     "iopub.status.busy": "2024-10-30T17:41:18.250048Z",
     "iopub.status.idle": "2024-10-30T17:41:18.452232Z",
     "shell.execute_reply": "2024-10-30T17:41:18.450917Z"
    },
    "papermill": {
     "duration": 0.23739,
     "end_time": "2024-10-30T17:41:18.455314",
     "exception": false,
     "start_time": "2024-10-30T17:41:18.217924",
     "status": "completed"
    },
    "tags": []
   },
   "outputs": [],
   "source": [
    "sns.boxplot(data)\n",
    "plt.show()\n"
   ]
  },
  {
   "cell_type": "code",
   "execution_count": null,
   "id": "8a7dcbf4",
   "metadata": {
    "execution": {
     "iopub.execute_input": "2024-10-30T17:41:18.522788Z",
     "iopub.status.busy": "2024-10-30T17:41:18.522340Z",
     "iopub.status.idle": "2024-10-30T17:41:18.530224Z",
     "shell.execute_reply": "2024-10-30T17:41:18.529050Z"
    },
    "papermill": {
     "duration": 0.04232,
     "end_time": "2024-10-30T17:41:18.532600",
     "exception": false,
     "start_time": "2024-10-30T17:41:18.490280",
     "status": "completed"
    },
    "tags": []
   },
   "outputs": [],
   "source": [
    "x= data.drop(['TotalPowerConsumption'],axis=1)\n",
    "y=data['TotalPowerConsumption']\n"
   ]
  },
  {
   "cell_type": "markdown",
   "id": "84fea093",
   "metadata": {
    "papermill": {
     "duration": 0.030373,
     "end_time": "2024-10-30T17:41:18.593808",
     "exception": false,
     "start_time": "2024-10-30T17:41:18.563435",
     "status": "completed"
    },
    "tags": []
   },
   "source": [
    "## Scaling"
   ]
  },
  {
   "cell_type": "code",
   "execution_count": null,
   "id": "2baa0051",
   "metadata": {
    "execution": {
     "iopub.execute_input": "2024-10-30T17:41:18.660468Z",
     "iopub.status.busy": "2024-10-30T17:41:18.660059Z",
     "iopub.status.idle": "2024-10-30T17:41:18.665218Z",
     "shell.execute_reply": "2024-10-30T17:41:18.664106Z"
    },
    "papermill": {
     "duration": 0.040351,
     "end_time": "2024-10-30T17:41:18.667544",
     "exception": false,
     "start_time": "2024-10-30T17:41:18.627193",
     "status": "completed"
    },
    "tags": []
   },
   "outputs": [],
   "source": [
    "Scaler = StandardScaler()\n"
   ]
  },
  {
   "cell_type": "code",
   "execution_count": null,
   "id": "9f266cc8",
   "metadata": {
    "execution": {
     "iopub.execute_input": "2024-10-30T17:41:18.732473Z",
     "iopub.status.busy": "2024-10-30T17:41:18.732008Z",
     "iopub.status.idle": "2024-10-30T17:41:18.746383Z",
     "shell.execute_reply": "2024-10-30T17:41:18.745161Z"
    },
    "papermill": {
     "duration": 0.050218,
     "end_time": "2024-10-30T17:41:18.749001",
     "exception": false,
     "start_time": "2024-10-30T17:41:18.698783",
     "status": "completed"
    },
    "tags": []
   },
   "outputs": [],
   "source": [
    "x_scaled = Scaler.fit_transform(x) \n"
   ]
  },
  {
   "cell_type": "code",
   "execution_count": null,
   "id": "033cecaa",
   "metadata": {
    "execution": {
     "iopub.execute_input": "2024-10-30T17:41:18.820138Z",
     "iopub.status.busy": "2024-10-30T17:41:18.818854Z",
     "iopub.status.idle": "2024-10-30T17:41:18.834239Z",
     "shell.execute_reply": "2024-10-30T17:41:18.832417Z"
    },
    "papermill": {
     "duration": 0.057276,
     "end_time": "2024-10-30T17:41:18.837472",
     "exception": false,
     "start_time": "2024-10-30T17:41:18.780196",
     "status": "completed"
    },
    "tags": []
   },
   "outputs": [],
   "source": [
    "x_scaled\n"
   ]
  },
  {
   "cell_type": "code",
   "execution_count": null,
   "id": "72b90442",
   "metadata": {
    "execution": {
     "iopub.execute_input": "2024-10-30T17:41:18.912761Z",
     "iopub.status.busy": "2024-10-30T17:41:18.911704Z",
     "iopub.status.idle": "2024-10-30T17:41:18.918627Z",
     "shell.execute_reply": "2024-10-30T17:41:18.917618Z"
    },
    "papermill": {
     "duration": 0.043357,
     "end_time": "2024-10-30T17:41:18.920975",
     "exception": false,
     "start_time": "2024-10-30T17:41:18.877618",
     "status": "completed"
    },
    "tags": []
   },
   "outputs": [],
   "source": [
    "x_scaled.shape\n"
   ]
  },
  {
   "cell_type": "code",
   "execution_count": null,
   "id": "eeec4437",
   "metadata": {
    "execution": {
     "iopub.execute_input": "2024-10-30T17:41:18.985682Z",
     "iopub.status.busy": "2024-10-30T17:41:18.984479Z",
     "iopub.status.idle": "2024-10-30T17:41:18.991920Z",
     "shell.execute_reply": "2024-10-30T17:41:18.990734Z"
    },
    "papermill": {
     "duration": 0.04208,
     "end_time": "2024-10-30T17:41:18.994189",
     "exception": false,
     "start_time": "2024-10-30T17:41:18.952109",
     "status": "completed"
    },
    "tags": []
   },
   "outputs": [],
   "source": [
    "y.shape\n"
   ]
  },
  {
   "cell_type": "code",
   "execution_count": null,
   "id": "6cb8d4ac",
   "metadata": {
    "execution": {
     "iopub.execute_input": "2024-10-30T17:41:19.058424Z",
     "iopub.status.busy": "2024-10-30T17:41:19.057962Z",
     "iopub.status.idle": "2024-10-30T17:41:19.071095Z",
     "shell.execute_reply": "2024-10-30T17:41:19.069948Z"
    },
    "papermill": {
     "duration": 0.048276,
     "end_time": "2024-10-30T17:41:19.073712",
     "exception": false,
     "start_time": "2024-10-30T17:41:19.025436",
     "status": "completed"
    },
    "tags": []
   },
   "outputs": [],
   "source": [
    "x_train,x_test,y_train,y_test= train_test_split(x,y,test_size=0.2,random_state=42)\n"
   ]
  },
  {
   "cell_type": "markdown",
   "id": "2c7769c0",
   "metadata": {
    "papermill": {
     "duration": 0.031029,
     "end_time": "2024-10-30T17:41:19.137621",
     "exception": false,
     "start_time": "2024-10-30T17:41:19.106592",
     "status": "completed"
    },
    "tags": []
   },
   "source": [
    "#### AdFuller Report"
   ]
  },
  {
   "cell_type": "code",
   "execution_count": null,
   "id": "1cf4d95f",
   "metadata": {
    "execution": {
     "iopub.execute_input": "2024-10-30T17:41:19.201486Z",
     "iopub.status.busy": "2024-10-30T17:41:19.201063Z",
     "iopub.status.idle": "2024-10-30T17:41:25.466772Z",
     "shell.execute_reply": "2024-10-30T17:41:25.465551Z"
    },
    "papermill": {
     "duration": 6.301325,
     "end_time": "2024-10-30T17:41:25.470045",
     "exception": false,
     "start_time": "2024-10-30T17:41:19.168720",
     "status": "completed"
    },
    "tags": []
   },
   "outputs": [],
   "source": [
    "from statsmodels.tsa.stattools import adfuller\n",
    "\n",
    "result = adfuller(y_train)\n",
    "print(f'ADF Statistic: {result[0]}')\n",
    "print(f'p-value: {result[1]}')\n"
   ]
  },
  {
   "cell_type": "markdown",
   "id": "9072ea16",
   "metadata": {
    "papermill": {
     "duration": 0.052995,
     "end_time": "2024-10-30T17:41:25.576274",
     "exception": false,
     "start_time": "2024-10-30T17:41:25.523279",
     "status": "completed"
    },
    "tags": []
   },
   "source": [
    "## ARIMA"
   ]
  },
  {
   "cell_type": "code",
   "execution_count": null,
   "id": "23378d88",
   "metadata": {
    "execution": {
     "iopub.execute_input": "2024-10-30T17:41:25.645423Z",
     "iopub.status.busy": "2024-10-30T17:41:25.644392Z",
     "iopub.status.idle": "2024-10-30T17:51:16.844992Z",
     "shell.execute_reply": "2024-10-30T17:51:16.841133Z"
    },
    "papermill": {
     "duration": 591.237266,
     "end_time": "2024-10-30T17:51:16.848691",
     "exception": false,
     "start_time": "2024-10-30T17:41:25.611425",
     "status": "completed"
    },
    "tags": []
   },
   "outputs": [],
   "source": [
    "import pmdarima as pm\n",
    "auto_model = pm.auto_arima(y_train, seasonal=False, trace=True,error_action='ignore', suppress_warnings=True)\n"
   ]
  },
  {
   "cell_type": "code",
   "execution_count": null,
   "id": "f29a9d42",
   "metadata": {
    "execution": {
     "iopub.execute_input": "2024-10-30T17:51:16.949499Z",
     "iopub.status.busy": "2024-10-30T17:51:16.949023Z",
     "iopub.status.idle": "2024-10-30T17:51:23.345440Z",
     "shell.execute_reply": "2024-10-30T17:51:23.344159Z"
    },
    "papermill": {
     "duration": 6.443407,
     "end_time": "2024-10-30T17:51:23.348616",
     "exception": false,
     "start_time": "2024-10-30T17:51:16.905209",
     "status": "completed"
    },
    "tags": []
   },
   "outputs": [],
   "source": [
    "auto_model.fit(y_train)\n"
   ]
  },
  {
   "cell_type": "code",
   "execution_count": null,
   "id": "e40b21ff",
   "metadata": {
    "execution": {
     "iopub.execute_input": "2024-10-30T17:51:23.458900Z",
     "iopub.status.busy": "2024-10-30T17:51:23.457650Z",
     "iopub.status.idle": "2024-10-30T17:51:23.751628Z",
     "shell.execute_reply": "2024-10-30T17:51:23.750517Z"
    },
    "papermill": {
     "duration": 0.348458,
     "end_time": "2024-10-30T17:51:23.754190",
     "exception": false,
     "start_time": "2024-10-30T17:51:23.405732",
     "status": "completed"
    },
    "tags": []
   },
   "outputs": [],
   "source": [
    "arima_pred = auto_model.predict(n_periods=len(y_test))\n"
   ]
  },
  {
   "cell_type": "code",
   "execution_count": null,
   "id": "d8c3ba5f",
   "metadata": {
    "execution": {
     "iopub.execute_input": "2024-10-30T17:51:23.822807Z",
     "iopub.status.busy": "2024-10-30T17:51:23.821792Z",
     "iopub.status.idle": "2024-10-30T17:51:24.243362Z",
     "shell.execute_reply": "2024-10-30T17:51:24.242157Z"
    },
    "papermill": {
     "duration": 0.459631,
     "end_time": "2024-10-30T17:51:24.246918",
     "exception": false,
     "start_time": "2024-10-30T17:51:23.787287",
     "status": "completed"
    },
    "tags": []
   },
   "outputs": [],
   "source": [
    "print(auto_model.summary())\n"
   ]
  },
  {
   "cell_type": "code",
   "execution_count": null,
   "id": "7abd0c38",
   "metadata": {
    "execution": {
     "iopub.execute_input": "2024-10-30T17:51:24.349122Z",
     "iopub.status.busy": "2024-10-30T17:51:24.348700Z",
     "iopub.status.idle": "2024-10-30T17:51:24.356222Z",
     "shell.execute_reply": "2024-10-30T17:51:24.354907Z"
    },
    "papermill": {
     "duration": 0.053608,
     "end_time": "2024-10-30T17:51:24.358608",
     "exception": false,
     "start_time": "2024-10-30T17:51:24.305000",
     "status": "completed"
    },
    "tags": []
   },
   "outputs": [],
   "source": [
    "mse = mean_squared_error(y_test, arima_pred)\n",
    "print(f'Mean Squared Error: {mse}')\n"
   ]
  },
  {
   "cell_type": "markdown",
   "id": "22136279",
   "metadata": {
    "papermill": {
     "duration": 0.033379,
     "end_time": "2024-10-30T17:51:24.425555",
     "exception": false,
     "start_time": "2024-10-30T17:51:24.392176",
     "status": "completed"
    },
    "tags": []
   },
   "source": [
    "## SRIMAX"
   ]
  },
  {
   "cell_type": "code",
   "execution_count": null,
   "id": "9e133d29",
   "metadata": {
    "execution": {
     "iopub.execute_input": "2024-10-30T17:51:24.494682Z",
     "iopub.status.busy": "2024-10-30T17:51:24.494223Z",
     "iopub.status.idle": "2024-10-30T18:01:18.760226Z",
     "shell.execute_reply": "2024-10-30T18:01:18.758849Z"
    },
    "papermill": {
     "duration": 594.303774,
     "end_time": "2024-10-30T18:01:18.763044",
     "exception": false,
     "start_time": "2024-10-30T17:51:24.459270",
     "status": "completed"
    },
    "tags": []
   },
   "outputs": [],
   "source": [
    "auto_model = pm.auto_arima(y_train,seasonal=True, m=24,trace=True, error_action='ignore', suppress_warnings=True)\n"
   ]
  },
  {
   "cell_type": "code",
   "execution_count": null,
   "id": "63574f1d",
   "metadata": {
    "execution": {
     "iopub.execute_input": "2024-10-30T18:01:18.847989Z",
     "iopub.status.busy": "2024-10-30T18:01:18.846849Z",
     "iopub.status.idle": "2024-10-30T18:01:25.288994Z",
     "shell.execute_reply": "2024-10-30T18:01:25.287206Z"
    },
    "papermill": {
     "duration": 6.493088,
     "end_time": "2024-10-30T18:01:25.293549",
     "exception": false,
     "start_time": "2024-10-30T18:01:18.800461",
     "status": "completed"
    },
    "tags": []
   },
   "outputs": [],
   "source": [
    "auto_model.fit(y_train)\n"
   ]
  },
  {
   "cell_type": "code",
   "execution_count": null,
   "id": "7e716ea6",
   "metadata": {
    "execution": {
     "iopub.execute_input": "2024-10-30T18:01:25.409798Z",
     "iopub.status.busy": "2024-10-30T18:01:25.408666Z",
     "iopub.status.idle": "2024-10-30T18:01:25.723068Z",
     "shell.execute_reply": "2024-10-30T18:01:25.721648Z"
    },
    "papermill": {
     "duration": 0.365255,
     "end_time": "2024-10-30T18:01:25.725812",
     "exception": false,
     "start_time": "2024-10-30T18:01:25.360557",
     "status": "completed"
    },
    "tags": []
   },
   "outputs": [],
   "source": [
    "sarimax_pred = auto_model.predict(n_periods=len(y_test))\n"
   ]
  },
  {
   "cell_type": "code",
   "execution_count": null,
   "id": "80272406",
   "metadata": {
    "execution": {
     "iopub.execute_input": "2024-10-30T18:01:25.799710Z",
     "iopub.status.busy": "2024-10-30T18:01:25.799199Z",
     "iopub.status.idle": "2024-10-30T18:01:26.300168Z",
     "shell.execute_reply": "2024-10-30T18:01:26.298940Z"
    },
    "papermill": {
     "duration": 0.541571,
     "end_time": "2024-10-30T18:01:26.304088",
     "exception": false,
     "start_time": "2024-10-30T18:01:25.762517",
     "status": "completed"
    },
    "tags": []
   },
   "outputs": [],
   "source": [
    "print(auto_model.summary())\n"
   ]
  },
  {
   "cell_type": "code",
   "execution_count": null,
   "id": "0b170b0f",
   "metadata": {
    "execution": {
     "iopub.execute_input": "2024-10-30T18:01:26.410812Z",
     "iopub.status.busy": "2024-10-30T18:01:26.409683Z",
     "iopub.status.idle": "2024-10-30T18:01:26.417851Z",
     "shell.execute_reply": "2024-10-30T18:01:26.416639Z"
    },
    "papermill": {
     "duration": 0.057151,
     "end_time": "2024-10-30T18:01:26.419971",
     "exception": false,
     "start_time": "2024-10-30T18:01:26.362820",
     "status": "completed"
    },
    "tags": []
   },
   "outputs": [],
   "source": [
    "mse = mean_squared_error(y_test, sarimax_pred)\n",
    "print(f'Mean Squared Error (SARIMAX): {mse}')\n"
   ]
  },
  {
   "cell_type": "code",
   "execution_count": null,
   "id": "ebc6414d",
   "metadata": {
    "execution": {
     "iopub.execute_input": "2024-10-30T18:01:26.490829Z",
     "iopub.status.busy": "2024-10-30T18:01:26.490390Z",
     "iopub.status.idle": "2024-10-30T18:01:27.891774Z",
     "shell.execute_reply": "2024-10-30T18:01:27.890404Z"
    },
    "papermill": {
     "duration": 1.440321,
     "end_time": "2024-10-30T18:01:27.894850",
     "exception": false,
     "start_time": "2024-10-30T18:01:26.454529",
     "status": "completed"
    },
    "tags": []
   },
   "outputs": [],
   "source": [
    "# Plotting results\n",
    "plt.figure(figsize=(14, 7))\n",
    "plt.plot(x_test.index, y_test, label='Actual', color='black')  # Actual values\n",
    "plt.plot(x_test.index, arima_pred, label='ARIMA Forecast', color='blue')  # ARIMA forecast\n",
    "plt.plot(x_test.index, sarimax_pred, label='SARIMAX Forecast', color='orange')  # SARIMAX forecast\n",
    "plt.title('Forecast vs Actuals')\n",
    "plt.xlabel('Date')\n",
    "plt.ylabel('Power Consumption')\n",
    "plt.legend()\n",
    "plt.show()\n"
   ]
  },
  {
   "cell_type": "code",
   "execution_count": null,
   "id": "28b1bd81",
   "metadata": {
    "execution": {
     "iopub.execute_input": "2024-10-30T18:01:27.978503Z",
     "iopub.status.busy": "2024-10-30T18:01:27.977418Z",
     "iopub.status.idle": "2024-10-30T18:03:34.906227Z",
     "shell.execute_reply": "2024-10-30T18:03:34.904902Z"
    },
    "papermill": {
     "duration": 127.007895,
     "end_time": "2024-10-30T18:03:34.945804",
     "exception": false,
     "start_time": "2024-10-30T18:01:27.937909",
     "status": "completed"
    },
    "tags": []
   },
   "outputs": [],
   "source": [
    "# Prepare the x-axis positions\n",
    "x_positions = np.arange(len(x_test))\n",
    "\n",
    "# Create the bar width\n",
    "bar_width = 0.25\n",
    "\n",
    "# Plotting results using bar charts\n",
    "plt.figure(figsize=(14, 7))\n",
    "\n",
    "# Actual values\n",
    "plt.bar(x_positions, y_test, width=bar_width, label='Actual', color='black', alpha=0.6)\n",
    "\n",
    "# ARIMA forecast\n",
    "plt.bar(x_positions + bar_width, arima_pred, width=bar_width, label='ARIMA Forecast', color='blue', alpha=0.6)\n",
    "\n",
    "# SARIMAX forecast\n",
    "plt.bar(x_positions + 2 * bar_width, sarimax_pred, width=bar_width, label='SARIMAX Forecast', color='orange', alpha=0.6)\n",
    "\n",
    "# Adding titles and labels\n",
    "plt.title('Forecast vs Actuals')\n",
    "plt.xlabel('Time Periods')\n",
    "plt.ylabel('Power Consumption')\n",
    "plt.xticks(x_positions + bar_width, x_test.index.date, rotation=45)  # Rotate date labels for better readability\n",
    "plt.legend()\n",
    "plt.tight_layout()  # Adjust layout to prevent clipping of tick-labels\n",
    "plt.show()\n"
   ]
  },
  {
   "cell_type": "code",
   "execution_count": null,
   "id": "7058db4e",
   "metadata": {
    "papermill": {
     "duration": 0.039262,
     "end_time": "2024-10-30T18:03:35.022447",
     "exception": false,
     "start_time": "2024-10-30T18:03:34.983185",
     "status": "completed"
    },
    "tags": []
   },
   "outputs": [],
   "source": []
  },
  {
   "cell_type": "code",
   "execution_count": null,
   "id": "837005ae",
   "metadata": {
    "papermill": {
     "duration": 0.038288,
     "end_time": "2024-10-30T18:03:35.099959",
     "exception": false,
     "start_time": "2024-10-30T18:03:35.061671",
     "status": "completed"
    },
    "tags": []
   },
   "outputs": [],
   "source": []
  }
 ],
 "metadata": {
  "kaggle": {
   "accelerator": "none",
   "dataSources": [
    {
     "datasetId": 2380926,
     "sourceId": 4017301,
     "sourceType": "datasetVersion"
    }
   ],
   "dockerImageVersionId": 30786,
   "isGpuEnabled": false,
   "isInternetEnabled": true,
   "language": "python",
   "sourceType": "notebook"
  },
  "kernelspec": {
   "display_name": "Python 3",
   "language": "python",
   "name": "python3"
  },
  "language_info": {
   "codemirror_mode": {
    "name": "ipython",
    "version": 3
   },
   "file_extension": ".py",
   "mimetype": "text/x-python",
   "name": "python",
   "nbconvert_exporter": "python",
   "pygments_lexer": "ipython3",
   "version": "3.12.8"
  },
  "papermill": {
   "default_parameters": {},
   "duration": 1387.572039,
   "end_time": "2024-10-30T18:03:37.860791",
   "environment_variables": {},
   "exception": null,
   "input_path": "__notebook__.ipynb",
   "output_path": "__notebook__.ipynb",
   "parameters": {},
   "start_time": "2024-10-30T17:40:30.288752",
   "version": "2.6.0"
  }
 },
 "nbformat": 4,
 "nbformat_minor": 5
}
